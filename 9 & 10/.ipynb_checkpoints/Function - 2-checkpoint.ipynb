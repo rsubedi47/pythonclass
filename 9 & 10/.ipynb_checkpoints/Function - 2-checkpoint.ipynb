{
 "cells": [
  {
   "cell_type": "code",
   "execution_count": null,
   "id": "d0cd4f3d",
   "metadata": {},
   "outputs": [],
   "source": [
    "### Lambda Functions #######"
   ]
  },
  {
   "cell_type": "code",
   "execution_count": 2,
   "id": "5f447277",
   "metadata": {},
   "outputs": [],
   "source": [
    "# Syntax\n",
    "#  lamda <arguments> :<expressions>\n",
    "\n",
    "#example:\n"
   ]
  },
  {
   "cell_type": "code",
   "execution_count": 4,
   "id": "322a944f",
   "metadata": {},
   "outputs": [
    {
     "data": {
      "text/plain": [
       "4"
      ]
     },
     "execution_count": 4,
     "metadata": {},
     "output_type": "execute_result"
    }
   ],
   "source": [
    "# example 1\n",
    "\n",
    "x = lambda a : a**2    # here, x is an object. It is neither variable nor functions. ie x is used to hold operation\n",
    "x(2)    # i.e a ( argument ma) ma 2 send gareko"
   ]
  },
  {
   "cell_type": "code",
   "execution_count": 5,
   "id": "77033a10",
   "metadata": {},
   "outputs": [
    {
     "data": {
      "text/plain": [
       "'hello world'"
      ]
     },
     "execution_count": 5,
     "metadata": {},
     "output_type": "execute_result"
    }
   ],
   "source": [
    "# lower()\n",
    "\n",
    "x = lambda a :a.lower()\n",
    "x (\"Hello World\")"
   ]
  },
  {
   "cell_type": "code",
   "execution_count": 7,
   "id": "efcc3bf5",
   "metadata": {},
   "outputs": [
    {
     "data": {
      "text/plain": [
       "50"
      ]
     },
     "execution_count": 7,
     "metadata": {},
     "output_type": "execute_result"
    }
   ],
   "source": [
    "## ARea\n",
    "\n",
    "area = lambda l,b : l*b\n",
    "area(10,5)"
   ]
  },
  {
   "cell_type": "code",
   "execution_count": null,
   "id": "80526fba",
   "metadata": {},
   "outputs": [],
   "source": [
    "######## Concept of Filtering #######\n",
    "\n",
    "    # filter(<boolean_condition>, list)"
   ]
  },
  {
   "cell_type": "code",
   "execution_count": 14,
   "id": "44b01b7b",
   "metadata": {},
   "outputs": [
    {
     "data": {
      "text/plain": [
       "[4, 4, 6, 8, 6, 8]"
      ]
     },
     "execution_count": 14,
     "metadata": {},
     "output_type": "execute_result"
    }
   ],
   "source": [
    "## pahile hamile for loop lagayera garthiu\n",
    "    # using logical expression\n",
    "\n",
    "## even\n",
    "    \n",
    "l = [4,4,6,8,3,6,8,9]\n",
    "even = list(filter(lambda a: a%2 == 0, l))   # l vanne list ko value lai liyera check gara ani true lai list gara\n",
    "even\n",
    "\n"
   ]
  },
  {
   "cell_type": "code",
   "execution_count": 25,
   "id": "159fbbca",
   "metadata": {},
   "outputs": [
    {
     "data": {
      "text/plain": [
       "[3, 9]"
      ]
     },
     "execution_count": 25,
     "metadata": {},
     "output_type": "execute_result"
    }
   ],
   "source": [
    "#odd\n",
    "\n",
    "l = [4,4,6,8,3,6,8,9]\n",
    "odd = list(filter(lambda a: a%2 != 0, l))   # l vanne list ko value lai liyera check gara ani true lai list gara\n",
    "odd"
   ]
  },
  {
   "cell_type": "code",
   "execution_count": 13,
   "id": "ad984476",
   "metadata": {},
   "outputs": [
    {
     "data": {
      "text/plain": [
       "(4, 4, 6, 8, 6, 8)"
      ]
     },
     "execution_count": 13,
     "metadata": {},
     "output_type": "execute_result"
    }
   ],
   "source": [
    "\n",
    "l1 = [4,4,6,8,3,6,8,9]\n",
    "e = tuple(filter(lambda a: a%2 == 0, l1))   # l vanne list ko value lai liyera check gara ani true lai list gara\n",
    "e"
   ]
  },
  {
   "cell_type": "code",
   "execution_count": 24,
   "id": "d3d633c1",
   "metadata": {},
   "outputs": [
    {
     "data": {
      "text/plain": [
       "('Apple', 'Ball', 'Cat', 'Dog', 'Fish')"
      ]
     },
     "execution_count": 24,
     "metadata": {},
     "output_type": "execute_result"
    }
   ],
   "source": [
    "## first letter upper vayeko lai  = isupper()    ### !!!!! ###\n",
    "\n",
    "l = [\"Apple\",\"Ball\",\"Cat\",\"Dog\",\"Fish\",\"zebra\",\"xray\"]\n",
    "small = tuple(filter(lambda a:a[0].isupper(),l))    # 0 index = each time l ko value lai a ma linxa so, sabai every time 0 index i.e apple ko A lai herxa\n",
    "small"
   ]
  },
  {
   "cell_type": "code",
   "execution_count": 23,
   "id": "d42d60e6",
   "metadata": {},
   "outputs": [
    {
     "name": "stdout",
     "output_type": "stream",
     "text": [
      "True\n",
      "False\n"
     ]
    }
   ],
   "source": [
    "print(\"Apple\"[0].isupper()) # yesle first letter herxa\n",
    "\n",
    "print(\"Apple\".isupper()) # yeslai sabailai herxa"
   ]
  },
  {
   "cell_type": "code",
   "execution_count": 32,
   "id": "9a279a6b",
   "metadata": {},
   "outputs": [
    {
     "data": {
      "text/plain": [
       "('Apple', 'Cat', 'Dog', 'Fish')"
      ]
     },
     "execution_count": 32,
     "metadata": {},
     "output_type": "execute_result"
    }
   ],
   "source": [
    "# filter and AND operator = multiple expression\n",
    "\n",
    "l = [\"Apple\",\"BAll\",\"Cat\",\"Dog\",\"Fish\",\"zebra\",\"xray\"]\n",
    "small = tuple(filter(lambda a:(a[0].isupper() and a[1].islower()),l))    # 0 index = each time l ko value lai a ma linxa so, sabai every time 0 index i.e apple ko A lai herxa\n",
    "small   # BAll lai return garena"
   ]
  },
  {
   "cell_type": "code",
   "execution_count": 2,
   "id": "e706f93f",
   "metadata": {},
   "outputs": [],
   "source": [
    "################################ Mapping ######################"
   ]
  },
  {
   "cell_type": "code",
   "execution_count": null,
   "id": "d10ac6df",
   "metadata": {},
   "outputs": [],
   "source": []
  },
  {
   "cell_type": "code",
   "execution_count": 27,
   "id": "910b73cd",
   "metadata": {},
   "outputs": [
    {
     "data": {
      "text/plain": [
       "[2, 4, 6, 8, 10, 12, 14, 16, 18]"
      ]
     },
     "execution_count": 27,
     "metadata": {},
     "output_type": "execute_result"
    }
   ],
   "source": [
    "# multiply for items of a list= map()## operation on each and every value of list\n",
    "\n",
    "a = [1,2,3,4,5,6,7,8,9]\n",
    "b = list(map(lambda x:x*2,a))\n",
    "b"
   ]
  },
  {
   "cell_type": "code",
   "execution_count": 28,
   "id": "db15b61a",
   "metadata": {},
   "outputs": [
    {
     "data": {
      "text/plain": [
       "['apple', 'ball', 'cat', 'dog', 'fish', 'zebra', 'xray']"
      ]
     },
     "execution_count": 28,
     "metadata": {},
     "output_type": "execute_result"
    }
   ],
   "source": [
    "## list ma directly lower() garne??  = using map\n",
    "\n",
    "l = [\"Apple\",\"Ball\",\"Cat\",\"Dog\",\"Fish\",\"Zebra\",\"xray\"]\n",
    "b = list(map(lambda x:x.lower(),l))\n",
    "b"
   ]
  },
  {
   "cell_type": "code",
   "execution_count": 29,
   "id": "36d5680b",
   "metadata": {},
   "outputs": [
    {
     "data": {
      "text/plain": [
       "['Apple', 'Ball', 'Cat', 'Dog', 'Fish', 'Zebra', 'xray']"
      ]
     },
     "execution_count": 29,
     "metadata": {},
     "output_type": "execute_result"
    }
   ],
   "source": [
    "## space lai remove using map\n",
    "\n",
    "l = ( \"Apple \",\"Ball \",\"Cat \",\"Dog \",\"Fish \",\"Zebra \",\"xray \")   # yo tuple vayepani farak pardaina\n",
    "b = list(map(lambda x:x.replace(' ',''),l))\n",
    "b"
   ]
  },
  {
   "cell_type": "code",
   "execution_count": null,
   "id": "9cfb7456",
   "metadata": {},
   "outputs": [],
   "source": [
    "################# Recursive Function ########################"
   ]
  },
  {
   "cell_type": "code",
   "execution_count": null,
   "id": "959e268d",
   "metadata": {},
   "outputs": [],
   "source": [
    "\n",
    "## will be in loop\n",
    "def hello():\n",
    "    print(\"Hello World\")\n",
    "    hello()"
   ]
  },
  {
   "cell_type": "code",
   "execution_count": 33,
   "id": "09eb05fd",
   "metadata": {},
   "outputs": [
    {
     "name": "stdout",
     "output_type": "stream",
     "text": [
      "HEllo World\n",
      "Enter Y for more print =y\n",
      "HEllo World\n",
      "Enter Y for more print =y\n",
      "HEllo World\n",
      "Enter Y for more print =x\n"
     ]
    }
   ],
   "source": [
    "# example 2\n",
    "\n",
    "def hello():\n",
    "    print(\"HEllo World\")\n",
    "    x = input(\"Enter Y for more print =\")\n",
    "    if x == 'y':\n",
    "        hello()\n",
    "hello()"
   ]
  },
  {
   "cell_type": "code",
   "execution_count": 41,
   "id": "93f64b9d",
   "metadata": {},
   "outputs": [
    {
     "name": "stdout",
     "output_type": "stream",
     "text": [
      "Welcome to our website.\n",
      "Enter username : adadd\n",
      "Enter password: adad\n",
      "Login Failed. Please enter the correct username and password.\n",
      "Welcome to our website.\n",
      "Enter username : adad\n",
      "Enter password: adada\n",
      "Login Failed. Please enter the correct username and password.\n",
      "Welcome to our website.\n",
      "Enter username : admin\n",
      "Enter password: admin\n",
      "You are logged in 3attempt \n"
     ]
    }
   ],
   "source": [
    "## Type 1  # logic mistake \n",
    "\n",
    "username1 = \"admin\"\n",
    "password1 = \"admin\"\n",
    "\n",
    "c = 1\n",
    "\n",
    "def login():\n",
    "    \n",
    "    global c   # function vitra ko variable increment hudaina so,global banaunuparxa\n",
    "    \n",
    "    print(\"Welcome to our website.\")\n",
    "    username = input(\"Enter username : \")\n",
    "    password = input(\"Enter password: \")\n",
    "    \n",
    "    if (username != username1 and password != password1):     ## yaha OR hunuprax  # user ra pass milena vane feri login() lai call garea magne i.e. kati palta loop laune thah xaina\n",
    "        print(\"Login Failed. Please enter the correct username and password.\")\n",
    "        \n",
    "        c =c+1\n",
    "        login()\n",
    "        \n",
    "    else:\n",
    "        print(f\"You are logged in {c} attempt \")\n",
    "\n",
    "login()"
   ]
  },
  {
   "cell_type": "code",
   "execution_count": null,
   "id": "938dd32d",
   "metadata": {},
   "outputs": [
    {
     "name": "stdout",
     "output_type": "stream",
     "text": [
      "Welcome to our website.\n",
      "Enter username : admin\n",
      "Enter password: adm\n",
      "Login Failed. Please enter the correct username and password.\n",
      "Welcome to our website.\n",
      "Enter username : admin\n",
      "Enter password: admin\n",
      "Login Failed. Please enter the correct username and password.\n",
      "Welcome to our website.\n"
     ]
    }
   ],
   "source": [
    "### Login Form = using recursive functions ###\n",
    "\n",
    "\n",
    "username1 = \"admin\"\n",
    "password1 = \"admin\"\n",
    "\n",
    "c = 1\n",
    "\n",
    "print(\"Welcome to our website.\")\n",
    "\n",
    "def login():\n",
    "    \n",
    "    global c   # function vitra ko variable increment hudaina so,global banaunuparxa\n",
    "    username = input(\"Enter username : \")\n",
    "    password = input(\"Enter password: \")\n",
    "    \n",
    "    if (username != username1 and password != password1):    # user ra pass milena vane feri login() lai call garea magne i.e. kati palta loop laune thah xaina\n",
    "        print(f\"You are logged in {c} attempt \")\n",
    "        \n",
    "        \n",
    "    else:\n",
    "        print(\"Login Failed. Please enter the correct username and password.\")\n",
    "        c =c+1\n",
    "        login()    # recursion\n",
    "\n",
    "login()"
   ]
  }
 ],
 "metadata": {
  "kernelspec": {
   "display_name": "Python 3 (ipykernel)",
   "language": "python",
   "name": "python3"
  },
  "language_info": {
   "codemirror_mode": {
    "name": "ipython",
    "version": 3
   },
   "file_extension": ".py",
   "mimetype": "text/x-python",
   "name": "python",
   "nbconvert_exporter": "python",
   "pygments_lexer": "ipython3",
   "version": "3.9.13"
  }
 },
 "nbformat": 4,
 "nbformat_minor": 5
}
