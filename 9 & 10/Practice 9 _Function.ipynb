{
 "cells": [
  {
   "cell_type": "code",
   "execution_count": 1,
   "id": "0acd725a",
   "metadata": {},
   "outputs": [
    {
     "name": "stdout",
     "output_type": "stream",
     "text": [
      "6\n",
      "24\n",
      "120\n"
     ]
    }
   ],
   "source": [
    "## Recursion\n",
    "\n",
    "# factorial (7) = 7*6*5*4*3*2*1\n",
    "# fact (6) = 6*5*4*3*2*1\n",
    "# fact (5) = 5*4*3*2*1\n",
    "# fact (4) = 4*3*2*1\n",
    "# fact (3) = 3*2*1\n",
    "# fact (2) = 2*1\n",
    "# fat (0) = 1\n",
    "\n",
    "def factorial(n):\n",
    "    if (n == 0 or n ==1):\n",
    "        return 1\n",
    "    else:\n",
    "        return n*factorial(n-1)   ## same fuction has been called here\n",
    "\n",
    "print(factorial(3))\n",
    "print(factorial(4))\n",
    "print(factorial(5))\n"
   ]
  },
  {
   "cell_type": "code",
   "execution_count": null,
   "id": "91967c17",
   "metadata": {},
   "outputs": [],
   "source": []
  },
  {
   "cell_type": "code",
   "execution_count": 51,
   "id": "4b130cdc",
   "metadata": {},
   "outputs": [
    {
     "name": "stdout",
     "output_type": "stream",
     "text": [
      "22:15:39\n",
      "22\n",
      "Good Afternoon\n"
     ]
    }
   ],
   "source": [
    "### Greets the user as per time\n",
    "\n",
    "import time\n",
    "timestamp = time.strftime('%H:%M:%S')\n",
    "print(timestamp)\n",
    "\n",
    "timehr =time.strftime('%H')  # this is string\n",
    "print(timehr)\n",
    "\n",
    "if timehr >= '12':\n",
    "    print(\"Good Afternoon\")\n",
    "else:\n",
    "    print(\"Good Morning\")\n"
   ]
  },
  {
   "cell_type": "code",
   "execution_count": 12,
   "id": "d51897d6",
   "metadata": {},
   "outputs": [
    {
     "name": "stdout",
     "output_type": "stream",
     "text": [
      "[('Social sciences', 82), ('English', 88), ('Science', 90), ('Maths', 97)]\n"
     ]
    }
   ],
   "source": [
    "##  sorting with lambda\n",
    "# Original list of tuples:\n",
    "#[('English', 88), ('Science', 90), ('Maths', 97), ('Social sciences', 82)]\n",
    "# Sorting the List of Tuples:\n",
    "# [('Social sciences', 82), ('English', 88), ('Science', 90), ('Maths', 97)]\n",
    "\n",
    "# The value of the 'key' parameter should be a function (or other callable) that takes a single argument and returns a key to use for sorting purposes. This technique is fast because the key function is called exactly once for each input record.\n",
    "\n",
    "l= [('English', 88), ('Science', 90), ('Maths', 97), ('Social sciences', 82)]\n",
    "\n",
    "l.sort(key = lambda x : x[1])\n",
    "print(l)\n"
   ]
  },
  {
   "cell_type": "code",
   "execution_count": 13,
   "id": "4889610b",
   "metadata": {},
   "outputs": [],
   "source": [
    "#Q2  sorting reverse based on model numberr\n",
    "\n",
    "# Write a Python program to sort a list of dictionaries using Lambda. Go to the editor\n",
    "# Original list of dictionaries :\n",
    "# [{'make': 'Nokia', 'model': 216, 'color': 'Black'}, {'make': 'Mi Max', 'model': '2', 'color': 'Gold'}, {'make': 'Samsung', 'model': 7, 'color': 'Blue'}]\n",
    "# Sorting the List of dictionaries :\n",
    "# [{'make': 'Nokia', 'model': 216, 'color': 'Black'}, {'make': 'Samsung', 'model': 7, 'color': 'Blue'}, {'make': 'Mi Max', 'model': '2', 'color': 'Gold'}]"
   ]
  },
  {
   "cell_type": "code",
   "execution_count": 27,
   "id": "8f8b7e06",
   "metadata": {},
   "outputs": [
    {
     "name": "stdout",
     "output_type": "stream",
     "text": [
      "216\n"
     ]
    }
   ],
   "source": [
    "## Ans Q2:\n",
    "info =[{'make': 'Nokia', 'model': 216, 'color': 'Black'}, {'make': 'Mi Max', 'model': '2', 'color': 'Gold'}, {'make': 'Samsung', 'model': 7, 'color': 'Blue'}]\n",
    "\n",
    "a = info[0]['model']\n",
    "print(a)"
   ]
  }
 ],
 "metadata": {
  "kernelspec": {
   "display_name": "Python 3 (ipykernel)",
   "language": "python",
   "name": "python3"
  },
  "language_info": {
   "codemirror_mode": {
    "name": "ipython",
    "version": 3
   },
   "file_extension": ".py",
   "mimetype": "text/x-python",
   "name": "python",
   "nbconvert_exporter": "python",
   "pygments_lexer": "ipython3",
   "version": "3.9.13"
  }
 },
 "nbformat": 4,
 "nbformat_minor": 5
}
