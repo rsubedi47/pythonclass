{
 "cells": [
  {
   "cell_type": "code",
   "execution_count": 2,
   "id": "da3ce962",
   "metadata": {},
   "outputs": [],
   "source": [
    "## Types = predefined and user-defined"
   ]
  },
  {
   "cell_type": "code",
   "execution_count": null,
   "id": "e54be114",
   "metadata": {},
   "outputs": [],
   "source": [
    "## Predefined functions \n",
    "    # Print() int() tuple() dict ()"
   ]
  },
  {
   "cell_type": "code",
   "execution_count": null,
   "id": "7515ccda",
   "metadata": {},
   "outputs": [],
   "source": [
    "## User defined\n",
    "\n",
    "    # defining function\n",
    "    \n",
    "   # def <function_name>():\n",
    "        #<Operations>\n",
    "    \n",
    "    # calling function\n",
    "        #<function_name>()"
   ]
  },
  {
   "cell_type": "code",
   "execution_count": 4,
   "id": "e0d05390",
   "metadata": {},
   "outputs": [
    {
     "name": "stdout",
     "output_type": "stream",
     "text": [
      "Hello World\n",
      "Hello World\n"
     ]
    }
   ],
   "source": [
    "\n",
    "def hello():       # defining function\n",
    "    print(\"Hello World\")\n",
    "\n",
    "hello()  # calling the function\n",
    "hello()"
   ]
  },
  {
   "cell_type": "code",
   "execution_count": 5,
   "id": "852e63df",
   "metadata": {},
   "outputs": [
    {
     "name": "stdout",
     "output_type": "stream",
     "text": [
      "Enter the value of l= 58\n",
      "Enter the value of b= 55\n",
      "Enter the value of h= 56\n",
      "178640\n"
     ]
    }
   ],
   "source": [
    "def volume():\n",
    "    l = int(input(\"Enter the value of l= \"))  # local variable\n",
    "    b = int(input(\"Enter the value of b= \"))\n",
    "    h = int(input(\"Enter the value of h= \"))\n",
    "    v= l*b*h\n",
    "    print(v)\n",
    "\n",
    "volume()"
   ]
  },
  {
   "cell_type": "code",
   "execution_count": null,
   "id": "dd1c4b22",
   "metadata": {},
   "outputs": [],
   "source": [
    "l = int(input(\"Enter the value of l= \"))  # Global variable\n",
    "b = int(input(\"Enter the value of b= \"))\n",
    "h = int(input(\"Enter the value of h= \"))\n",
    "\n",
    "def volume():\n",
    "    v= l*b*h\n",
    "    print(v)\n",
    "\n",
    "volume()"
   ]
  },
  {
   "cell_type": "code",
   "execution_count": null,
   "id": "5b70059a",
   "metadata": {},
   "outputs": [],
   "source": [
    "## Creating global varible inside a function\n",
    "\n",
    "# Type 1:  function with no return type and no argument\n",
    "\n",
    "def volume():\n",
    "    \n",
    "    global l,b,h   # delclaring global variable\n",
    "    \n",
    "    l = int(input(\"Enter the value of l= \"))  # Global variable\n",
    "    b = int(input(\"Enter the value of b= \")) # Global variable\n",
    "    h = int(input(\"Enter the value of h= \")) # Global variable\n",
    "    v= l*b*h\n",
    "    print(v)\n",
    "\n",
    "volume()"
   ]
  },
  {
   "cell_type": "code",
   "execution_count": null,
   "id": "e62f3968",
   "metadata": {},
   "outputs": [],
   "source": [
    "############# TYpes######################"
   ]
  },
  {
   "cell_type": "code",
   "execution_count": null,
   "id": "4f8a026e",
   "metadata": {},
   "outputs": [],
   "source": [
    "##  function with  return type and no argument\n",
    "##  function with no return type and no argument\n",
    "## function with  return type and no argument\n",
    "## function with   no return type and  argument\n"
   ]
  },
  {
   "cell_type": "code",
   "execution_count": 6,
   "id": "ca59b92c",
   "metadata": {},
   "outputs": [
    {
     "name": "stdout",
     "output_type": "stream",
     "text": [
      "Enter the value of l= 25\n",
      "Enter the value of b= 45\n",
      "Enter the value of h= 65\n",
      "73125\n",
      "1125\n"
     ]
    }
   ],
   "source": [
    "# Type2 : function with no return type and  argument\n",
    "\n",
    "\n",
    "def volume(x,y,z):  # x ,y,z are parameters\n",
    "    v= x *y*z\n",
    "    print(v)\n",
    "\n",
    "def area(i,j):\n",
    "    a = i*j\n",
    "    print(a)\n",
    "    \n",
    "l = int(input(\"Enter the value of l= \"))  # Global variable\n",
    "b = int(input(\"Enter the value of b= \")) # Global variable\n",
    "h = int(input(\"Enter the value of h= \")) # Global variable\n",
    "    \n",
    "volume(l,b,h)  # l,b,h are arguments\n",
    "area(l,b)"
   ]
  },
  {
   "cell_type": "code",
   "execution_count": 9,
   "id": "d208ac80",
   "metadata": {},
   "outputs": [
    {
     "name": "stdout",
     "output_type": "stream",
     "text": [
      " Hello World\n"
     ]
    }
   ],
   "source": [
    "## Return Type Function ???\n",
    "## Type 3 : Return Type with no argument\n",
    "\n",
    "def hello():\n",
    "    return \" Hello World\"    # yahi print gareko vaye return hudaina \n",
    "\n",
    "x = hello()  # hello lai call gara ani return gareko value lai x ma store gara\n",
    "print(x) \n"
   ]
  },
  {
   "cell_type": "code",
   "execution_count": 13,
   "id": "baae56a1",
   "metadata": {},
   "outputs": [
    {
     "name": "stdout",
     "output_type": "stream",
     "text": [
      "Enter the value of l= 25\n",
      "Enter the value of b= 55\n",
      "Enter the value of h= 5\n",
      "The area is 1375\n",
      "6875\n",
      "6875\n"
     ]
    }
   ],
   "source": [
    "## Type 4 : Return Type with  argument\n",
    "\n",
    "\n",
    "def area(x,y):\n",
    "    a = x*y\n",
    "    return a     ## function call garda a chai return hune ho\n",
    "    \n",
    "l = int(input(\"Enter the value of l= \"))  # Global variable\n",
    "b = int(input(\"Enter the value of b= \")) # Global variable\n",
    "h = int(input(\"Enter the value of h= \"))  \n",
    "\n",
    "ar = area(l,b)  # return gareko value(i.e a lai return gareko xa) yaha aauxa ani print hunxa\n",
    "v1 = ar * h\n",
    "\n",
    "v = area (l,b) * h  #directly\n",
    "\n",
    "\n",
    "print(\"The area is\", ar)\n",
    "print(v)\n",
    "print(v1)"
   ]
  },
  {
   "cell_type": "code",
   "execution_count": 14,
   "id": "9ac3de14",
   "metadata": {},
   "outputs": [
    {
     "name": "stdout",
     "output_type": "stream",
     "text": [
      "Enter the value of l= 45\n",
      "Enter the value of b= 65\n",
      "Enter the value of h= 5\n",
      "(2925, 14625)\n"
     ]
    }
   ],
   "source": [
    "## multiple returns\n",
    "\n",
    "def cal(x,y,z):\n",
    "    a = x*y\n",
    "    v = a *h \n",
    "    return a,v     ## function call garda a,v ko value chai return hune ho\n",
    "    \n",
    "l = int(input(\"Enter the value of l= \"))  # Global variable\n",
    "b = int(input(\"Enter the value of b= \")) # Global variable\n",
    "h = int(input(\"Enter the value of h= \"))  \n",
    "\n",
    "c = cal(l,b,h)    ## a ra v ko value return vayera store hunxa\n",
    "print(c)      ## multiple value return garda tuple ma return garxa i.e. ( immutable)"
   ]
  },
  {
   "cell_type": "code",
   "execution_count": 21,
   "id": "943de0ee",
   "metadata": {},
   "outputs": [
    {
     "name": "stdout",
     "output_type": "stream",
     "text": [
      "Enter the value of l= 55\n",
      "Enter the value of b= 45\n",
      "Enter the value of h= 5\n",
      "(2475, 12375)\n",
      "The area = , 2475\n",
      "The volume =  12375\n"
     ]
    }
   ],
   "source": [
    "## multiple returns .2     ##############!!!!!!!!!\n",
    "\n",
    "def cal(x,y,z):\n",
    "    a = x*y\n",
    "    v = a *h \n",
    "    return a,v     ## function call garda a,v ko value chai return hune ho\n",
    "    \n",
    "l = int(input(\"Enter the value of l= \"))  # Global variable\n",
    "b = int(input(\"Enter the value of b= \")) # Global variable\n",
    "h = int(input(\"Enter the value of h= \"))  \n",
    "\n",
    "c = cal(l,b,h)    ## a ra v ko value return vayera store hunxa\n",
    "print(c)      ## multiple value return garda tuple ma return garxa i.e. ( immutable)\n",
    "\n",
    "area,volume = c  ## c ma aarune suruko area ani volumne## tuple ma aayeko lai separate gareko\n",
    "\n",
    "print(\"The area = \",area)\n",
    "print( 'The volume = ',volume)"
   ]
  },
  {
   "cell_type": "code",
   "execution_count": 24,
   "id": "65b0d4be",
   "metadata": {},
   "outputs": [
    {
     "name": "stdout",
     "output_type": "stream",
     "text": [
      "Enter the value of l= 45\n",
      "Enter the value of b= 55\n",
      "Enter the value of h= 5\n",
      "(2475, 12375)\n",
      "The area =  2475\n",
      "The volume =  12375\n"
     ]
    }
   ],
   "source": [
    "##############!!!!!!!!!\n",
    "\n",
    "\n",
    "## to reduce number of arguments = use list,tuple to send values = less memory\n",
    "\n",
    "## tuple as a argument\n",
    "\n",
    "def cal(lbh):\n",
    "    l,b,h = lbh\n",
    "    a = l*b\n",
    "    v = a *h \n",
    "    return a,v     ## function call garda a,v ko value chai return hune ho\n",
    "    \n",
    "l = int(input(\"Enter the value of l= \"))  # Global variable\n",
    "b = int(input(\"Enter the value of b= \")) # Global variable\n",
    "h = int(input(\"Enter the value of h= \"))  \n",
    "\n",
    "values = (l,b,h)   # tuple = lightweight\n",
    "\n",
    "c = cal(values)  # function ma euta matra variable i.e tuple use garera send gariyo. for submitting form\n",
    "\n",
    "print(c)      \n",
    "rea,volume = c  ## c ma aarune suruko area ani volumne## tuple ma aayeko lai separate gareko\n",
    "\n",
    "print(\"The area = \",area)\n",
    "print( 'The volume = ',volume)"
   ]
  },
  {
   "cell_type": "code",
   "execution_count": 19,
   "id": "6da5ce49",
   "metadata": {},
   "outputs": [
    {
     "data": {
      "text/plain": [
       "(10, 11)"
      ]
     },
     "execution_count": 19,
     "metadata": {},
     "output_type": "execute_result"
    }
   ],
   "source": [
    "a = 10, 11\n",
    "a"
   ]
  },
  {
   "cell_type": "code",
   "execution_count": 28,
   "id": "c5339eaf",
   "metadata": {},
   "outputs": [
    {
     "name": "stdout",
     "output_type": "stream",
     "text": [
      "Enter a 4\n",
      "Enter b 5\n",
      "Enter operator : +\n",
      "9\n"
     ]
    }
   ],
   "source": [
    "def add(x,y):\n",
    "    return(x+y)\n",
    "\n",
    "def sub(a,b):\n",
    "    return a-b\n",
    "\n",
    "def mul(c,d):\n",
    "    return c*d\n",
    "\n",
    "\n",
    "a = int(input(\"Enter a \"))\n",
    "b = int(input(\"Enter b \"))\n",
    "o = input(\"Enter operator : \")\n",
    "\n",
    "if o == '+':\n",
    "    print(add(a,b))\n"
   ]
  },
  {
   "cell_type": "code",
   "execution_count": 29,
   "id": "8ea44107",
   "metadata": {},
   "outputs": [
    {
     "name": "stdout",
     "output_type": "stream",
     "text": [
      "C\n",
      "Java\n",
      "C++\n",
      "Python\n"
     ]
    }
   ],
   "source": [
    "## kun case ma parameter = argument navayepani hunxa   = i.e. parameter mai value define vayeko bela\n",
    "\n",
    "def language (lan =\"Python\"): # function vitra define garna milxa\n",
    "    print(lan)\n",
    "    \n",
    "language(\"C\")# lan ma c gayera replace hunxa// override  i.e argument ma vayeko lai priority\n",
    "language(\"Java\")\n",
    "language(\"C++\")\n",
    "language( )\n"
   ]
  },
  {
   "cell_type": "code",
   "execution_count": 30,
   "id": "00b0d90e",
   "metadata": {},
   "outputs": [
    {
     "name": "stdout",
     "output_type": "stream",
     "text": [
      "('C', <class 'str'>)\n",
      "('Java', <class 'str'>)\n",
      "('C++', <class 'str'>)\n",
      "('Python', <class 'str'>)\n"
     ]
    }
   ],
   "source": [
    "def language (lan =\"Python\"): # function vitra define garna milxa\n",
    "    return lan,type(lan)\n",
    "    \n",
    "print(language(\"C\"))# lan ma c gayera replace hunxa// override  i.e argument ma vayeko lai priority\n",
    "print(language(\"Java\"))\n",
    "print(language(\"C++\"))\n",
    "print(language( ))"
   ]
  },
  {
   "cell_type": "code",
   "execution_count": null,
   "id": "85d07af9",
   "metadata": {},
   "outputs": [],
   "source": []
  },
  {
   "cell_type": "code",
   "execution_count": null,
   "id": "097ef14d",
   "metadata": {},
   "outputs": [],
   "source": []
  },
  {
   "cell_type": "code",
   "execution_count": 18,
   "id": "372fed3d",
   "metadata": {
    "scrolled": true
   },
   "outputs": [
    {
     "name": "stdout",
     "output_type": "stream",
     "text": [
      "Enter number of items to enter: 2\n",
      "Enter name of product: Apple\n",
      "Enter quantity of item purchased:50\n",
      "Enter rate of the item: 5\n",
      "Enter name of product: Banana\n",
      "Enter quantity of item purchased:60\n",
      "Enter rate of the item: 3\n",
      "[['Apple', 50, 5, 250], ['Banana', 60, 3, 180]]\n"
     ]
    }
   ],
   "source": [
    "# WAP to calculate billing system using function    = Type 1\n",
    "\n",
    "n = int(input(\"Enter number of items to enter: \"))\n",
    "\n",
    "\n",
    "info =  []\n",
    "def bill(a,b):\n",
    "    amt = a * b\n",
    "    return amt\n",
    "\n",
    "for i in range(n):\n",
    "    p = input(\"Enter name of product: \")\n",
    "    q = int(input(\"Enter quantity of item purchased:\"))\n",
    "    r = int(input(\"Enter rate of the item: \"))\n",
    "    total = bill(q,r)\n",
    "    \n",
    "    info.append([p,q,r,total])\n",
    "    \n",
    "    \n",
    "print(info)\n"
   ]
  },
  {
   "cell_type": "code",
   "execution_count": 3,
   "id": "177e5c03",
   "metadata": {},
   "outputs": [
    {
     "name": "stdout",
     "output_type": "stream",
     "text": [
      "Enter n =2\n",
      "Enter name = Apple\n",
      "Enter price =55\n",
      "Enter qty= 5\n",
      "Enter name = Banana\n",
      "Enter price =65\n",
      "Enter qty= 5\n"
     ]
    },
    {
     "data": {
      "text/plain": [
       "(' Apple 55 5 275 \\nBanana 65 5 325 \\n', 600)"
      ]
     },
     "execution_count": 3,
     "metadata": {},
     "output_type": "execute_result"
    }
   ],
   "source": [
    "# WAP to calculate billing system using function   = Type 2  ###!!!!!!###\n",
    "\n",
    "grand_total = 0\n",
    "bills = \" \"\n",
    "\n",
    "def bill():\n",
    "    \n",
    "    global bills, grand_total   # yeslai global garena vane increment/decrement/change hudaina so, error aauxa\n",
    "    n = int(input(\"Enter n =\"))\n",
    "    \n",
    "    for i in range(n):\n",
    "        name = input(\"Enter name = \")\n",
    "        price = int(input(\"Enter price =\"))\n",
    "        qty = int(input(\"Enter qty= \"))\n",
    "        total = price * qty\n",
    "        bills = bills + f\"{name} {price} {qty} {total} \\n\"\n",
    "        grand_total = grand_total + total\n",
    "    return bills, grand_total\n",
    "        \n",
    "bill()"
   ]
  }
 ],
 "metadata": {
  "kernelspec": {
   "display_name": "Python 3 (ipykernel)",
   "language": "python",
   "name": "python3"
  },
  "language_info": {
   "codemirror_mode": {
    "name": "ipython",
    "version": 3
   },
   "file_extension": ".py",
   "mimetype": "text/x-python",
   "name": "python",
   "nbconvert_exporter": "python",
   "pygments_lexer": "ipython3",
   "version": "3.9.13"
  }
 },
 "nbformat": 4,
 "nbformat_minor": 5
}
