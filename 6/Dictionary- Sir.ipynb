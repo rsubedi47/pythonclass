{
 "cells": [
  {
   "cell_type": "code",
   "execution_count": 1,
   "id": "017d1e7f",
   "metadata": {},
   "outputs": [],
   "source": [
    "# Dictionary\n",
    "# -Indexing\n",
    "# -Ordering\n",
    "# -Multiple data\n",
    "# -Mutable"
   ]
  },
  {
   "cell_type": "code",
   "execution_count": 2,
   "id": "3997915e",
   "metadata": {},
   "outputs": [],
   "source": [
    "d = dict()"
   ]
  },
  {
   "cell_type": "code",
   "execution_count": 3,
   "id": "bdbe0504",
   "metadata": {},
   "outputs": [],
   "source": [
    "# d = {<key>:<value>,<key>:<value>}"
   ]
  },
  {
   "cell_type": "code",
   "execution_count": 4,
   "id": "a5fe49ae",
   "metadata": {},
   "outputs": [
    {
     "name": "stdout",
     "output_type": "stream",
     "text": [
      "<class 'dict'>\n",
      "{'a': 'Apple', 'b': 'Ball', 'c': 'Cat'}\n"
     ]
    }
   ],
   "source": [
    "d = {'a':'Apple','b':'Ball','c':'Cat'}\n",
    "print(type(d))\n",
    "print(d)"
   ]
  },
  {
   "cell_type": "code",
   "execution_count": 6,
   "id": "65b1061e",
   "metadata": {},
   "outputs": [
    {
     "name": "stdout",
     "output_type": "stream",
     "text": [
      "Apple\n",
      "Ball\n",
      "Cat\n"
     ]
    }
   ],
   "source": [
    "print(d['a'])\n",
    "print(d['b'])\n",
    "print(d['c'])"
   ]
  },
  {
   "cell_type": "code",
   "execution_count": 7,
   "id": "ec4dea5f",
   "metadata": {},
   "outputs": [
    {
     "data": {
      "text/plain": [
       "{'a': 'Ant', 'b': 'Ball', 'c': 'Cat'}"
      ]
     },
     "execution_count": 7,
     "metadata": {},
     "output_type": "execute_result"
    }
   ],
   "source": [
    "d = {'a':'Apple','b':'Ball','c':'Cat','a':'Ant'}\n",
    "d"
   ]
  },
  {
   "cell_type": "code",
   "execution_count": 8,
   "id": "ffe9a5de",
   "metadata": {},
   "outputs": [
    {
     "data": {
      "text/plain": [
       "{'a': 'Apple', 'b': 'Ball', 'c': 'Cat', 'A': 'Ant'}"
      ]
     },
     "execution_count": 8,
     "metadata": {},
     "output_type": "execute_result"
    }
   ],
   "source": [
    "d = {'a':'Apple','b':'Ball','c':'Cat','A':'Ant'}\n",
    "d"
   ]
  },
  {
   "cell_type": "code",
   "execution_count": 12,
   "id": "1c68420a",
   "metadata": {},
   "outputs": [
    {
     "data": {
      "text/plain": [
       "{'a': 'Apple', 'b': 'Ball', 'c': 'Cat', 'd': 'Dog'}"
      ]
     },
     "execution_count": 12,
     "metadata": {},
     "output_type": "execute_result"
    }
   ],
   "source": [
    "d = {}\n",
    "d['a'] = 'Apple'\n",
    "d['b'] = 'Ball'\n",
    "d['c'] = 'Cat'\n",
    "d['d'] = 'Dog'\n",
    "d"
   ]
  },
  {
   "cell_type": "code",
   "execution_count": 13,
   "id": "63878af5",
   "metadata": {},
   "outputs": [
    {
     "data": {
      "text/plain": [
       "{'a': 'Ant', 'b': 'Ball', 'c': 'Cat', 'd': 'Dog'}"
      ]
     },
     "execution_count": 13,
     "metadata": {},
     "output_type": "execute_result"
    }
   ],
   "source": [
    "d = {'a': 'Apple', 'b': 'Ball', 'c': 'Cat', 'd': 'Dog'}\n",
    "d['a'] = 'Ant'\n",
    "d"
   ]
  },
  {
   "cell_type": "code",
   "execution_count": 14,
   "id": "385fbb91",
   "metadata": {},
   "outputs": [
    {
     "name": "stdout",
     "output_type": "stream",
     "text": [
      "Enter n = 2\n",
      "Enter name = Ram\n",
      "Enter phone = 980768786\n",
      "Enter name = Shyam\n",
      "Enter phone = 8798789\n",
      "{'Ram': '980768786', 'Shyam': '8798789'}\n"
     ]
    }
   ],
   "source": [
    "info = {}\n",
    "n = int(input(\"Enter n = \"))\n",
    "for i in range(n):\n",
    "    name = input(\"Enter name = \")\n",
    "    phone = input(\"Enter phone = \")\n",
    "    info[name] = phone\n",
    "    \n",
    "print(info)"
   ]
  },
  {
   "cell_type": "code",
   "execution_count": 15,
   "id": "ea5946ba",
   "metadata": {},
   "outputs": [
    {
     "name": "stdout",
     "output_type": "stream",
     "text": [
      "Ram\n",
      "Shyam\n"
     ]
    }
   ],
   "source": [
    "for i in info:\n",
    "    print(i)"
   ]
  },
  {
   "cell_type": "code",
   "execution_count": 16,
   "id": "363b7be9",
   "metadata": {},
   "outputs": [
    {
     "name": "stdout",
     "output_type": "stream",
     "text": [
      "980768786\n",
      "8798789\n"
     ]
    }
   ],
   "source": [
    "for i in info.values():\n",
    "    print(i)"
   ]
  },
  {
   "cell_type": "code",
   "execution_count": 17,
   "id": "ae2ddb67",
   "metadata": {},
   "outputs": [
    {
     "name": "stdout",
     "output_type": "stream",
     "text": [
      "('Ram', '980768786')\n",
      "('Shyam', '8798789')\n"
     ]
    }
   ],
   "source": [
    "for i in info.items():\n",
    "    print(i)"
   ]
  },
  {
   "cell_type": "code",
   "execution_count": 19,
   "id": "690449c5",
   "metadata": {},
   "outputs": [
    {
     "data": {
      "text/plain": [
       "[('Ram', '980768786'), ('Shyam', '8798789')]"
      ]
     },
     "execution_count": 19,
     "metadata": {},
     "output_type": "execute_result"
    }
   ],
   "source": [
    "l = []\n",
    "for i in info.items():\n",
    "    l.append(i)\n",
    "l"
   ]
  },
  {
   "cell_type": "code",
   "execution_count": 20,
   "id": "46148a11",
   "metadata": {},
   "outputs": [
    {
     "data": {
      "text/plain": [
       "{'Ram': '980768786', 'Shyam': '8798789'}"
      ]
     },
     "execution_count": 20,
     "metadata": {},
     "output_type": "execute_result"
    }
   ],
   "source": [
    "dict(l)"
   ]
  },
  {
   "cell_type": "code",
   "execution_count": 21,
   "id": "dc19198d",
   "metadata": {},
   "outputs": [
    {
     "data": {
      "text/plain": [
       "{1: 1, 2: 4, 3: 9}"
      ]
     },
     "execution_count": 21,
     "metadata": {},
     "output_type": "execute_result"
    }
   ],
   "source": [
    "d = [[1,1],[2,4],[3,9]]\n",
    "dict(d)"
   ]
  },
  {
   "cell_type": "code",
   "execution_count": 22,
   "id": "89821989",
   "metadata": {},
   "outputs": [],
   "source": [
    "# In dict no + - * / % // **"
   ]
  },
  {
   "cell_type": "code",
   "execution_count": 24,
   "id": "9db9daec",
   "metadata": {},
   "outputs": [
    {
     "data": {
      "text/plain": [
       "{'Ram': '980768786', 'Shyam': '8798789', 1: 1, 2: 4, 3: 9}"
      ]
     },
     "execution_count": 24,
     "metadata": {},
     "output_type": "execute_result"
    }
   ],
   "source": [
    "a = {'Ram': '980768786', 'Shyam': '8798789'}\n",
    "b = {1: 1, 2: 4, 3: 9}\n",
    "a.update(b)\n",
    "a"
   ]
  },
  {
   "cell_type": "code",
   "execution_count": 26,
   "id": "40918b3a",
   "metadata": {},
   "outputs": [
    {
     "data": {
      "text/plain": [
       "{'Ram': '980768786', 'Shyam': 9808778765}"
      ]
     },
     "execution_count": 26,
     "metadata": {},
     "output_type": "execute_result"
    }
   ],
   "source": [
    "a = {'Ram': '980768786', 'Shyam': '8798789'}\n",
    "a['Shyam'] = 9808778765\n",
    "a"
   ]
  },
  {
   "cell_type": "code",
   "execution_count": 28,
   "id": "89cc5694",
   "metadata": {},
   "outputs": [
    {
     "data": {
      "text/plain": [
       "{'Shyam': 9808778765}"
      ]
     },
     "execution_count": 28,
     "metadata": {},
     "output_type": "execute_result"
    }
   ],
   "source": [
    "# del pop()\n",
    "a = {'Ram': '980768786', 'Shyam': 9808778765}\n",
    "del a['Ram']\n",
    "a"
   ]
  },
  {
   "cell_type": "code",
   "execution_count": 29,
   "id": "d0bfebe3",
   "metadata": {},
   "outputs": [
    {
     "name": "stdout",
     "output_type": "stream",
     "text": [
      "980768786\n",
      "{'Shyam': 9808778765}\n"
     ]
    }
   ],
   "source": [
    "a = {'Ram': '980768786', 'Shyam': '9808778765'}\n",
    "b = a.pop('Ram')\n",
    "print(b)\n",
    "print(a)"
   ]
  },
  {
   "cell_type": "code",
   "execution_count": 30,
   "id": "9d3d559c",
   "metadata": {},
   "outputs": [
    {
     "data": {
      "text/plain": [
       "['980768786', '9808776754']"
      ]
     },
     "execution_count": 30,
     "metadata": {},
     "output_type": "execute_result"
    }
   ],
   "source": [
    "# list inside dict\n",
    "a = {'Ram': ['980768786','9808776754'], 'Shyam': ['9808778765','9808667543']}\n",
    "a['Ram']"
   ]
  },
  {
   "cell_type": "code",
   "execution_count": 32,
   "id": "6c9d9873",
   "metadata": {},
   "outputs": [
    {
     "name": "stdout",
     "output_type": "stream",
     "text": [
      "980768786\n"
     ]
    }
   ],
   "source": [
    "print(a['Ram'][0])"
   ]
  },
  {
   "cell_type": "code",
   "execution_count": 33,
   "id": "abbb9c92",
   "metadata": {},
   "outputs": [
    {
     "data": {
      "text/plain": [
       "{'Ram': ['980768786', '9808776754'],\n",
       " 'Shyam': ['9808778765', '9808667543'],\n",
       " 'Hari': [9867667654, 9808778654]}"
      ]
     },
     "execution_count": 33,
     "metadata": {},
     "output_type": "execute_result"
    }
   ],
   "source": [
    "a['Hari'] = [9867667654,9808778654]\n",
    "a"
   ]
  },
  {
   "cell_type": "code",
   "execution_count": 36,
   "id": "c5e99614",
   "metadata": {},
   "outputs": [
    {
     "data": {
      "text/plain": [
       "{'Ram': [9840000000, '9808776754'],\n",
       " 'Shyam': ['9808778765', '9808667543'],\n",
       " 'Hari': [9867667654, 9808778654]}"
      ]
     },
     "execution_count": 36,
     "metadata": {},
     "output_type": "execute_result"
    }
   ],
   "source": [
    "a['Ram'][0] = 9840000000\n",
    "a\n"
   ]
  },
  {
   "cell_type": "code",
   "execution_count": 37,
   "id": "29afa30e",
   "metadata": {},
   "outputs": [
    {
     "name": "stdout",
     "output_type": "stream",
     "text": [
      "Enter n = 2\n",
      "Enter name = Ram\n",
      "Enter ntc phone = 9867556543\n",
      "Enter ntc phone = 9808778765\n",
      "Enter name = Shyam\n",
      "Enter ntc phone = 9865445432\n",
      "Enter ntc phone = 9808778765\n",
      "{'Ram': ['9867556543', '9808778765'], 'Shyam': ['9865445432', '9808778765']}\n"
     ]
    }
   ],
   "source": [
    "info = {}\n",
    "n = int(input(\"Enter n = \"))\n",
    "for i in range(n):\n",
    "    name = input(\"Enter name = \")\n",
    "    ntc_phone = input(\"Enter ntc phone = \")\n",
    "    ncell_phone = input(\"Enter ntc phone = \")\n",
    "    info[name] = [ntc_phone,ncell_phone]\n",
    "    \n",
    "print(info)"
   ]
  },
  {
   "cell_type": "code",
   "execution_count": 38,
   "id": "794d7e6a",
   "metadata": {},
   "outputs": [
    {
     "data": {
      "text/plain": [
       "{'Name': ['Ram', 'Shyam'],\n",
       " 'ntc': [9867667654, 9856554323],\n",
       " 'ncell': [9808778765, 9808334567]}"
      ]
     },
     "execution_count": 38,
     "metadata": {},
     "output_type": "execute_result"
    }
   ],
   "source": [
    "data = {'Name':['Ram','Shyam'],\n",
    "       'ntc':[9867667654,9856554323],\n",
    "       'ncell':[9808778765,9808334567]}\n",
    "data"
   ]
  },
  {
   "cell_type": "code",
   "execution_count": 41,
   "id": "665130ab",
   "metadata": {},
   "outputs": [
    {
     "name": "stdout",
     "output_type": "stream",
     "text": [
      "Ram 9867667654 9808778765\n"
     ]
    }
   ],
   "source": [
    "#details of Ram\n",
    "print(data['Name'][0],data['ntc'][0],data['ncell'][0])"
   ]
  },
  {
   "cell_type": "code",
   "execution_count": 42,
   "id": "e8bc37d2",
   "metadata": {},
   "outputs": [],
   "source": [
    "# how to create like this\n",
    "# data = {'Name':['Ram','Shyam'],\n",
    "#        'ntc':[9867667654,9856554323],\n",
    "#        'ncell':[9808778765,9808334567]}\n",
    "# data"
   ]
  },
  {
   "cell_type": "code",
   "execution_count": 1,
   "id": "dbd39e3f",
   "metadata": {},
   "outputs": [
    {
     "name": "stdout",
     "output_type": "stream",
     "text": [
      "Enter n = 2\n",
      "Enter name = Ram\n",
      "Enter ntc phone = 9867667654\n",
      "Enter ncell phone = 9808778765\n",
      "Enter name = Shyam\n",
      "Enter ntc phone = 9867667654\n",
      "Enter ncell phone = 9808778765\n",
      "{'Name': ['Ram', 'Shyam'], 'ntc': ['9867667654', '9867667654'], 'ncell': ['9808778765', '9808778765']}\n"
     ]
    }
   ],
   "source": [
    "info = {'Name':[],'ntc':[],'ncell':[]}\n",
    "n = int(input(\"Enter n = \"))\n",
    "for i in range(n):\n",
    "    name = input(\"Enter name = \")\n",
    "    ntc_phone = input(\"Enter ntc phone = \")\n",
    "    ncell_phone = input(\"Enter ncell phone = \")\n",
    "    info['Name'].append(name)\n",
    "    info['ntc'].append(ntc_phone)\n",
    "    info['ncell'].append(ncell_phone)\n",
    "\n",
    "\n",
    "    \n",
    "print(info)"
   ]
  },
  {
   "cell_type": "code",
   "execution_count": 9,
   "id": "bdcd6de9",
   "metadata": {},
   "outputs": [
    {
     "name": "stdout",
     "output_type": "stream",
     "text": [
      "Enter name = Ram\n",
      "Enter i = 343\n",
      "Name Ram ntc 9867667654 ncell 9808778765 "
     ]
    }
   ],
   "source": [
    "# l = len(info['Name'])\n",
    "b = input(\"Enter name = \")\n",
    "# for index in range(len(a)):\n",
    "#     if a[index] == b:\n",
    "#         print(index)\n",
    "        \n",
    "index = info['Name'].index('Ram')\n",
    "    \n",
    "# i = int(input(\"Enter i = \"))\n",
    "for j in info:\n",
    "    print(j,info[j][index],end=\" \")"
   ]
  },
  {
   "cell_type": "code",
   "execution_count": null,
   "id": "22bff609",
   "metadata": {},
   "outputs": [],
   "source": [
    "# How to create like this (dict inside list)\n",
    "# data = [{'name':'Ram','ntc':'9867667654','ncell':9808778765},\n",
    "#        {'name':'Shyam','ntc':'9867667454','ncell':9804778765}\n",
    "#        {'name':'Hari','ntc':'9867660654','ncell':9808771765}]"
   ]
  }
 ],
 "metadata": {
  "kernelspec": {
   "display_name": "Python 3 (ipykernel)",
   "language": "python",
   "name": "python3"
  },
  "language_info": {
   "codemirror_mode": {
    "name": "ipython",
    "version": 3
   },
   "file_extension": ".py",
   "mimetype": "text/x-python",
   "name": "python",
   "nbconvert_exporter": "python",
   "pygments_lexer": "ipython3",
   "version": "3.9.13"
  }
 },
 "nbformat": 4,
 "nbformat_minor": 5
}
