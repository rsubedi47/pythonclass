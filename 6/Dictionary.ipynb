{
 "cells": [
  {
   "cell_type": "code",
   "execution_count": null,
   "id": "6a23cfd5",
   "metadata": {},
   "outputs": [],
   "source": [
    "d= dict()"
   ]
  },
  {
   "cell_type": "code",
   "execution_count": null,
   "id": "d192cfed",
   "metadata": {},
   "outputs": [],
   "source": [
    "#d ={<key>:<value>,<key>:<value>}"
   ]
  },
  {
   "cell_type": "code",
   "execution_count": 2,
   "id": "497ced5c",
   "metadata": {},
   "outputs": [
    {
     "name": "stdout",
     "output_type": "stream",
     "text": [
      "<class 'dict'>\n",
      "{'a': 'apple', 'b': 'Ball', 'c': 'Cat'}\n",
      "3\n"
     ]
    }
   ],
   "source": [
    "d = {'a':'apple','b':'Ball','c':'Cat'}\n",
    "print(type(d))\n",
    "print(d)\n",
    "print(len(d))"
   ]
  },
  {
   "cell_type": "code",
   "execution_count": 3,
   "id": "ab879529",
   "metadata": {},
   "outputs": [
    {
     "name": "stdout",
     "output_type": "stream",
     "text": [
      "apple\n",
      "Ball\n",
      "Cat\n"
     ]
    }
   ],
   "source": [
    "## Indexing i.e. key is used as index\n",
    "print(d['a'])\n",
    "print(d['b'])\n",
    "print(d['c'])"
   ]
  },
  {
   "cell_type": "code",
   "execution_count": 7,
   "id": "cd6d3cb5",
   "metadata": {},
   "outputs": [
    {
     "name": "stdout",
     "output_type": "stream",
     "text": [
      "Ant\n",
      "Ant\n"
     ]
    }
   ],
   "source": [
    "## duplicate key value\n",
    "d = {'a':'apple','b':'Ball','c':'Cat','a':'Ant'}\n",
    "print(d['a'])  # if duplicate key value then, last ko value le update garxa\n",
    "\n",
    "e = {'a':'apple','b':'Ball','c':'Cat','A':'Ant'}\n",
    "print(e['A'])"
   ]
  },
  {
   "cell_type": "code",
   "execution_count": 10,
   "id": "3936efca",
   "metadata": {},
   "outputs": [
    {
     "name": "stdout",
     "output_type": "stream",
     "text": [
      "{'a': ' Ant', 'b': 'Ball', 'c': 'Cat'}\n"
     ]
    }
   ],
   "source": [
    "## Mutable = eg. new value can be added\n",
    "d={}\n",
    "d['a'] ='Apple'\n",
    "d['b'] ='Ball'\n",
    "d['c'] ='Cat'\n",
    "d ['a'] =' Ant'  # i.e yo naya key value pair le purano 'Apple' lai update garyo.\n",
    "print(d)\n"
   ]
  },
  {
   "cell_type": "code",
   "execution_count": 12,
   "id": "d3202a44",
   "metadata": {},
   "outputs": [
    {
     "name": "stdout",
     "output_type": "stream",
     "text": [
      "ENter n =2\n",
      "Enter your name: Ram\n",
      "Enter phone no.: 98900\n",
      "Enter your name: Shyam\n",
      "Enter phone no.: 9700\n",
      "{'Ram': '98900', 'Shyam': '9700'}\n"
     ]
    }
   ],
   "source": [
    "##### Input from User to a dictionary ###\n",
    "\n",
    "\n",
    "info= {}\n",
    "n = int(input('ENter n ='))\n",
    "for i in range(n):\n",
    "    name = input(\"Enter your name: \")\n",
    "    phone = input(\"Enter phone no.: \")\n",
    "    info[name] = phone   ## creating dictionary\n",
    "print(info)"
   ]
  },
  {
   "cell_type": "code",
   "execution_count": 20,
   "id": "2e0a0f63",
   "metadata": {},
   "outputs": [
    {
     "name": "stdout",
     "output_type": "stream",
     "text": [
      "a\n",
      "b\n",
      "c\n",
      "Ant\n",
      "Ball\n",
      "Cat\n",
      "('a', 'Ant')\n",
      "('b', 'Ball')\n",
      "('c', 'Cat')\n"
     ]
    }
   ],
   "source": [
    "## Reading from dictionary\n",
    "d = {'a':'apple','b':'Ball','c':'Cat','a':'Ant'}\n",
    "for i in d:\n",
    "    print(i)    # returns only key\n",
    "\n",
    "    \n",
    "for j in d.values():\n",
    "    print(j)    # returns only key\n",
    "\n",
    "for i in d.items():  # prints both keys and values in 'Tuple' form\n",
    "    print(i)"
   ]
  },
  {
   "cell_type": "code",
   "execution_count": 23,
   "id": "68ff8c96",
   "metadata": {},
   "outputs": [
    {
     "name": "stdout",
     "output_type": "stream",
     "text": [
      "('Ram', '98900')\n",
      "('Shyam', '9700')\n"
     ]
    },
    {
     "data": {
      "text/plain": [
       "{'Ram': '98900', 'Shyam': '9700'}"
      ]
     },
     "execution_count": 23,
     "metadata": {},
     "output_type": "execute_result"
    }
   ],
   "source": [
    "## tuple lai list ma lagera rakhne from dicstionary\n",
    "\n",
    "for i in info.items():\n",
    "    print(i)\n",
    "    \n",
    "l = []\n",
    "for i in info.items():\n",
    "    l.append(i)\n",
    "l\n",
    "dict(l)\n"
   ]
  },
  {
   "cell_type": "code",
   "execution_count": 24,
   "id": "895dacb3",
   "metadata": {},
   "outputs": [
    {
     "data": {
      "text/plain": [
       "{1: 1, 2: 4, 3: 9}"
      ]
     },
     "execution_count": 24,
     "metadata": {},
     "output_type": "execute_result"
    }
   ],
   "source": [
    "d = [[1,1],[2,4],[3,9]]\n",
    "dict(d)"
   ]
  },
  {
   "cell_type": "code",
   "execution_count": null,
   "id": "c65cb9e2",
   "metadata": {},
   "outputs": [],
   "source": [
    "## Indictionary, no concat + - / ** % //\n"
   ]
  },
  {
   "cell_type": "code",
   "execution_count": 25,
   "id": "cc47c8e6",
   "metadata": {},
   "outputs": [
    {
     "data": {
      "text/plain": [
       "{'Ram': '98900', 'Shyam': '9700', 1: 1, 2: 4, 3: 9}"
      ]
     },
     "execution_count": 25,
     "metadata": {},
     "output_type": "execute_result"
    }
   ],
   "source": [
    "## Update()\n",
    "\n",
    "a = {'Ram': '98900', 'Shyam': '9700'}\n",
    "b = {1: 1, 2: 4, 3: 9}\n",
    "\n",
    "a.update(b)\n",
    "a"
   ]
  },
  {
   "cell_type": "code",
   "execution_count": 27,
   "id": "5a3c472e",
   "metadata": {},
   "outputs": [
    {
     "data": {
      "text/plain": [
       "{'Ram': 9600, 'Shyam': '9700'}"
      ]
     },
     "execution_count": 27,
     "metadata": {},
     "output_type": "execute_result"
    }
   ],
   "source": [
    "# editing old values\n",
    "a = {'Ram': '98900', 'Shyam': '9700'}\n",
    "a['Ram'] = '9600' # can be anything string or integer\n",
    "a"
   ]
  },
  {
   "cell_type": "code",
   "execution_count": 29,
   "id": "6955d84e",
   "metadata": {},
   "outputs": [
    {
     "data": {
      "text/plain": [
       "{'Shyam': '9700'}"
      ]
     },
     "execution_count": 29,
     "metadata": {},
     "output_type": "execute_result"
    }
   ],
   "source": [
    "## For deleting = del, pop()\n",
    "## delete garda both key ra value nai janxa\n",
    "a = {'Ram': '98900', 'Shyam': '9700'}\n",
    "del a['Ram']\n",
    "a"
   ]
  },
  {
   "cell_type": "code",
   "execution_count": 30,
   "id": "a47dbbf4",
   "metadata": {},
   "outputs": [
    {
     "name": "stdout",
     "output_type": "stream",
     "text": [
      "98900\n",
      "{'Shyam': '9700'}\n"
     ]
    }
   ],
   "source": [
    "#pop() = move\n",
    "\n",
    "a = {'Ram': '98900', 'Shyam': '9700'}\n",
    "b= a.pop('Ram')  # value matra janxa. key(i.e. index, like in list) jadaina\n",
    "print(b)\n",
    "print(a)"
   ]
  },
  {
   "cell_type": "code",
   "execution_count": 43,
   "id": "c5c68cdf",
   "metadata": {},
   "outputs": [
    {
     "name": "stdout",
     "output_type": "stream",
     "text": [
      "['98900', '96000']\n",
      "98900\n",
      "{'Ram': ['98900', '96000'], 'Shyam': ['9700', '94000'], 'Hari': [91000, 92000]}\n"
     ]
    },
    {
     "data": {
      "text/plain": [
       "[95600, '96000']"
      ]
     },
     "execution_count": 43,
     "metadata": {},
     "output_type": "execute_result"
    }
   ],
   "source": [
    "#list inside list to store multiple value for a key ### IMP concept###  key is like column in table##\n",
    "\n",
    "a = {'Ram': ['98900', '96000'], 'Shyam': ['9700','94000']}  # one to many relationship\n",
    "\n",
    "# reding above list\n",
    "\n",
    "print(a['Ram'])   # i.e. list return garyo so, list ma hune sabai kaam garna paiyo.\n",
    "print(a['Ram'][0])  # if 0 index ma NTC ko number xa ## here list ko index pani use garna sakiyo.\n",
    "\n",
    "## adding new value\n",
    "a['Hari']=[91000,92000]\n",
    "print(a)\n",
    "\n",
    "# deleting\n",
    "\n",
    "del a['Hari'][0]  # hari ko first number delete vayo\n",
    "a['Hari']\n",
    "\n",
    "#updating\n",
    "a['Ram'][0] = 95600\n",
    "a['Ram']\n"
   ]
  },
  {
   "cell_type": "code",
   "execution_count": 44,
   "id": "37a1a93e",
   "metadata": {},
   "outputs": [
    {
     "name": "stdout",
     "output_type": "stream",
     "text": [
      "ENter n =2\n",
      "Enter your name: Ram\n",
      "Enter phone no.: 9800\n",
      "Enter phone no.: 6500\n",
      "Enter your name: Shyam\n",
      "Enter phone no.: 98622\n",
      "Enter phone no.: 981213\n",
      "{'Ram': ['9800', '6500'], 'Shyam': ['98622', '981213']}\n"
     ]
    }
   ],
   "source": [
    "### getting 2 inputs from user and adding to a keypair\n",
    "\n",
    "\n",
    "info= {}\n",
    "n = int(input('ENter n ='))\n",
    "for i in range(n):\n",
    "    name = input(\"Enter your name: \")\n",
    "    ntc_phone = input(\"Enter phone no.: \")\n",
    "    ncell_phone = input(\"Enter phone no.: \")\n",
    "    info[name] = [ntc_phone,ncell_phone]  ## list banauxa ani lagera rakhxa.\n",
    "print(info)"
   ]
  },
  {
   "cell_type": "code",
   "execution_count": 47,
   "id": "c8336c00",
   "metadata": {},
   "outputs": [
    {
     "data": {
      "text/plain": [
       "{'Name': ['Ram', 'Shyam'], 'Ntc': [985122, 986222], 'Ncell': [981212, 98222]}"
      ]
     },
     "execution_count": 47,
     "metadata": {},
     "output_type": "execute_result"
    }
   ],
   "source": [
    "# 1. different approach/ structure\n",
    "\n",
    "# different approach    # first i.e. 0 index ko data Ram ko ho.\n",
    "data = {'Name':['Ram','Shyam'],\n",
    "       'Ntc':[985122,986222],\n",
    "       'Ncell':[981212,98222]}\n",
    "data\n",
    "    \n",
    "    \n",
    "    \n",
    "        "
   ]
  },
  {
   "cell_type": "code",
   "execution_count": 48,
   "id": "3e75b931",
   "metadata": {},
   "outputs": [
    {
     "name": "stdout",
     "output_type": "stream",
     "text": [
      "Ram 985122 981212\n"
     ]
    }
   ],
   "source": [
    "# 1.1 different approach\n",
    "\n",
    "# Details of Ram = 0 index ma vayeko data Ram ko data ho.\n",
    "print(data['Name'][0],data['Ntc'][0],data['Ncell'][0])\n"
   ]
  },
  {
   "cell_type": "code",
   "execution_count": 1,
   "id": "10b2d2a9",
   "metadata": {},
   "outputs": [
    {
     "name": "stdout",
     "output_type": "stream",
     "text": [
      "ENter n =2\n",
      "Enter your name: Ram\n",
      "Enter phone no.: 98622\n",
      "Enter phone no.: 98012\n",
      "Enter your name: Shyam\n",
      "Enter phone no.: 98512\n",
      "Enter phone no.: 9822\n",
      "{'Name': ['Ram', 'Shyam'], 'ntc': ['98622', '98512'], 'ncell': ['98012', '9822']}\n"
     ]
    }
   ],
   "source": [
    "# How to create this above different structure by taking inputs from user.\n",
    "#'Name':['Ram','Shyam'],\n",
    "#      'Ntc':[985122,986222],\n",
    " #      'Ncell':[981212,98222]}\n",
    "\n",
    "info= {'Name':[],'ntc':[],'ncell':[]}  # Name, ntc ra ncell are key so, we fixed those values\n",
    "\n",
    "\n",
    "n = int(input('ENter n ='))\n",
    "for i in range(n):\n",
    "    name = input(\"Enter your name: \")\n",
    "    ntc_phone = input(\"Enter phone no.: \")\n",
    "    ncell_phone = input(\"Enter phone no.: \")\n",
    "    \n",
    "    info['Name'].append(name)\n",
    "    info['ntc'].append(ntc_phone)\n",
    "    info['ncell'].append(ncell_phone)\n",
    "    \n",
    "    ## list banauxa ani lagera rakhxa.\n",
    "print(info)\n"
   ]
  },
  {
   "cell_type": "code",
   "execution_count": 4,
   "id": "f4a93d2c",
   "metadata": {},
   "outputs": [
    {
     "data": {
      "text/plain": [
       "2"
      ]
     },
     "execution_count": 4,
     "metadata": {},
     "output_type": "execute_result"
    }
   ],
   "source": [
    "l = len(info) # i.e. 3 columns \n",
    "l = len(info['Name']) #  i.e. 2 janako details xa\n"
   ]
  },
  {
   "cell_type": "code",
   "execution_count": 6,
   "id": "54402ee9",
   "metadata": {},
   "outputs": [
    {
     "name": "stdout",
     "output_type": "stream",
     "text": [
      "Enter value of i0\n",
      "Name Ram\n",
      "ntc 98622\n",
      "ncell 98012\n"
     ]
    }
   ],
   "source": [
    "# 2. searching with index , after finding index of ram's info\n",
    "# step 1\n",
    "l = len(info['Name'])\n",
    "i = int(input(\"Enter value of i\"))  # i, index chai common raxa so ma user sagaa mmagxu\n",
    "for j in info:  # yesle j ma index \n",
    "info['Name'][i]    # aaba yaha ko key lai pani aafai aaune banaune instep 2\n",
    "info['ntc'][i]\n",
    "info['ncell'][i]"
   ]
  },
  {
   "cell_type": "code",
   "execution_count": 7,
   "id": "4bf61665",
   "metadata": {},
   "outputs": [
    {
     "name": "stdout",
     "output_type": "stream",
     "text": [
      "Enter value of i0\n",
      "Name Ram\n",
      "ntc 98622\n",
      "ncell 98012\n"
     ]
    }
   ],
   "source": [
    "# step2 (final)\n",
    "\n",
    "l = len(info['Name'])\n",
    "i = int(input(\"Enter value of i\"))  # i, index chai common raxa so ma user sagaa mmagxu\n",
    "for j in info:  # yesle j ma index i.e. key  lyauxa\n",
    "    print(j,info[j][i])"
   ]
  },
  {
   "cell_type": "code",
   "execution_count": 9,
   "id": "95504553",
   "metadata": {},
   "outputs": [],
   "source": [
    "## finding index of RAm?? - refer list\n",
    "\n",
    "index = info['Name'].index('Ram')  # returns only single index, but if multiple index= refer list, # multiple list xa vane teslai list ma rakhne ani loop laune\n"
   ]
  },
  {
   "cell_type": "code",
   "execution_count": 3,
   "id": "ea6dd57b",
   "metadata": {},
   "outputs": [
    {
     "name": "stdout",
     "output_type": "stream",
     "text": [
      "Enter name = Ram\n"
     ]
    },
    {
     "ename": "TypeError",
     "evalue": "list indices must be integers or slices, not str",
     "output_type": "error",
     "traceback": [
      "\u001b[1;31m---------------------------------------------------------------------------\u001b[0m",
      "\u001b[1;31mTypeError\u001b[0m                                 Traceback (most recent call last)",
      "\u001b[1;32m~\\AppData\\Local\\Temp\\ipykernel_1680\\1644840471.py\u001b[0m in \u001b[0;36m<module>\u001b[1;34m\u001b[0m\n\u001b[0;32m      5\u001b[0m \u001b[1;31m#         print(index)\u001b[0m\u001b[1;33m\u001b[0m\u001b[1;33m\u001b[0m\u001b[0m\n\u001b[0;32m      6\u001b[0m \u001b[1;33m\u001b[0m\u001b[0m\n\u001b[1;32m----> 7\u001b[1;33m \u001b[0mindex\u001b[0m \u001b[1;33m=\u001b[0m \u001b[0minfo\u001b[0m\u001b[1;33m[\u001b[0m\u001b[1;34m'Name'\u001b[0m\u001b[1;33m]\u001b[0m\u001b[1;33m.\u001b[0m\u001b[0mindex\u001b[0m\u001b[1;33m(\u001b[0m\u001b[1;34m'Ram'\u001b[0m\u001b[1;33m)\u001b[0m\u001b[1;33m\u001b[0m\u001b[1;33m\u001b[0m\u001b[0m\n\u001b[0m\u001b[0;32m      8\u001b[0m \u001b[1;33m\u001b[0m\u001b[0m\n\u001b[0;32m      9\u001b[0m \u001b[1;31m# i = int(input(\"Enter i = \"))\u001b[0m\u001b[1;33m\u001b[0m\u001b[1;33m\u001b[0m\u001b[0m\n",
      "\u001b[1;31mTypeError\u001b[0m: list indices must be integers or slices, not str"
     ]
    }
   ],
   "source": [
    "# l = len(info['Name'])\n",
    "b = input(\"Enter name = \")\n",
    "# for index in range(len(a)):\n",
    "#     if a[index] == b:\n",
    "#         print(index)\n",
    "        \n",
    "index = info['Name'].index('Ram')\n",
    "    \n",
    "# i = int(input(\"Enter i = \"))\n",
    "for j in info:\n",
    "    print(j,info[j][index],end=\" \")"
   ]
  },
  {
   "cell_type": "code",
   "execution_count": 2,
   "id": "b7a0c352",
   "metadata": {},
   "outputs": [
    {
     "name": "stdout",
     "output_type": "stream",
     "text": [
      "Enter value of n =3\n",
      "Enter your name: Ram\n",
      "Enter your NTC no.: 9866\n",
      "Enter Your Ncell no.: 981212\n",
      "Enter your name: Shyam\n",
      "Enter your NTC no.: 98451\n",
      "Enter Your Ncell no.: 9800\n",
      "Enter your name: Hari\n",
      "Enter your NTC no.: 98541\n",
      "Enter Your Ncell no.: 98111\n",
      "[{'Name': 'Ram', 'Ntc': '9866', 'Ncell': '981212'}, {'Name': 'Shyam', 'Ntc': '98451', 'Ncell': '9800'}, {'Name': 'Hari', 'Ntc': '98541', 'Ncell': '98111'}]\n"
     ]
    }
   ],
   "source": [
    "## How to create like this  # dictionary inside list\n",
    "# read,write,del,update\n",
    "#data= [{name:'Ram','ntc':'984655612', 'ncell': 98656565656},  # key repeat vayeko xa\n",
    "#     {name:'Shyam','ntc':'984655612', 'ncell': 98656565656},\n",
    "#    {name:'Hari','ntc':'984655612', 'ncell': 98656565656}]\n",
    "\n",
    "## Way 1\n",
    "\n",
    "info = []\n",
    "\n",
    "n = int(input(\"Enter value of n =\"))\n",
    "d ={'Name':'','Ntc':'','Ncell':''}\n",
    "for i in range(n):\n",
    "    d ={'Name':'','Ntc':'','Ncell':''}\n",
    "    name = input(\"Enter your name: \")\n",
    "    ntc = input(\"Enter your NTC no.: \")\n",
    "    ncell = input(\"Enter Your Ncell no.: \")\n",
    "    d['Name']=name\n",
    "    d['Ntc']=ntc\n",
    "    d['Ncell']=ncell\n",
    "    info.append(d)\n",
    "    \n",
    "print(info)\n"
   ]
  },
  {
   "cell_type": "code",
   "execution_count": 4,
   "id": "cbc64eaf",
   "metadata": {},
   "outputs": [
    {
     "name": "stdout",
     "output_type": "stream",
     "text": [
      "Enter value of n =2\n",
      "Enter your name: R\n",
      "Enter your NTC no.: 9866\n",
      "Enter Your Ncell no.: 9800\n",
      "Enter your name: S\n",
      "Enter your NTC no.: 98965\n",
      "Enter Your Ncell no.: 9811\n",
      "[{'name': 'R', 'ntc': '9866', 'ncell': '9800'}, {'name': 'S', 'ntc': '98965', 'ncell': '9811'}]\n"
     ]
    }
   ],
   "source": [
    "# Way 2\n",
    "\n",
    "info = []\n",
    "\n",
    "n = int(input(\"Enter value of n =\"))\n",
    "d ={'Name':'','Ntc':'','Ncell':''}\n",
    "for i in range(n):\n",
    "  \n",
    "    name = input(\"Enter your name: \")\n",
    "    ntc = input(\"Enter your NTC no.: \")\n",
    "    ncell = input(\"Enter Your Ncell no.: \")\n",
    "    data = {'name':name,'ntc':ntc,'ncell':ncell}\n",
    "    info.append(data)\n",
    "    \n",
    "print(info)"
   ]
  },
  {
   "cell_type": "code",
   "execution_count": 8,
   "id": "75af6e76",
   "metadata": {},
   "outputs": [
    {
     "data": {
      "text/plain": [
       "{'name': 'R', 'ntc': '9866', 'ncell': '9800'}"
      ]
     },
     "execution_count": 8,
     "metadata": {},
     "output_type": "execute_result"
    }
   ],
   "source": [
    "info[0]  # first see and check"
   ]
  },
  {
   "cell_type": "code",
   "execution_count": 9,
   "id": "e670cdd2",
   "metadata": {},
   "outputs": [
    {
     "data": {
      "text/plain": [
       "[{'name': 'Rama', 'ntc': '98999', 'ncell': '9800'},\n",
       " {'name': 'S', 'ntc': '98965', 'ncell': '9811'}]"
      ]
     },
     "execution_count": 9,
     "metadata": {},
     "output_type": "execute_result"
    }
   ],
   "source": [
    "info[0]= {'name': 'Rama', 'ntc': '98999', 'ncell': '9800'}  # update\n",
    "info"
   ]
  },
  {
   "cell_type": "code",
   "execution_count": 10,
   "id": "bc889349",
   "metadata": {},
   "outputs": [
    {
     "data": {
      "text/plain": [
       "'Rama'"
      ]
     },
     "execution_count": 10,
     "metadata": {},
     "output_type": "execute_result"
    }
   ],
   "source": [
    "info[0]['name']"
   ]
  },
  {
   "cell_type": "code",
   "execution_count": 12,
   "id": "e6e1d6b5",
   "metadata": {},
   "outputs": [
    {
     "data": {
      "text/plain": [
       "'Sita'"
      ]
     },
     "execution_count": 12,
     "metadata": {},
     "output_type": "execute_result"
    }
   ],
   "source": [
    "info[0]['name'] = 'Sita'  # update\n",
    "info[0]['name']"
   ]
  },
  {
   "cell_type": "code",
   "execution_count": null,
   "id": "dd43ac3f",
   "metadata": {},
   "outputs": [],
   "source": [
    "### part 2 in class 7"
   ]
  }
 ],
 "metadata": {
  "kernelspec": {
   "display_name": "Python 3 (ipykernel)",
   "language": "python",
   "name": "python3"
  },
  "language_info": {
   "codemirror_mode": {
    "name": "ipython",
    "version": 3
   },
   "file_extension": ".py",
   "mimetype": "text/x-python",
   "name": "python",
   "nbconvert_exporter": "python",
   "pygments_lexer": "ipython3",
   "version": "3.9.13"
  }
 },
 "nbformat": 4,
 "nbformat_minor": 5
}
