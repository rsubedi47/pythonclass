{
 "cells": [
  {
   "cell_type": "code",
   "execution_count": 2,
   "id": "d37d3066",
   "metadata": {},
   "outputs": [
    {
     "name": "stdout",
     "output_type": "stream",
     "text": [
      "Enter value of n =2\n",
      "Enter your name: Ram\n",
      "Enter your NTC phone no.: 98622\n",
      "Enter your Ncell Phone no.: 981312\n",
      "Enter your name: Shyam\n",
      "Enter your NTC phone no.: 98452\n",
      "Enter your Ncell Phone no.: 98113\n",
      "{'Ram': ['98622', '981312'], 'Shyam': ['98452', '98113']}\n"
     ]
    }
   ],
   "source": [
    "# List inside dictionary\n",
    "# Type 1\n",
    "d = {}\n",
    "n = int(input(\"Enter value of n =\"))\n",
    "for i in range(n):\n",
    "    name = input(\"Enter your name: \")\n",
    "    ntc = input(\"Enter your NTC phone no.: \")\n",
    "    ncell = input(\"Enter your Ncell Phone no.: \")\n",
    "    d[name] = [ntc,ncell]\n",
    "print(d)"
   ]
  },
  {
   "cell_type": "code",
   "execution_count": 4,
   "id": "b492e6bc",
   "metadata": {},
   "outputs": [
    {
     "name": "stdout",
     "output_type": "stream",
     "text": [
      "Enter value of n =2\n",
      "Enter your name: Ram\n",
      "Enter your NTC no.: 98622\n",
      "Enter your Ncell no.: 981312\n",
      "Enter your name: Shyam\n",
      "Enter your NTC no.: 98012\n",
      "Enter your Ncell no.: 98622\n",
      "{'Name': ['Ram', 'Shyam'], 'NTC': ['98622', '98012'], 'Ncell': ['981312', '98622']}\n"
     ]
    }
   ],
   "source": [
    "# List inside dictionary\n",
    "# Type 2\n",
    "e= {'Name':[],'NTC':[],'Ncell':[]}\n",
    "n = int(input(\"Enter value of n =\"))\n",
    "for i in range(n):\n",
    "    name = input(\"Enter your name: \")\n",
    "    ntc = input(\"Enter your NTC no.: \")\n",
    "    ncell = input(\"Enter your Ncell no.: \")\n",
    "    e['Name'].append(name)\n",
    "    e['NTC'].append(ntc)\n",
    "    e['Ncell'].append(ncell)\n",
    "print(e)\n"
   ]
  },
  {
   "cell_type": "code",
   "execution_count": 9,
   "id": "b0914e08",
   "metadata": {},
   "outputs": [
    {
     "name": "stdout",
     "output_type": "stream",
     "text": [
      "Enter name to find index: Ram\n",
      "0\n"
     ]
    }
   ],
   "source": [
    "## finding index in a dictionary (this will find out a single index even if there are duplicate ones)\n",
    "# i.e. finding index - kunai naam kun indexma xa?/\n",
    "\n",
    "whose = input(\"Enter name to find index: \")\n",
    "index = e['Name'].index(whose)\n",
    "print(index)"
   ]
  },
  {
   "cell_type": "code",
   "execution_count": 12,
   "id": "d3bab946",
   "metadata": {},
   "outputs": [
    {
     "name": "stdout",
     "output_type": "stream",
     "text": [
      "Enter name to find index: Ram\n",
      "Name Ram\n",
      "NTC 98622\n",
      "Ncell 981312\n"
     ]
    }
   ],
   "source": [
    "## Printing data of person in type2 using index\n",
    "whos = input(\"Enter name to find index: \")\n",
    "index = e['Name'].index(whos)\n",
    "\n",
    "for i in e:  # this i will return keys\n",
    "    print(i,e[i][index])\n"
   ]
  },
  {
   "cell_type": "code",
   "execution_count": 21,
   "id": "82313c48",
   "metadata": {},
   "outputs": [
    {
     "name": "stdout",
     "output_type": "stream",
     "text": [
      "Enter value of n =3\n",
      "Enter your name: Ram\n",
      "Enter your NTC no.: 98451\n",
      "Enter Your Ncell no.: 98123\n",
      "Enter your name: Shyam\n",
      "Enter your NTC no.: 98515\n",
      "Enter Your Ncell no.: 98111\n",
      "Enter your name: Hari\n",
      "Enter your NTC no.: 98422\n",
      "Enter Your Ncell no.: 980121\n",
      "[{'Name': 'Ram', 'Ntc': '98451', 'Ncell': '98123'}, {'Name': 'Shyam', 'Ntc': '98515', 'Ncell': '98111'}, {'Name': 'Hari', 'Ntc': '98422', 'Ncell': '980121'}]\n"
     ]
    }
   ],
   "source": [
    "## Day 6 - assignment##\n",
    "\n",
    "## How to create like this  # dictionary inside list\n",
    "# read,write,del,update\n",
    "#data= [{'name':'Ram','ntc':'984655612', 'ncell': 98656565656},  # key repeat vayeko xa\n",
    " #   {'name':'Shyam','ntc':'984655612', 'ncell': 98656565656},\n",
    "    #  {'name':'Hari','ntc':'984655612', 'ncell': 98656565656}]\n",
    "#print(len(data))\n",
    "\n",
    "info = []\n",
    "\n",
    "n = int(input(\"Enter value of n =\"))\n",
    "d ={'Name':'','Ntc':'','Ncell':''}\n",
    "for i in range(n):\n",
    "    d ={'Name':'','Ntc':'','Ncell':''}\n",
    "    name = input(\"Enter your name: \")\n",
    "    ntc = input(\"Enter your NTC no.: \")\n",
    "    ncell = input(\"Enter Your Ncell no.: \")\n",
    "    d['Name']=name\n",
    "    d['Ntc']=ntc\n",
    "    d['Ncell']=ncell\n",
    "    info.append(d)\n",
    "    \n",
    "print(info)\n",
    "    \n",
    "    "
   ]
  },
  {
   "cell_type": "code",
   "execution_count": 15,
   "id": "7e003734",
   "metadata": {},
   "outputs": [
    {
     "name": "stdout",
     "output_type": "stream",
     "text": [
      "Ram\n",
      "Shyam\n",
      "Ram\n"
     ]
    }
   ],
   "source": [
    "# A. Printing multiple indexes\n",
    "\n",
    "f = {'Name': ['Ram', 'Shyam','Ram'], 'NTC': ['98622', '98012','98655'], 'Ncell': ['981312', '98622','981212']}\n",
    "#index=f['Name'].index('Ram')\n",
    "#print(index)\n",
    "l = len(f['Name'])\n",
    "\n",
    "for i in range(l):\n",
    "    print(f['Name'][i])\n"
   ]
  },
  {
   "cell_type": "code",
   "execution_count": 18,
   "id": "04d1913c",
   "metadata": {},
   "outputs": [
    {
     "name": "stdout",
     "output_type": "stream",
     "text": [
      "0\n",
      "2\n"
     ]
    }
   ],
   "source": [
    "# A.2 Printing multiple indexes\n",
    "\n",
    "f = {'Name': ['Ram', 'Shyam','Ram'], 'NTC': ['98622', '98012','98655'], 'Ncell': ['981312', '98622','981212']}\n",
    "l = len(f['Name'])\n",
    "for i in range(l):\n",
    "    if 'Ram' == f['Name'][i] :\n",
    "        print(i)\n"
   ]
  },
  {
   "cell_type": "code",
   "execution_count": 19,
   "id": "92b385ad",
   "metadata": {},
   "outputs": [
    {
     "name": "stdout",
     "output_type": "stream",
     "text": [
      "Enter name of person to find the index: Shyam\n",
      "1\n"
     ]
    }
   ],
   "source": [
    "# A.3 Printing multiple indexes\n",
    "nam = input(\"Enter name of person to find the index: \")\n",
    "f = {'Name': ['Ram', 'Shyam','Ram'], 'NTC': ['98622', '98012','98655'], 'Ncell': ['981312', '98622','981212']}\n",
    "l = len(f['Name'])\n",
    "for i in range(l):\n",
    "    if nam == f['Name'][i] :\n",
    "        print(i)"
   ]
  },
  {
   "cell_type": "code",
   "execution_count": null,
   "id": "8b2916c7",
   "metadata": {},
   "outputs": [],
   "source": []
  }
 ],
 "metadata": {
  "kernelspec": {
   "display_name": "Python 3 (ipykernel)",
   "language": "python",
   "name": "python3"
  },
  "language_info": {
   "codemirror_mode": {
    "name": "ipython",
    "version": 3
   },
   "file_extension": ".py",
   "mimetype": "text/x-python",
   "name": "python",
   "nbconvert_exporter": "python",
   "pygments_lexer": "ipython3",
   "version": "3.9.13"
  }
 },
 "nbformat": 4,
 "nbformat_minor": 5
}
