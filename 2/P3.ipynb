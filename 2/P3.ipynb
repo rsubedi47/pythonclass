{
 "cells": [
  {
   "cell_type": "code",
   "execution_count": 8,
   "id": "fcfb5b8c",
   "metadata": {},
   "outputs": [
    {
     "name": "stdout",
     "output_type": "stream",
     "text": [
      "Enter a data to search:a\n",
      "Found\n",
      "6\n",
      "6\n"
     ]
    }
   ],
   "source": [
    "n = input(\"Enter a data to search:\")\n",
    "a = (\"Ram Shyam Hari Shyam Sita Gita\")\n",
    "c = a.count(n)    #counting the characters\n",
    "if n in a:\n",
    "    print(\"Found\")\n",
    "    print(a.count(n))\n",
    "else:\n",
    "    print(\"Not Found\")\n",
    "print(c)"
   ]
  },
  {
   "cell_type": "code",
   "execution_count": null,
   "id": "2172d568",
   "metadata": {},
   "outputs": [],
   "source": []
  }
 ],
 "metadata": {
  "kernelspec": {
   "display_name": "Python 3 (ipykernel)",
   "language": "python",
   "name": "python3"
  },
  "language_info": {
   "codemirror_mode": {
    "name": "ipython",
    "version": 3
   },
   "file_extension": ".py",
   "mimetype": "text/x-python",
   "name": "python",
   "nbconvert_exporter": "python",
   "pygments_lexer": "ipython3",
   "version": "3.9.13"
  }
 },
 "nbformat": 4,
 "nbformat_minor": 5
}
