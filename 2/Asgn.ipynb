{
 "cells": [
  {
   "cell_type": "code",
   "execution_count": 5,
   "id": "17c625f7",
   "metadata": {},
   "outputs": [
    {
     "name": "stdout",
     "output_type": "stream",
     "text": [
      "Enter value of n:2\n",
      "Enter Name of Student:Ram\n",
      "Enter your marks in English:32\n",
      "Enter your marks in Nepali:35\n",
      "Enter your marks in Physics:30\n",
      "Enter your marks in Chemistry:35\n",
      "Enter your marks in Maths:30\n",
      "Enter Name of Student:SHyam\n",
      "Enter your marks in English:65\n",
      "Enter your marks in Nepali:68\n",
      "Enter your marks in Physics:75\n",
      "Enter your marks in Chemistry:98\n",
      "Enter your marks in Maths:65\n",
      "Ram 32 35 30 35 30 32.4 D \n",
      "SHyam 65 68 75 98 65 74.2 B \n",
      "\n"
     ]
    }
   ],
   "source": [
    "result = str()  \n",
    "n = int(input(\"Enter value of n:\"))\n",
    "for i in range(n): # range ma 1 less hunxa.\n",
    "    name = input(\"Enter Name of Student:\")\n",
    "    english= int(input(\"Enter your marks in English:\"))\n",
    "    nepali= int(input(\"Enter your marks in Nepali:\"))\n",
    "    physics= int(input(\"Enter your marks in Physics:\"))\n",
    "    chemistry= int(input(\"Enter your marks in Chemistry:\"))\n",
    "    maths= int(input(\"Enter your marks in Maths:\"))\n",
    "    total = english + nepali +physics + chemistry + maths\n",
    "    per = total / 5\n",
    "    if per >= 80 :\n",
    "        grade = \"A\"\n",
    "    elif per >= 60:\n",
    "        grade = \"B\"\n",
    "    elif per >= 40:\n",
    "        grade = \"C\"\n",
    "    else:\n",
    "        grade = \"D\"\n",
    "    result = result + f\"{name} {english} {nepali} {physics} {chemistry} {maths} {per} {grade} \\n\"\n",
    "print(result)"
   ]
  }
 ],
 "metadata": {
  "kernelspec": {
   "display_name": "Python 3 (ipykernel)",
   "language": "python",
   "name": "python3"
  },
  "language_info": {
   "codemirror_mode": {
    "name": "ipython",
    "version": 3
   },
   "file_extension": ".py",
   "mimetype": "text/x-python",
   "name": "python",
   "nbconvert_exporter": "python",
   "pygments_lexer": "ipython3",
   "version": "3.9.13"
  }
 },
 "nbformat": 4,
 "nbformat_minor": 5
}
