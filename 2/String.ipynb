{
 "cells": [
  {
   "cell_type": "code",
   "execution_count": 3,
   "id": "444cf773",
   "metadata": {},
   "outputs": [
    {
     "name": "stdout",
     "output_type": "stream",
     "text": [
      "<class 'str'>\n",
      "<class 'str'>\n"
     ]
    }
   ],
   "source": [
    "a = 'hello'\n",
    "b = \"hello\"\n",
    "c = '''hello'''\n",
    "print(type(a))\n",
    "print(type(b))\n",
    "print(type(c))"
   ]
  },
  {
   "cell_type": "code",
   "execution_count": 5,
   "id": "377ce1cb",
   "metadata": {},
   "outputs": [
    {
     "name": "stdout",
     "output_type": "stream",
     "text": [
      "Hello WorldI am Python\n"
     ]
    }
   ],
   "source": [
    "#Operators in string + *\n",
    "a = \"Hello World\"\n",
    "b= \"I am Python\"\n",
    "c = a+b\n",
    "print (c)"
   ]
  },
  {
   "cell_type": "code",
   "execution_count": 7,
   "id": "41430147",
   "metadata": {},
   "outputs": [
    {
     "name": "stdout",
     "output_type": "stream",
     "text": [
      "Hello World\n",
      "Hello World\n",
      "\n"
     ]
    }
   ],
   "source": [
    "a = \"Hello World\\n\"  #\\n le next line\n",
    "print(a*2)"
   ]
  },
  {
   "cell_type": "code",
   "execution_count": 10,
   "id": "193c4b62",
   "metadata": {},
   "outputs": [
    {
     "name": "stdout",
     "output_type": "stream",
     "text": [
      "Enter a =8\n",
      "<class 'str'>\n"
     ]
    }
   ],
   "source": [
    "a = input(\"Enter a =\")\n",
    "print(type(a))  #  by default string"
   ]
  },
  {
   "cell_type": "code",
   "execution_count": 13,
   "id": "c414d50a",
   "metadata": {},
   "outputs": [
    {
     "name": "stdout",
     "output_type": "stream",
     "text": [
      "H\n",
      "Hello\n",
      "HloWrd  mP\n"
     ]
    }
   ],
   "source": [
    "#Index Print\n",
    "a = \"Hello World. I am Python\"\n",
    "print(a[0])\n",
    "print(a[0:5])  # String slicing\n",
    "print(a[0:20:2]) # last ko le increment garxa like in range. by default chai 1 hune vayo. ie. 0, 0+2,0+2+2 and so on."
   ]
  },
  {
   "cell_type": "code",
   "execution_count": 20,
   "id": "bf9d89fc",
   "metadata": {},
   "outputs": [
    {
     "data": {
      "text/plain": [
       "'Hello World'"
      ]
     },
     "execution_count": 20,
     "metadata": {},
     "output_type": "execute_result"
    }
   ],
   "source": [
    "a = \"Hello World\"\n",
    "a[10]\n",
    "a[0:111] # since, range is used no error even of no 111 index\n",
    "a[:] # zero dekhi last samma"
   ]
  },
  {
   "cell_type": "code",
   "execution_count": 26,
   "id": "a15fff7e",
   "metadata": {},
   "outputs": [
    {
     "data": {
      "text/plain": [
       "'dlrOW lleH'"
      ]
     },
     "execution_count": 26,
     "metadata": {},
     "output_type": "execute_result"
    }
   ],
   "source": [
    "a = \"Hell WOrld\"\n",
    "a[ : :-1]   # first dekhi last samma print but in opposite order"
   ]
  },
  {
   "cell_type": "code",
   "execution_count": 28,
   "id": "62a80444",
   "metadata": {},
   "outputs": [
    {
     "data": {
      "text/plain": [
       "'Hello Worl'"
      ]
     },
     "execution_count": 28,
     "metadata": {},
     "output_type": "execute_result"
    }
   ],
   "source": [
    "a= \"Hello World\"\n",
    "a[:-1] # zero dekhi -1 samma"
   ]
  },
  {
   "cell_type": "code",
   "execution_count": 32,
   "id": "e002431c",
   "metadata": {},
   "outputs": [
    {
     "data": {
      "text/plain": [
       "'Hello Worl'"
      ]
     },
     "execution_count": 32,
     "metadata": {},
     "output_type": "execute_result"
    }
   ],
   "source": [
    "a= \"Hello World\"\n",
    "a[0:-1] # suru bata but last ko include nagarne "
   ]
  },
  {
   "cell_type": "code",
   "execution_count": 35,
   "id": "bf6cf10a",
   "metadata": {},
   "outputs": [
    {
     "data": {
      "text/plain": [
       "'dlroW olle'"
      ]
     },
     "execution_count": 35,
     "metadata": {},
     "output_type": "execute_result"
    }
   ],
   "source": [
    "a = \"Hello World\"\n",
    "a[-1:0:-1]  # 0 lai consider gardaina, so, mathiko use garne. since, a[ : :-1] yesma, 0 xaina so, first ko lai exclude gardaina."
   ]
  },
  {
   "cell_type": "code",
   "execution_count": 36,
   "id": "fdf30bbd",
   "metadata": {},
   "outputs": [],
   "source": [
    "######################"
   ]
  },
  {
   "cell_type": "code",
   "execution_count": 38,
   "id": "71f33851",
   "metadata": {},
   "outputs": [
    {
     "ename": "TypeError",
     "evalue": "can only concatenate str (not \"int\") to str",
     "output_type": "error",
     "traceback": [
      "\u001b[1;31m---------------------------------------------------------------------------\u001b[0m",
      "\u001b[1;31mTypeError\u001b[0m                                 Traceback (most recent call last)",
      "\u001b[1;32m~\\AppData\\Local\\Temp\\ipykernel_9320\\254127424.py\u001b[0m in \u001b[0;36m<module>\u001b[1;34m\u001b[0m\n\u001b[0;32m      1\u001b[0m \u001b[0ma\u001b[0m \u001b[1;33m=\u001b[0m \u001b[1;34m\"Hello World\\n\"\u001b[0m  \u001b[1;31m#\\n le next line\u001b[0m\u001b[1;33m\u001b[0m\u001b[1;33m\u001b[0m\u001b[0m\n\u001b[1;32m----> 2\u001b[1;33m \u001b[0mprint\u001b[0m\u001b[1;33m(\u001b[0m\u001b[0ma\u001b[0m\u001b[1;33m+\u001b[0m\u001b[1;36m2\u001b[0m\u001b[1;33m)\u001b[0m\u001b[1;33m\u001b[0m\u001b[1;33m\u001b[0m\u001b[0m\n\u001b[0m",
      "\u001b[1;31mTypeError\u001b[0m: can only concatenate str (not \"int\") to str"
     ]
    }
   ],
   "source": [
    "a = \"Hello World\\n\"  #\\n le next line\n",
    "print(a+2)"
   ]
  },
  {
   "cell_type": "code",
   "execution_count": 41,
   "id": "1786e8af",
   "metadata": {},
   "outputs": [
    {
     "data": {
      "text/plain": [
       "'Hello World I am RamI am 45 .I am from Kathmandu'"
      ]
     },
     "execution_count": 41,
     "metadata": {},
     "output_type": "execute_result"
    }
   ],
   "source": [
    "name = \"Ram\"\n",
    "age = 45\n",
    "add = \"Kathmandu\"\n",
    "info = \"Hello World I am \"+ name+ \"I am \"+ str(age)+ \" .I am from \"+ add  # we have chnage age to string type\n",
    "info"
   ]
  },
  {
   "cell_type": "code",
   "execution_count": 42,
   "id": "b9bf03c2",
   "metadata": {},
   "outputs": [],
   "source": [
    "### STRING FORMATTING ### so,that we don't have to convert each and every datatype.\n",
    "\n",
    "       # use case - bulk emailing"
   ]
  },
  {
   "cell_type": "code",
   "execution_count": 47,
   "id": "e5ce05b3",
   "metadata": {},
   "outputs": [
    {
     "data": {
      "text/plain": [
       "'Hello World I am  Ram I am  45 I am from Kathmandu'"
      ]
     },
     "execution_count": 47,
     "metadata": {},
     "output_type": "execute_result"
    }
   ],
   "source": [
    "# string formatting\n",
    "name = \"Ram\"\n",
    "age = 45\n",
    "add = \"Kathmandu\"\n",
    "info = f\"Hello World I am  {name} I am  {age} I am from {add}\"  # we have chnage age to string type, {} and f are used, f is used with no space at beginning\n",
    "info"
   ]
  },
  {
   "cell_type": "code",
   "execution_count": null,
   "id": "4ded896b",
   "metadata": {},
   "outputs": [],
   "source": [
    "# Problem 1:\n",
    "bill = str() # empty string  #it is like crearting an empty bill # it is string initialization\n",
    "n = int(input(\"Enter n =\"))  # number of products\n",
    "for i in range(n):\n",
    "    product= input(\"Enter product =\")\n",
    "    price = int(input(\"Enter price =\"))\n",
    "    quantity = int(input(\"enter quantity =\"))\n",
    "    total = price * quantity\n",
    "    \n",
    "   # bill = bill + product +str(price)+ str (quantity)+ str(total)+\"\\n\" === before using string formatting\n",
    "    bill = bill + f\"{product} {price} {quantity} {total}\\n\"   # this will update the details in empty bill, tei bill ma add hudai janxa\n",
    "print(bill)"
   ]
  },
  {
   "cell_type": "code",
   "execution_count": 1,
   "id": "412f517b",
   "metadata": {},
   "outputs": [
    {
     "name": "stdout",
     "output_type": "stream",
     "text": [
      "Enter n =2\n",
      "Enter product =Apple\n",
      "Enter price =5\n",
      "enter quantity =10\n",
      "Enter product =Banana\n",
      "Enter price =65\n",
      "enter quantity =3\n",
      "Apple 5 10 50\n",
      "Banana 65 3 195\n",
      "\n",
      "All total =  245\n"
     ]
    }
   ],
   "source": [
    "# Problem 1 modified:\n",
    "bill = str() # empty string  #it is like crearting an empty bill\n",
    "grand_total = 0\n",
    "\n",
    "n = int(input(\"Enter n =\"))  # number of products\n",
    "for i in range(n):\n",
    "    product= input(\"Enter product =\")\n",
    "    price = int(input(\"Enter price =\"))\n",
    "    quantity = int(input(\"enter quantity =\"))\n",
    "    total = price * quantity\n",
    "    grand_total = grand_total+ total\n",
    "    \n",
    "    \n",
    "   # bill = bill + product +str(price)+ str (quantity)+ str(total)+\"\\n\" === before using string formatting\n",
    "    bill = bill + f\"{product} {price} {quantity} {total}\\n\"   # this will update the details in empty bill, tei bill ma add hudai janxa\n",
    "print(bill)    # this bill is string, even printed price is string\n",
    "print(\"All total = \", grand_total)"
   ]
  },
  {
   "cell_type": "code",
   "execution_count": 3,
   "id": "6d7af856",
   "metadata": {},
   "outputs": [
    {
     "name": "stdout",
     "output_type": "stream",
     "text": [
      "Enter n =\n"
     ]
    },
    {
     "ename": "ValueError",
     "evalue": "invalid literal for int() with base 10: ''",
     "output_type": "error",
     "traceback": [
      "\u001b[1;31m---------------------------------------------------------------------------\u001b[0m",
      "\u001b[1;31mValueError\u001b[0m                                Traceback (most recent call last)",
      "\u001b[1;32m~\\AppData\\Local\\Temp\\ipykernel_18420\\1773607327.py\u001b[0m in \u001b[0;36m<module>\u001b[1;34m\u001b[0m\n\u001b[0;32m      1\u001b[0m \u001b[1;31m# name, phone from users\u001b[0m\u001b[1;33m\u001b[0m\u001b[1;33m\u001b[0m\u001b[0m\n\u001b[0;32m      2\u001b[0m \u001b[0minfo\u001b[0m \u001b[1;33m=\u001b[0m \u001b[0mstr\u001b[0m\u001b[1;33m(\u001b[0m\u001b[1;33m)\u001b[0m\u001b[1;33m\u001b[0m\u001b[1;33m\u001b[0m\u001b[0m\n\u001b[1;32m----> 3\u001b[1;33m \u001b[0mn\u001b[0m \u001b[1;33m=\u001b[0m \u001b[0mint\u001b[0m\u001b[1;33m(\u001b[0m\u001b[0minput\u001b[0m\u001b[1;33m(\u001b[0m\u001b[1;34m\"Enter n =\"\u001b[0m\u001b[1;33m)\u001b[0m\u001b[1;33m)\u001b[0m\u001b[1;33m\u001b[0m\u001b[1;33m\u001b[0m\u001b[0m\n\u001b[0m\u001b[0;32m      4\u001b[0m \u001b[1;32mfor\u001b[0m \u001b[0mi\u001b[0m \u001b[1;32min\u001b[0m \u001b[0mrange\u001b[0m\u001b[1;33m(\u001b[0m\u001b[0mn\u001b[0m\u001b[1;33m)\u001b[0m\u001b[1;33m:\u001b[0m\u001b[1;33m\u001b[0m\u001b[1;33m\u001b[0m\u001b[0m\n\u001b[0;32m      5\u001b[0m     \u001b[0mname\u001b[0m \u001b[1;33m=\u001b[0m \u001b[0minput\u001b[0m\u001b[1;33m(\u001b[0m\u001b[1;34m\"Enter Your Name:\"\u001b[0m\u001b[1;33m)\u001b[0m\u001b[1;33m\u001b[0m\u001b[1;33m\u001b[0m\u001b[0m\n",
      "\u001b[1;31mValueError\u001b[0m: invalid literal for int() with base 10: ''"
     ]
    }
   ],
   "source": [
    "# name, phone from users\n",
    "info = str()\n",
    "n = int(input(\"Enter n =\"))\n",
    "for i in range(n):\n",
    "    name = input(\"Enter Your Name:\")\n",
    "    phone= input(\"Enter Your Phone:\")\n",
    "    info = info + f\"{name} {phone}\\n\"\n",
    "    #print(info) - if used here, each loop ma print garxa. so , bahira rakhne.\n",
    "print(info)\n"
   ]
  },
  {
   "cell_type": "code",
   "execution_count": null,
   "id": "76e7fec7",
   "metadata": {},
   "outputs": [],
   "source": [
    "### SEARCH/ FIND  in string ####"
   ]
  },
  {
   "cell_type": "code",
   "execution_count": 5,
   "id": "5c91c77f",
   "metadata": {},
   "outputs": [
    {
     "name": "stdout",
     "output_type": "stream",
     "text": [
      "Yes\n"
     ]
    }
   ],
   "source": [
    "a = \"Ram Shyam Hari Shiva Sita Ram\"\n",
    "if \"Ram\" in a:\n",
    "    print(\"Yes\")\n",
    "else:\n",
    "    print(\"No\")"
   ]
  },
  {
   "cell_type": "code",
   "execution_count": 8,
   "id": "770108c2",
   "metadata": {},
   "outputs": [
    {
     "name": "stdout",
     "output_type": "stream",
     "text": [
      "Enter name= a\n",
      "Yes\n",
      "6\n"
     ]
    }
   ],
   "source": [
    "name = input(\"Enter name= \")\n",
    "a = \"Ram Shyam Hari Shiva Sita Ram\"\n",
    "if name in a:\n",
    "    print(\"Yes\")\n",
    "    print(a.count(name))  # count() - works with string, here, \"a\" count() use garne using 'name' entered by user\n",
    "else:\n",
    "    print(\"No\")    # this will search sequence of character. ie. a,r,.. search garda pani aauxa. ani, it is case sensitive."
   ]
  },
  {
   "cell_type": "code",
   "execution_count": 18,
   "id": "e3b6414b",
   "metadata": {},
   "outputs": [
    {
     "name": "stdout",
     "output_type": "stream",
     "text": [
      "RAM SHYAM HARI SHIVA SITA RAM\n",
      "ram shyam hari shiva sita ram\n",
      "Ram Shyam Hari Shiva Sita Ram\n"
     ]
    }
   ],
   "source": [
    "# Conversion into uppercase and lower case \n",
    "a = \"Ram Shyam Hari Shiva Sita Ram\"\n",
    "print(a.upper())\n",
    "print(a.lower())  # changes ASCII value\n",
    "print(a)  # returns same as inital 'a' becaz STRING is immutable datatype.\n"
   ]
  },
  {
   "cell_type": "code",
   "execution_count": 20,
   "id": "00ef415a",
   "metadata": {},
   "outputs": [
    {
     "name": "stdout",
     "output_type": "stream",
     "text": [
      "Enter name= a\n",
      "Yes\n",
      "6\n"
     ]
    }
   ],
   "source": [
    "name = input(\"Enter name= \").lower()   # source nai changed to lower for comparison\n",
    "a = \"Ram Shyam Hari Shiva Sita Ram\".lower()\n",
    "if name in a:\n",
    "    print(\"Yes\")\n",
    "    print(a.count(name))  \n",
    "else:\n",
    "    print(\"No\")    # 'R' search garda pani find hunxa becaz string is immutable. "
   ]
  },
  {
   "cell_type": "code",
   "execution_count": 21,
   "id": "afc462d4",
   "metadata": {},
   "outputs": [],
   "source": [
    "#### REPLACE() #####"
   ]
  },
  {
   "cell_type": "code",
   "execution_count": 26,
   "id": "73b52fe7",
   "metadata": {},
   "outputs": [
    {
     "name": "stdout",
     "output_type": "stream",
     "text": [
      "Rama Shyam Hari Shiva Sita Rama\n"
     ]
    }
   ],
   "source": [
    "# replace()\n",
    "a = \"Ram Shyam Hari Shiva Sita Ram\"\n",
    "a= a. replace('Ram','Rama') # a is updated\n",
    "#print (a) # mathikai value aauxa since, string is immutable, so need to restore in new variable.\n",
    "print(a)"
   ]
  },
  {
   "cell_type": "code",
   "execution_count": 30,
   "id": "da93ba24",
   "metadata": {},
   "outputs": [
    {
     "name": "stdout",
     "output_type": "stream",
     "text": [
      " Shyam Hari Shiva Sita \n"
     ]
    }
   ],
   "source": [
    "# Remove garna mildaina but we will use ' '\n",
    "a = \"Ram Shyam Hari Shiva Sita Ram\"\n",
    "b = a. replace('Ram','')\n",
    "print(b)"
   ]
  },
  {
   "cell_type": "code",
   "execution_count": 32,
   "id": "82418d00",
   "metadata": {},
   "outputs": [
    {
     "data": {
      "text/plain": [
       "['Ram', 'Shyam', 'Hari', 'Shiva', 'Sita', 'Ram']"
      ]
     },
     "execution_count": 32,
     "metadata": {},
     "output_type": "execute_result"
    }
   ],
   "source": [
    "### split()##  uses SPACE as a basis to split, by default\n",
    "a = \"Ram Shyam Hari Shiva Sita Ram\"\n",
    "a.split()"
   ]
  },
  {
   "cell_type": "code",
   "execution_count": 33,
   "id": "66f5eae8",
   "metadata": {},
   "outputs": [
    {
     "data": {
      "text/plain": [
       "['Ram', 'Shyam', 'Hari', 'Shiva', 'Sita', 'Ram']"
      ]
     },
     "execution_count": 33,
     "metadata": {},
     "output_type": "execute_result"
    }
   ],
   "source": [
    "# if separated by '-'\n",
    "a = \"Ram-Shyam-Hari-Shiva-Sita-Ram\"\n",
    "a.split('-')"
   ]
  }
 ],
 "metadata": {
  "kernelspec": {
   "display_name": "Python 3 (ipykernel)",
   "language": "python",
   "name": "python3"
  },
  "language_info": {
   "codemirror_mode": {
    "name": "ipython",
    "version": 3
   },
   "file_extension": ".py",
   "mimetype": "text/x-python",
   "name": "python",
   "nbconvert_exporter": "python",
   "pygments_lexer": "ipython3",
   "version": "3.9.13"
  }
 },
 "nbformat": 4,
 "nbformat_minor": 5
}
