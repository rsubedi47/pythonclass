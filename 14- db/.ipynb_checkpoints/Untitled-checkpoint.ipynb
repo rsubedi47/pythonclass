{
 "cells": [
  {
   "cell_type": "code",
   "execution_count": 2,
   "id": "fee635ca",
   "metadata": {},
   "outputs": [],
   "source": [
    "import mysql.connector\n",
    "from mysql.connector import Error\n",
    "import pandas as pd"
   ]
  },
  {
   "cell_type": "code",
   "execution_count": 8,
   "id": "45557ca7",
   "metadata": {
    "scrolled": false
   },
   "outputs": [
    {
     "name": "stdout",
     "output_type": "stream",
     "text": [
      "MySQL DB connection successful\n"
     ]
    }
   ],
   "source": [
    "def connection(host_name,user_name,user_password):\n",
    "    connection = None\n",
    "    \n",
    "    try:\n",
    "        connection = mysql.connector.connect(\n",
    "            host = host_name,\n",
    "            user = user_name,\n",
    "            passwd = user_password)\n",
    "        print(\"MySQL DB connection successful\")\n",
    "    \n",
    "    except Error as err:\n",
    "        print(f\"Error : {err}\")\n",
    "    return connection\n",
    "\n",
    "## put your SQL password\n",
    "\n",
    "pw = \"\"\n",
    "\n",
    "##database name\n",
    "db = \"Mysql_Python\"\n",
    "connection = connection(\"localhost\",\"root\",pw)\n"
   ]
  },
  {
   "cell_type": "code",
   "execution_count": 11,
   "id": "1eeec4fa",
   "metadata": {},
   "outputs": [
    {
     "name": "stdout",
     "output_type": "stream",
     "text": [
      "Database Created Successfully\n"
     ]
    }
   ],
   "source": [
    "# creating databse = mysql_python\n",
    "\n",
    "def create_db(connection,query):\n",
    "    cursor = connection.cursor()  ## this cursor is used to execute statements to SQL DB\n",
    "    try:\n",
    "        cursor.execute(query)   # yo ' query' parameter ma 'create_db_query' argument aauxa\n",
    "        print(\"Database Created Successfully\")\n",
    "        \n",
    "        \n",
    "    except Error as err:\n",
    "        print(f\"Error: '{err}'\")\n",
    "        \n",
    "create_db_query = \"Create database mysql_python\"   ## this is the exact query, mathing cursor.exexute bata pass hunxa\n",
    "create_db(connection, create_db_query)"
   ]
  }
 ],
 "metadata": {
  "kernelspec": {
   "display_name": "Python 3 (ipykernel)",
   "language": "python",
   "name": "python3"
  },
  "language_info": {
   "codemirror_mode": {
    "name": "ipython",
    "version": 3
   },
   "file_extension": ".py",
   "mimetype": "text/x-python",
   "name": "python",
   "nbconvert_exporter": "python",
   "pygments_lexer": "ipython3",
   "version": "3.9.13"
  }
 },
 "nbformat": 4,
 "nbformat_minor": 5
}
