{
 "cells": [
  {
   "cell_type": "code",
   "execution_count": 1,
   "id": "7d6d3785",
   "metadata": {},
   "outputs": [
    {
     "name": "stdout",
     "output_type": "stream",
     "text": [
      "Requirement already satisfied: mysql-connector in c:\\users\\aayush\\anaconda3\\lib\\site-packages (2.2.9)\n"
     ]
    }
   ],
   "source": [
    "!pip install mysql-connector"
   ]
  },
  {
   "cell_type": "code",
   "execution_count": 4,
   "id": "59ce9052",
   "metadata": {},
   "outputs": [],
   "source": [
    "import mysql.connector\n",
    "#importing database\n",
    "database = mysql.connector.connect(host=\"localhost\",user=\"root\",password=\"\")\n",
    "db = database.cursor()    # server ko connction hold gareko"
   ]
  },
  {
   "cell_type": "code",
   "execution_count": 6,
   "id": "ff43c22d",
   "metadata": {},
   "outputs": [],
   "source": [
    "sql = \"CREATE DATABASE pythons10\"     ## db created\n",
    "db.execute(sql)"
   ]
  },
  {
   "cell_type": "code",
   "execution_count": 7,
   "id": "18d91d94",
   "metadata": {},
   "outputs": [],
   "source": [
    "\n",
    "database = mysql.connector.connect(host=\"localhost\",\n",
    "                                   user=\"root\",\n",
    "                                   password=\"\",\n",
    "                                   database = \"pythonclass530\")    # database saga connect garne\n",
    "\n",
    "db = database.cursor() ## database saga connect garera hold gareko. yeslai chaiyeko bela use garne\n",
    "\n",
    "\n",
    "\n",
    "sql = \"CREATE TABLE subject(id INT, name VARCHAR(255))\"   # normal and simple table\n",
    "db.execute(sql)"
   ]
  },
  {
   "cell_type": "code",
   "execution_count": 9,
   "id": "31e8b887",
   "metadata": {},
   "outputs": [],
   "source": [
    "\n",
    "# to make larger table in detailed just like we created manually.\n",
    "sql = '''CREATE TABLE `students` (\n",
    "  `sn` int(11) NOT NULL,\n",
    "  `name` varchar(200) COLLATE utf8_unicode_ci NOT NULL,\n",
    "  `physics` float NOT NULL DEFAULT 0,\n",
    "  `chemistry` float NOT NULL DEFAULT 0,\n",
    "  `math` float NOT NULL DEFAULT 0,\n",
    "  `english` float NOT NULL DEFAULT 0,\n",
    "  `nepali` float NOT NULL DEFAULT 0,\n",
    "  `total` float NOT NULL DEFAULT 0,\n",
    "  `per` float NOT NULL DEFAULT 0,\n",
    "  `grade` varchar(5) COLLATE utf8_unicode_ci NOT NULL DEFAULT 'F'\n",
    ")'''\n",
    "db.execute(sql)"
   ]
  },
  {
   "cell_type": "code",
   "execution_count": 11,
   "id": "16933fb3",
   "metadata": {},
   "outputs": [],
   "source": [
    "# Insert data\n",
    "import mysql.connector\n",
    "database = mysql.connector.connect(host=\"localhost\",\n",
    "                                   user=\"root\",\n",
    "                                   password=\"\",\n",
    "                                   database = \"pythonclass530\")\n",
    "db = database.cursor()\n",
    "sql = '''INSERT INTO student (sn, name, physics, chemistry, math, english, nepali, total, per, grade) \n",
    "VALUES (8, 'Harry', 78, 76, 90, 56, 56, 400, 80, 'A');'''\n",
    "\n",
    "db.execute(sql)   # db ma halxa\n",
    "database.commit()  # commit nagarunjel samma change dekhidaina ### commit garne bela 'databse' use garne"
   ]
  },
  {
   "cell_type": "code",
   "execution_count": 12,
   "id": "be393ac6",
   "metadata": {},
   "outputs": [
    {
     "name": "stdout",
     "output_type": "stream",
     "text": [
      "Enter n = 1\n",
      "Enter name = Sarita\n",
      "Enter physics  marks = 89\n",
      "Enter chemistry marks = 90\n",
      "Enter math marks = 67\n",
      "Enter english marks = 76\n",
      "Enter nepali marks =45\n",
      "B Grade\n"
     ]
    }
   ],
   "source": [
    "\n",
    "## taking input from user and inserting into database\n",
    "\n",
    "\n",
    "n = int(input(\"Enter n = \"))\n",
    "for i in range(n):\n",
    "    name = input(\"Enter name = \")\n",
    "    physics = int(input(\"Enter physics  marks = \"))\n",
    "    chemistry = int(input(\"Enter chemistry marks = \"))\n",
    "    math = int(input(\"Enter math marks = \"))\n",
    "    english = int(input(\"Enter english marks = \"))\n",
    "    nepali = int(input(\"Enter nepali marks =\"))\n",
    "    total = physics+chemistry+math+english+nepali\n",
    "    per = total/5\n",
    "    if per >= 80:\n",
    "        grade = 'A'\n",
    "    elif per >= 60:\n",
    "        grade = 'B'\n",
    "    elif per >= 50:\n",
    "        grade = 'C'\n",
    "    else:\n",
    "        grade = 'F'\n",
    "\n",
    "    print(grade,\"Grade\")\n",
    "    sql = f'''INSERT INTO student (name, physics, chemistry, math, english, nepali, total, per, grade) \n",
    "    VALUES ('{name}', {physics}, {chemistry}, {math}, {english}, {nepali}, {total}, {per}, '{grade}');'''\n",
    "    db.execute(sql)\n",
    "    \n",
    "database.commit()"
   ]
  },
  {
   "cell_type": "code",
   "execution_count": 14,
   "id": "ee5a3bae",
   "metadata": {},
   "outputs": [
    {
     "data": {
      "text/plain": [
       "[(1, 'Ram Prasad', 78.0, 90.0, 78.0, 96.0, 45.0, 400.0, 80.5, 'A'),\n",
       " (2, 'Shyam', 78.0, 50.0, 100.0, 87.0, 70.0, 410.0, 82.5, 'A'),\n",
       " (3, 'Shyama', 88.0, 50.0, 100.0, 87.0, 70.0, 410.0, 84.5, 'A'),\n",
       " (4, 'Shyama', 88.0, 50.0, 100.0, 87.0, 70.0, 410.0, 84.5, 'A'),\n",
       " (7, 'Hari', 78.0, 76.0, 90.0, 56.0, 56.0, 400.0, 80.0, 'A'),\n",
       " (8, 'Harry', 78.0, 76.0, 90.0, 56.0, 56.0, 400.0, 80.0, 'A'),\n",
       " (9, 'Sarita', 89.0, 90.0, 67.0, 76.0, 45.0, 367.0, 73.4, 'B')]"
      ]
     },
     "execution_count": 14,
     "metadata": {},
     "output_type": "execute_result"
    }
   ],
   "source": [
    "## Reading data from database\n",
    "\n",
    "sql = \"SELECT * FROM student\"\n",
    "db.execute(sql)\n",
    "\n",
    "db.fetchall()   ## tuple ko format ma aayo\n"
   ]
  },
  {
   "cell_type": "code",
   "execution_count": 16,
   "id": "78971240",
   "metadata": {},
   "outputs": [
    {
     "data": {
      "text/plain": [
       "[(9, 'Sarita', 89.0, 90.0, 67.0, 76.0, 45.0, 367.0, 73.4, 'B')]"
      ]
     },
     "execution_count": 16,
     "metadata": {},
     "output_type": "execute_result"
    }
   ],
   "source": [
    "## reading with condition\n",
    "\n",
    "sql = \"SELECT * FROM student WHERE grade = 'B'\"\n",
    "db.execute(sql)\n",
    "\n",
    "db.fetchall()"
   ]
  },
  {
   "cell_type": "code",
   "execution_count": 17,
   "id": "f0c68a00",
   "metadata": {},
   "outputs": [],
   "source": [
    "## Deleting with condition\n",
    "\n",
    "sql = \"DELETE FROM student WHERE sn = 9\"\n",
    "db.execute(sql)\n",
    "\n",
    "database.commit()   ## database changed so, commit garnuparyo"
   ]
  },
  {
   "cell_type": "code",
   "execution_count": 18,
   "id": "eaf4c6db",
   "metadata": {},
   "outputs": [],
   "source": [
    "# update\n",
    "\n",
    "sql = \"UPDATE student SET name = 'Rama' WHERE name = 'Ram'\"\n",
    "db.execute(sql)\n",
    "database.commit()"
   ]
  },
  {
   "cell_type": "code",
   "execution_count": null,
   "id": "e57f92c7",
   "metadata": {},
   "outputs": [],
   "source": []
  }
 ],
 "metadata": {
  "kernelspec": {
   "display_name": "Python 3 (ipykernel)",
   "language": "python",
   "name": "python3"
  },
  "language_info": {
   "codemirror_mode": {
    "name": "ipython",
    "version": 3
   },
   "file_extension": ".py",
   "mimetype": "text/x-python",
   "name": "python",
   "nbconvert_exporter": "python",
   "pygments_lexer": "ipython3",
   "version": "3.9.13"
  }
 },
 "nbformat": 4,
 "nbformat_minor": 5
}
