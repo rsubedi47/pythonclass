{
 "cells": [
  {
   "cell_type": "code",
   "execution_count": 6,
   "id": "3cb10d11",
   "metadata": {},
   "outputs": [
    {
     "name": "stdout",
     "output_type": "stream",
     "text": [
      "{'Shyam', 'Mel', 'Hari', 'Ram', 'Mike', 'Gita'}\n"
     ]
    }
   ],
   "source": [
    "U = {'Ram', 'Shyam', 'Hari', 'Gita'}\n",
    "U.add('Mike')\n",
    "U.add('Mel')\n",
    "print(U)"
   ]
  },
  {
   "cell_type": "code",
   "execution_count": 13,
   "id": "529fc41e",
   "metadata": {},
   "outputs": [
    {
     "name": "stdout",
     "output_type": "stream",
     "text": [
      "True\n"
     ]
    }
   ],
   "source": [
    "# Check if value in set\n",
    "u = {'Shyam', 'Mel', 'Hari', 'Ram', 'Mike', 'Gita'}\n",
    "a= 'Ram' in U    # for ... in... garda mildaina\n",
    "print(a)s\n",
    "    \n"
   ]
  },
  {
   "cell_type": "code",
   "execution_count": 14,
   "id": "32c659d9",
   "metadata": {},
   "outputs": [
    {
     "data": {
      "text/plain": [
       "{'cat', 'dog', 'fish'}"
      ]
     },
     "execution_count": 14,
     "metadata": {},
     "output_type": "execute_result"
    }
   ],
   "source": [
    "## dictionary to list  =  only key remains\n",
    "\n",
    "d = {'dog': 1, 'cat':2, 'fish':3}\n",
    "set(d) ## only key remains"
   ]
  },
  {
   "cell_type": "code",
   "execution_count": 17,
   "id": "8fd1e948",
   "metadata": {},
   "outputs": [
    {
     "name": "stdout",
     "output_type": "stream",
     "text": [
      "{'Krishna', 'Shyam', 'Mel', 'Hari', 'Ganesh', 'Ram', 'Shiva', 'Mike', 'Gita'}\n",
      "{'Shyam', 'Gita', 'Ram', 'Hari'}\n"
     ]
    }
   ],
   "source": [
    "# union and intersection\n",
    "\n",
    "a = {'Shyam', 'Mel', 'Hari', 'Ram', 'Mike', 'Gita'}\n",
    "b = {'Ram', 'Shyam', 'Hari', 'Gita', 'Krishna','Ganesh', 'Shiva'}\n",
    "\n",
    "print(a.union(b))\n",
    "\n",
    "print(a.intersection(b))\n"
   ]
  },
  {
   "cell_type": "code",
   "execution_count": 18,
   "id": "d0784257",
   "metadata": {},
   "outputs": [
    {
     "data": {
      "text/plain": [
       "{'Captain', 'IronMan', 'Michael', 'Thor'}"
      ]
     },
     "execution_count": 18,
     "metadata": {},
     "output_type": "execute_result"
    }
   ],
   "source": [
    "u = {'Krishna', 'Shyam', 'Mel', 'Hari', 'Ganesh', 'Ram', 'Shiva', 'Mike', 'Gita','Michael','IronMan','Captain','Thor'}\n",
    "a = {'Shyam', 'Mel', 'Hari', 'Ram', 'Mike', 'Gita'}\n",
    "b = {'Ram', 'Shyam', 'Hari', 'Gita', 'Krishna','Ganesh', 'Shiva'}\n",
    "\n",
    "u-a.union(b)  # these are not in either of sets"
   ]
  }
 ],
 "metadata": {
  "kernelspec": {
   "display_name": "Python 3 (ipykernel)",
   "language": "python",
   "name": "python3"
  },
  "language_info": {
   "codemirror_mode": {
    "name": "ipython",
    "version": 3
   },
   "file_extension": ".py",
   "mimetype": "text/x-python",
   "name": "python",
   "nbconvert_exporter": "python",
   "pygments_lexer": "ipython3",
   "version": "3.9.13"
  }
 },
 "nbformat": 4,
 "nbformat_minor": 5
}
