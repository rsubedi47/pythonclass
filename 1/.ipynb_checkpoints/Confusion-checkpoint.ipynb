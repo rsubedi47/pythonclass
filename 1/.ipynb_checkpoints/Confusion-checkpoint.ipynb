{
 "cells": [
  {
   "cell_type": "code",
   "execution_count": null,
   "id": "5e6e61d1",
   "metadata": {},
   "outputs": [],
   "source": [
    "#For Loop\n",
    "s = int()   # this is euivalent to s=0\n",
    "n = int(input(\"Enter n = \"))\n",
    "for i in range(n):\n",
    "    x = int(input(\"Enter x = \"))\n",
    "    s = s + x\n",
    "print(s)"
   ]
  },
  {
   "cell_type": "code",
   "execution_count": null,
   "id": "ad31a8b5",
   "metadata": {},
   "outputs": [],
   "source": [
    "s = 1\n",
    "n = int(input(\"Enter n = \"))\n",
    "for i in range(n):\n",
    "    x = int(input(\"Enter x = \"))\n",
    "    s = s * x\n",
    "print(s)"
   ]
  },
  {
   "cell_type": "code",
   "execution_count": null,
   "id": "ef64277e",
   "metadata": {},
   "outputs": [],
   "source": [
    "# 4! = 1*2*3*4\n",
    "s = 1\n",
    "n = int(input(\"Enter n = \"))\n",
    "for i in range(1,n+1):\n",
    "    s = s * i\n",
    "    \n",
    "    print(s,i)\n",
    "    \n",
    "print(s)"
   ]
  },
  {
   "cell_type": "code",
   "execution_count": 2,
   "id": "2ce21d76",
   "metadata": {},
   "outputs": [
    {
     "name": "stdout",
     "output_type": "stream",
     "text": [
      "Hello\n",
      "\n",
      "World\n",
      "\n",
      "I\n",
      "\n",
      "am\n",
      "\n",
      "Python"
     ]
    }
   ],
   "source": [
    "a = \"Hello World I am Python\"\n",
    "for i in a:\n",
    "    if i == \" \":\n",
    "        print(\"\\n\")\n",
    "    else:\n",
    "        print(i,end = \"\")"
   ]
  },
  {
   "cell_type": "code",
   "execution_count": null,
   "id": "e0d4f436",
   "metadata": {},
   "outputs": [],
   "source": [
    "# CONTROL STATEMENTS"
   ]
  },
  {
   "cell_type": "code",
   "execution_count": 1,
   "id": "3f8f2a77",
   "metadata": {},
   "outputs": [
    {
     "name": "stdout",
     "output_type": "stream",
     "text": [
      "Hello World"
     ]
    }
   ],
   "source": [
    "a = \"Hello World. I am Python.\"             #????\n",
    "for i in a:\n",
    "    if i == \".\":\n",
    "        break\n",
    "    else:\n",
    "        print(i,end = \"\")  # how did it print - hellow world??\n",
    "    "
   ]
  },
  {
   "cell_type": "code",
   "execution_count": null,
   "id": "823fba9c",
   "metadata": {},
   "outputs": [],
   "source": [
    "# prime -> 2,3,5,7,11,13\n",
    "# composite no -> 4,6,8,9,10,12\n",
    "n = int(input(\"Enter n = \"))\n",
    "if n>1:\n",
    "    for i in range(2,n//2):\n",
    "        if n%i == 0:\n",
    "            print(\"Composite no \")\n",
    "            break\n",
    "\n",
    "    else:\n",
    "        print(\"Prime no \")\n",
    "\n",
    "else:\n",
    "    print(\"The no shhould be greater than 1\")"
   ]
  }
 ],
 "metadata": {
  "kernelspec": {
   "display_name": "Python 3 (ipykernel)",
   "language": "python",
   "name": "python3"
  },
  "language_info": {
   "codemirror_mode": {
    "name": "ipython",
    "version": 3
   },
   "file_extension": ".py",
   "mimetype": "text/x-python",
   "name": "python",
   "nbconvert_exporter": "python",
   "pygments_lexer": "ipython3",
   "version": "3.9.13"
  }
 },
 "nbformat": 4,
 "nbformat_minor": 5
}
