{
 "cells": [
  {
   "cell_type": "code",
   "execution_count": 1,
   "id": "f582bced",
   "metadata": {},
   "outputs": [],
   "source": [
    "#< > <= >= == !="
   ]
  },
  {
   "cell_type": "code",
   "execution_count": 10,
   "id": "d3bd46fd",
   "metadata": {},
   "outputs": [
    {
     "name": "stdout",
     "output_type": "stream",
     "text": [
      "False\n",
      "True\n",
      "False\n",
      "True\n",
      "False\n",
      "True\n"
     ]
    }
   ],
   "source": [
    "a = 10\n",
    "b = 3\n",
    "print(a < b)\n",
    "print(a>b)\n",
    "print(a<=b)\n",
    "print(a>=b)\n",
    "print(a == b)\n",
    "print(a != b)"
   ]
  },
  {
   "cell_type": "code",
   "execution_count": 13,
   "id": "358eb653",
   "metadata": {},
   "outputs": [
    {
     "name": "stdout",
     "output_type": "stream",
     "text": [
      "Enter a = 10\n",
      "Enter b = 10\n",
      "False\n",
      "False\n",
      "True\n",
      "True\n",
      "True\n",
      "False\n"
     ]
    }
   ],
   "source": [
    "a = int(input(\"Enter a = \"))\n",
    "b = int(input(\"Enter b = \"))\n",
    "print(a < b)\n",
    "print(a>b)\n",
    "print(a<=b)\n",
    "print(a>=b)\n",
    "print(a == b)\n",
    "print(a != b)"
   ]
  },
  {
   "cell_type": "code",
   "execution_count": null,
   "id": "15cac85e",
   "metadata": {},
   "outputs": [],
   "source": [
    "# if <condition>:\n",
    "#     <operations>\n",
    "# elif <condition>:\n",
    "#     <operations>\n",
    "# ....\n",
    "# else:\n",
    "#     <operations>"
   ]
  },
  {
   "cell_type": "code",
   "execution_count": null,
   "id": "23aeae69",
   "metadata": {},
   "outputs": [],
   "source": [
    "# if <condition>:\n",
    "#     <operations>"
   ]
  },
  {
   "cell_type": "code",
   "execution_count": 5,
   "id": "746bc2ac",
   "metadata": {},
   "outputs": [
    {
     "name": "stdout",
     "output_type": "stream",
     "text": [
      "Enter a = 11\n",
      "The no is odd\n"
     ]
    }
   ],
   "source": [
    "a = int(input(\"Enter a = \"))\n",
    "if a%2==0:\n",
    "    print(\"The no is even\")\n",
    "else:\n",
    "    print(\"The no is odd\")"
   ]
  },
  {
   "cell_type": "code",
   "execution_count": null,
   "id": "99bbd181",
   "metadata": {},
   "outputs": [],
   "source": [
    "a = int(input(\"Enter 1 or 2 or 3 \"))\n",
    "if a == 1:\n",
    "    print(\"You entered 1\")\n",
    "elif a == 2:\n",
    "    print(\"You entered 2\")\n",
    "elif a == 3:\n",
    "    print(\"You entered 3\")\n",
    "else:\n",
    "    print(\"Enter a valid no\")"
   ]
  },
  {
   "cell_type": "code",
   "execution_count": null,
   "id": "e07e4b42",
   "metadata": {},
   "outputs": [],
   "source": [
    "a = int(input(\"Enter a = \"))\n",
    "b = int(input(\"Enter b = \"))\n",
    "o = input(\"Enter + - * /  \")\n",
    "if o == '+':\n",
    "    print(a+b)\n",
    "elif o == '-':\n",
    "    print(a-b)\n",
    "elif o == '*':\n",
    "    print(a*b)\n",
    "elif o == '/':\n",
    "    print(a/b)\n",
    "else:\n",
    "    print(\"Enter valid operator\")"
   ]
  },
  {
   "cell_type": "code",
   "execution_count": 1,
   "id": "464e9fd5",
   "metadata": {},
   "outputs": [
    {
     "name": "stdout",
     "output_type": "stream",
     "text": [
      "Enter physics marks = 89\n",
      "Enter physics chemistry = 56\n",
      "Enter physics math = 76\n",
      "Enter english marks = 78\n",
      "Enter physics nepali = 87\n",
      "Your grade is B\n"
     ]
    }
   ],
   "source": [
    "physics = int(input(\"Enter physics marks = \"))\n",
    "chemistry = int(input(\"Enter physics chemistry = \"))\n",
    "math = int(input(\"Enter physics math = \"))\n",
    "english = int(input(\"Enter english marks = \"))\n",
    "nepali = int(input(\"Enter physics nepali = \"))\n",
    "total = physics+chemistry+math+english+nepali\n",
    "per = total/5\n",
    "if per >= 80:\n",
    "    print(\"Your grade is A\")\n",
    "elif per >=60:\n",
    "    print(\"Your grade is B\")\n",
    "elif per >= 45:\n",
    "    print(\"Your grade is C\")\n",
    "else:\n",
    "    print(\"Your grade is F\")"
   ]
  },
  {
   "cell_type": "code",
   "execution_count": null,
   "id": "012b6d3a",
   "metadata": {},
   "outputs": [],
   "source": [
    "physics = int(input(\"Enter physics marks = \"))\n",
    "chemistry = int(input(\"Enter physics chemistry = \"))\n",
    "math = int(input(\"Enter physics math = \"))\n",
    "english = int(input(\"Enter english marks = \"))\n",
    "nepali = int(input(\"Enter physics nepali = \"))\n",
    "total = physics+chemistry+math+english+nepali\n",
    "per = total/5\n",
    "\n",
    "if per >= 80:\n",
    "    print(\"Your grade is A\")\n",
    "elif per >=60:\n",
    "    print(\"Your grade is B\")\n",
    "elif per >= 45:\n",
    "    print(\"Your grade is C\")\n",
    "else:\n",
    "    print(\"Your grade is F\")"
   ]
  },
  {
   "cell_type": "code",
   "execution_count": null,
   "id": "fdba61a2",
   "metadata": {},
   "outputs": [],
   "source": [
    "# and\n",
    "# True and True ->True\n",
    "# or\n",
    "# True or False -> True"
   ]
  },
  {
   "cell_type": "code",
   "execution_count": 5,
   "id": "8d823489",
   "metadata": {},
   "outputs": [
    {
     "name": "stdout",
     "output_type": "stream",
     "text": [
      "True\n",
      "False\n",
      "False\n",
      "False\n"
     ]
    }
   ],
   "source": [
    "# and &\n",
    "print(True and True)\n",
    "print(False and True)\n",
    "print(True and False)\n",
    "print(False and False)"
   ]
  },
  {
   "cell_type": "code",
   "execution_count": 2,
   "id": "ed2a74b3",
   "metadata": {},
   "outputs": [
    {
     "name": "stdout",
     "output_type": "stream",
     "text": [
      "True\n",
      "True\n",
      "True\n",
      "False\n"
     ]
    }
   ],
   "source": [
    "# or |\n",
    "print(True or True)\n",
    "print(False or True)\n",
    "print(True or False)\n",
    "print(False or False)"
   ]
  },
  {
   "cell_type": "code",
   "execution_count": 7,
   "id": "793fcc87",
   "metadata": {},
   "outputs": [
    {
     "name": "stdout",
     "output_type": "stream",
     "text": [
      "Enter a = 10\n",
      "Enter b = 0\n",
      "Enter + - * /  /\n",
      "The value of b can not be zero\n"
     ]
    }
   ],
   "source": [
    "a = int(input(\"Enter a = \"))\n",
    "b = int(input(\"Enter b = \"))\n",
    "o = input(\"Enter + - * /  \")\n",
    "if o == '+':\n",
    "    print(a+b)\n",
    "elif o == '-':\n",
    "    print(a-b)\n",
    "elif o == '*':\n",
    "    print(a*b)\n",
    "elif (o == '/') and (b != 0):  # here and is used, so, if only both the condition are true, it wll print ie, T + T = T\n",
    "    print(a/b)\n",
    "elif (o == '/') and (b == 0):\n",
    "    print(\"The value of b can not be zero\")\n",
    "else:\n",
    "    print(\"Enter valid operator\")"
   ]
  },
  {
   "cell_type": "code",
   "execution_count": null,
   "id": "c5ef413d",
   "metadata": {},
   "outputs": [],
   "source": [
    "# Nested if\n",
    "# if <condition>:\n",
    "#     if <condition>:\n",
    "#         <operations>\n",
    "#     else:\n",
    "#         <operation>"
   ]
  },
  {
   "cell_type": "code",
   "execution_count": 9,
   "id": "ec3f5d33",
   "metadata": {},
   "outputs": [
    {
     "name": "stdout",
     "output_type": "stream",
     "text": [
      "Enter physics marks = 78\n",
      "Enter physics chemistry = 90\n",
      "Enter physics math = 87\n",
      "Enter english marks = 90\n",
      "Enter physics nepali = 87\n",
      "Your grade is A\n"
     ]
    }
   ],
   "source": [
    "physics = int(input(\"Enter physics marks = \"))\n",
    "chemistry = int(input(\"Enter physics chemistry = \"))\n",
    "math = int(input(\"Enter physics math = \"))\n",
    "english = int(input(\"Enter english marks = \"))\n",
    "nepali = int(input(\"Enter physics nepali = \"))\n",
    "total = physics+chemistry+math+english+nepali\n",
    "per = total/5\n",
    "if physics >=32 and chemistry >=32 and math>=32 and english>=32 and nepali>32:\n",
    "    if per >= 80:\n",
    "        print(\"Your grade is A\")\n",
    "    elif per >=60:\n",
    "        print(\"Your grade is B\")\n",
    "    elif per >= 45:\n",
    "        print(\"Your grade is C\")\n",
    "        \n",
    "else:\n",
    "    print(\"Your grade is F\")"
   ]
  },
  {
   "cell_type": "code",
   "execution_count": null,
   "id": "10b30b39",
   "metadata": {},
   "outputs": [],
   "source": [
    "physics = int(input(\"Enter physics marks = \"))\n",
    "chemistry = int(input(\"Enter physics chemistry = \"))\n",
    "math = int(input(\"Enter physics math = \"))\n",
    "english = int(input(\"Enter english marks = \"))\n",
    "nepali = int(input(\"Enter physics nepali = \"))\n",
    "total = physics+chemistry+math+english+nepali\n",
    "per = total/5\n",
    "if (physics >=32 and physics<=100) and (chemistry >=32 and chemistry<=100) and (math>=32 and math<=100) and (english>=32 and english<=100) and (nepali>32 and nepali <=100):\n",
    "    if per >= 80:\n",
    "        print(\"Your grade is A\")\n",
    "    elif per >=60:\n",
    "        print(\"Your grade is B\")\n",
    "    elif per >= 45:\n",
    "        print(\"Your grade is C\")\n",
    "        \n",
    "else:\n",
    "    print(\"Invalid marks or Your grade is F\")"
   ]
  },
  {
   "cell_type": "markdown",
   "id": "3ff1e2f5",
   "metadata": {},
   "source": [
    "###### "
   ]
  }
 ],
 "metadata": {
  "kernelspec": {
   "display_name": "Python 3 (ipykernel)",
   "language": "python",
   "name": "python3"
  },
  "language_info": {
   "codemirror_mode": {
    "name": "ipython",
    "version": 3
   },
   "file_extension": ".py",
   "mimetype": "text/x-python",
   "name": "python",
   "nbconvert_exporter": "python",
   "pygments_lexer": "ipython3",
   "version": "3.9.13"
  }
 },
 "nbformat": 4,
 "nbformat_minor": 5
}
