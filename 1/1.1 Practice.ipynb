{
 "cells": [
  {
   "cell_type": "code",
   "execution_count": 10,
   "id": "ed852555",
   "metadata": {},
   "outputs": [
    {
     "name": "stdout",
     "output_type": "stream",
     "text": [
      "Enter how many times to print:4\n",
      "Hello Python\n",
      "Hello Python\n",
      "Hello Python\n",
      "Hello Python\n",
      "\n"
     ]
    }
   ],
   "source": [
    "### enlargement - printing multiple times ###\n",
    "\n",
    "a= \"Hello Python\\n\"\n",
    "b = int(input(\"Enter how many times to print:\"))   # Input le bydefault as a string linxa, so we need to define by ourselves\n",
    "c= a *b\n",
    "print(c)\n"
   ]
  },
  {
   "cell_type": "code",
   "execution_count": 16,
   "id": "b26b273b",
   "metadata": {},
   "outputs": [
    {
     "name": "stdout",
     "output_type": "stream",
     "text": [
      "Enter First Name:Rajan\n",
      "Enter Last Name:Subedi\n",
      "Rajan\n",
      " Subedi\n"
     ]
    }
   ],
   "source": [
    "### Basic I/O ###\n",
    "f_name = input(\"Enter First Name:\")\n",
    "l_name = input(\"Enter Last Name:\")\n",
    "full_name = f_name + \"\\n \"+ l_name\n",
    "print(full_name)\n"
   ]
  },
  {
   "cell_type": "code",
   "execution_count": 17,
   "id": "e5fc20bb",
   "metadata": {},
   "outputs": [
    {
     "name": "stdout",
     "output_type": "stream",
     "text": [
      "Enter p = 2000\n",
      "Enter t = 20\n",
      "Enter r = 2\n",
      "The value of i =  800.0\n"
     ]
    }
   ],
   "source": [
    "# type casting ##\n",
    "\n",
    "p = int(input(\"Enter p = \"))\n",
    "t = float(input(\"Enter t = \"))\n",
    "r = float(input(\"Enter r = \"))\n",
    "\n",
    "i = p*t*r/100\n",
    "\n",
    "print(\"The value of i = \",i)"
   ]
  },
  {
   "cell_type": "code",
   "execution_count": null,
   "id": "4d302158",
   "metadata": {},
   "outputs": [],
   "source": [
    "#### SECOND CLASS###"
   ]
  },
  {
   "cell_type": "code",
   "execution_count": null,
   "id": "555dd729",
   "metadata": {},
   "outputs": [],
   "source": [
    "#1. COnditional Statements (eg. else if)\n",
    "\n",
    "#A. Conditional Operators\n",
    "'''<  > <= >= \n",
    "==   -  equal to\n",
    "!=   - not equal to\n",
    "\n",
    "'''\n"
   ]
  },
  {
   "cell_type": "code",
   "execution_count": 18,
   "id": "32a61529",
   "metadata": {},
   "outputs": [
    {
     "name": "stdout",
     "output_type": "stream",
     "text": [
      "Enter a number:3\n",
      "Enter another number:5\n",
      "False\n",
      "True\n",
      "False\n",
      "True\n"
     ]
    }
   ],
   "source": [
    "a = input(\"Enter a number:\")\n",
    "b= input(\"Enter another number:\")\n",
    "print(a>b)\n",
    "print(a<b)\n",
    "print(a==b)\n",
    "print(a!=b)\n"
   ]
  },
  {
   "cell_type": "code",
   "execution_count": 21,
   "id": "fe768b4a",
   "metadata": {},
   "outputs": [
    {
     "name": "stdout",
     "output_type": "stream",
     "text": [
      "Enter a number:7\n",
      "It is a odd number\n"
     ]
    }
   ],
   "source": [
    "#Odd Even\n",
    "a = int(input(\"Enter a number:\"))    # Input le bydefault as a string linxa, so we need to define by ourselves= as int\n",
    "if a%2==0:   # % gives remainder when divided\n",
    "    print('It is an even number.')\n",
    "else:\n",
    "    print('It is a odd number')"
   ]
  },
  {
   "cell_type": "code",
   "execution_count": 25,
   "id": "125a7bf7",
   "metadata": {},
   "outputs": [
    {
     "name": "stdout",
     "output_type": "stream",
     "text": [
      "Enter a number:5\n",
      "Enter another number:58\n",
      "Enter any + ,*, /, or -\n",
      "Invalid Operator\n"
     ]
    }
   ],
   "source": [
    "## OPerator as input\n",
    "\n",
    "a = int(input(\"Enter a number:\"))\n",
    "b = int(input(\"Enter another number:\"))\n",
    "o = input(\"Enter any + ,*, /, or -\")\n",
    "if o == '+':\n",
    "    print(a+b)\n",
    "    \n",
    "elif o== '*':\n",
    "    print(a*b)\n",
    "\n",
    "elif o == '-':\n",
    "    print(a-b)\n",
    "\n",
    "elif o == '/':\n",
    "    print(a/b)\n",
    "\n",
    "else:\n",
    "    print(\"Invalid Operator\")\n"
   ]
  },
  {
   "cell_type": "code",
   "execution_count": null,
   "id": "8eedd0a8",
   "metadata": {},
   "outputs": [],
   "source": [
    "# and\n",
    "# True and True ->True\n",
    "# or\n",
    "# True or False -> True\n",
    "\n",
    "# True = 1 and False = 0"
   ]
  },
  {
   "cell_type": "code",
   "execution_count": 28,
   "id": "ffb65787",
   "metadata": {},
   "outputs": [
    {
     "name": "stdout",
     "output_type": "stream",
     "text": [
      "True\n",
      "False\n",
      "False\n",
      "False\n"
     ]
    }
   ],
   "source": [
    "# and &\n",
    "print(True & True)\n",
    "print(False and True)\n",
    "print(True & False)\n",
    "print(False and False)"
   ]
  },
  {
   "cell_type": "code",
   "execution_count": 33,
   "id": "46dc2828",
   "metadata": {},
   "outputs": [
    {
     "name": "stdout",
     "output_type": "stream",
     "text": [
      "True\n",
      "True\n",
      "True\n",
      "False\n"
     ]
    }
   ],
   "source": [
    "# or |\n",
    "print(True or True)\n",
    "print(False or True)\n",
    "print(True or False)\n",
    "print(False or False)"
   ]
  },
  {
   "cell_type": "code",
   "execution_count": 34,
   "id": "a7e2927e",
   "metadata": {},
   "outputs": [
    {
     "name": "stdout",
     "output_type": "stream",
     "text": [
      "True\n",
      "0.0\n",
      "True\n",
      "False\n"
     ]
    }
   ],
   "source": [
    "# or |\n",
    "print(True or True)\n",
    "print(False / True)\n",
    "print(True or False)  # print(True/ False) = This will give zero division error i.e 1/0 is infinity.\n",
    "print(False or False)"
   ]
  },
  {
   "cell_type": "code",
   "execution_count": null,
   "id": "feb88aeb",
   "metadata": {},
   "outputs": [],
   "source": [
    "a = int(input(\"Enter a = \"))\n",
    "b = int(input(\"Enter b = \"))\n",
    "o = input(\"Enter + - * /  \")\n",
    "if o == '+':\n",
    "    print(a+b)\n",
    "elif o == '-':\n",
    "    print(a-b)\n",
    "elif o == '*':\n",
    "    print(a*b)\n",
    "elif (o == '/') and (b != 0):  # here and is used, so, if only both the condition are true, it wll print ie, T + T = T\n",
    "    print(a/b)\n",
    "elif (o == '/') and (b == 0):\n",
    "    print(\"The value of b can not be zero\")\n",
    "else:\n",
    "    print(\"Enter valid operator\")"
   ]
  },
  {
   "cell_type": "code",
   "execution_count": null,
   "id": "d7fa4a5a",
   "metadata": {},
   "outputs": [],
   "source": [
    "# Nested if\n",
    "# if <condition>:\n",
    "#     if <condition>:\n",
    "#         <operations>\n",
    "#     else:\n",
    "#         <operation>"
   ]
  },
  {
   "cell_type": "code",
   "execution_count": 48,
   "id": "4229535a",
   "metadata": {},
   "outputs": [
    {
     "name": "stdout",
     "output_type": "stream",
     "text": [
      "Enter  your marks in English:88\n",
      "Enter  your marks in Nepali:57\n",
      "Enter  your marks in Physics:36\n",
      "Enter  your marks in Maths:55\n",
      "Enter  your marks in Chemistry:65\n",
      "Your grade is C.\n",
      "60.2\n"
     ]
    }
   ],
   "source": [
    "english = int(input(\"Enter  your marks in English:\"))\n",
    "nepali = int(input(\"Enter  your marks in Nepali:\"))\n",
    "physics = int(input(\"Enter  your marks in Physics:\"))\n",
    "maths = int(input(\"Enter  your marks in Maths:\"))\n",
    "chemistry = int(input(\"Enter  your marks in Chemistry:\"))\n",
    "total = english + nepali +physics +maths+ chemistry\n",
    "average = total / 5\n",
    "if english >= 32 and nepali >= 32 and physics >= 32 and maths >= 32 and chemistry >= 32:\n",
    "    if average >= 80:\n",
    "        print(\"Your grade is A.\")\n",
    "    if average >= 75:\n",
    "        print(\"Your grade is B.\")\n",
    "    if average >= 60:\n",
    "        print(\"Your grade is C.\")\n",
    "    else:\n",
    "        print(\"Your grade is D.\")\n",
    "else :\n",
    "    print(\"You are Fail.No any grade.\")\n",
    "\n",
    "    "
   ]
  },
  {
   "cell_type": "code",
   "execution_count": null,
   "id": "b5a43863",
   "metadata": {},
   "outputs": [],
   "source": [
    "#### lOOP##"
   ]
  },
  {
   "cell_type": "code",
   "execution_count": null,
   "id": "0f90144f",
   "metadata": {},
   "outputs": [],
   "source": []
  }
 ],
 "metadata": {
  "kernelspec": {
   "display_name": "Python 3 (ipykernel)",
   "language": "python",
   "name": "python3"
  },
  "language_info": {
   "codemirror_mode": {
    "name": "ipython",
    "version": 3
   },
   "file_extension": ".py",
   "mimetype": "text/x-python",
   "name": "python",
   "nbconvert_exporter": "python",
   "pygments_lexer": "ipython3",
   "version": "3.9.13"
  }
 },
 "nbformat": 4,
 "nbformat_minor": 5
}
