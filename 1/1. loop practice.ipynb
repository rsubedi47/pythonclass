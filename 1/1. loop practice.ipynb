{
 "cells": [
  {
   "cell_type": "code",
   "execution_count": 11,
   "id": "44ef012c",
   "metadata": {},
   "outputs": [],
   "source": [
    "# FOR Loop"
   ]
  },
  {
   "cell_type": "code",
   "execution_count": 13,
   "id": "7093f442",
   "metadata": {},
   "outputs": [
    {
     "name": "stdout",
     "output_type": "stream",
     "text": [
      "0 Hello world\n",
      "1 Hello world\n",
      "2 Hello world\n",
      "3 Hello world\n",
      "4 Hello world\n"
     ]
    }
   ],
   "source": [
    "for i in range (5):\n",
    "    print(i,\"Hello world\")"
   ]
  },
  {
   "cell_type": "code",
   "execution_count": 14,
   "id": "b44c0172",
   "metadata": {},
   "outputs": [
    {
     "name": "stdout",
     "output_type": "stream",
     "text": [
      "0\n",
      "1\n",
      "2\n",
      "3\n",
      "4\n"
     ]
    }
   ],
   "source": [
    "for a in range(5):\n",
    "    print(a)"
   ]
  },
  {
   "cell_type": "code",
   "execution_count": 16,
   "id": "d76d2156",
   "metadata": {},
   "outputs": [
    {
     "name": "stdout",
     "output_type": "stream",
     "text": [
      "Enter a number to print table:5\n",
      "5\n",
      "55\n",
      "555\n",
      "5555\n",
      "55555\n",
      "555555\n",
      "5555555\n",
      "55555555\n",
      "555555555\n"
     ]
    }
   ],
   "source": [
    "# multiplication table - test 1\n",
    "a = input(\"Enter a number to print table:\")  \n",
    "for i in range (1,10):\n",
    "    print(i*a) # we got such output as \"a\" is treated as string and (a*i) or (i*a) is processed as enlargement"
   ]
  },
  {
   "cell_type": "code",
   "execution_count": 19,
   "id": "0595278e",
   "metadata": {},
   "outputs": [
    {
     "name": "stdout",
     "output_type": "stream",
     "text": [
      "Enter a number to print table:5\n",
      "1 5\n",
      "2 10\n",
      "3 15\n",
      "4 20\n",
      "5 25\n",
      "6 30\n",
      "7 35\n",
      "8 40\n",
      "9 45\n",
      "10 50\n"
     ]
    }
   ],
   "source": [
    "# multiplication table - test 2\n",
    "a = int(input(\"Enter a number to print table:\")) # dellaring input as integer\n",
    "for i in range (1,11):\n",
    "    print(i,a*i)"
   ]
  },
  {
   "cell_type": "code",
   "execution_count": 24,
   "id": "6b4e7a70",
   "metadata": {},
   "outputs": [
    {
     "name": "stdout",
     "output_type": "stream",
     "text": [
      "Enter a number n:5\n",
      "Enter value of a:3\n",
      "3\n",
      "Enter value of a:3\n",
      "3\n",
      "Enter value of a:3\n",
      "3\n",
      "Enter value of a:5\n",
      "5\n",
      "Enter value of a:9\n",
      "9\n"
     ]
    }
   ],
   "source": [
    "# User defined range\n",
    "n = int(input(\"Enter no. of numbers to sum n:\"))\n",
    "for i in range(n):\n",
    "    a = int(input(\"Enter value of a:\"))\n",
    "    b =\n",
    "    print(a)"
   ]
  }
 ],
 "metadata": {
  "kernelspec": {
   "display_name": "Python 3 (ipykernel)",
   "language": "python",
   "name": "python3"
  },
  "language_info": {
   "codemirror_mode": {
    "name": "ipython",
    "version": 3
   },
   "file_extension": ".py",
   "mimetype": "text/x-python",
   "name": "python",
   "nbconvert_exporter": "python",
   "pygments_lexer": "ipython3",
   "version": "3.9.13"
  }
 },
 "nbformat": 4,
 "nbformat_minor": 5
}
