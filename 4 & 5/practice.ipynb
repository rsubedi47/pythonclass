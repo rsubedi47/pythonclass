{
 "cells": [
  {
   "cell_type": "code",
   "execution_count": 5,
   "id": "8796389a",
   "metadata": {},
   "outputs": [
    {
     "name": "stdout",
     "output_type": "stream",
     "text": [
      "Name of Client:Ram\n",
      "Phone No. of Client:9800\n",
      "Name of Client:Shyam\n",
      "Phone No. of Client:6500\n",
      "Name of Client:Hari\n",
      "Phone No. of Client:45000\n",
      "Name of Client:Sita\n",
      "Phone No. of Client:65000\n",
      "Name of Client:Gita\n",
      "Phone No. of Client:36000\n",
      "[['Ram', 9800], ['Shyam', 6500], ['Hari', 45000], ['Sita', 65000], ['Gita', 36000]]\n"
     ]
    }
   ],
   "source": [
    "#Getting data of 5 client using WHILE LOOP, append and list\n",
    "\n",
    "info=[]\n",
    "n = 5\n",
    "while n > 0:\n",
    "    name = input(\"Name of Client:\")\n",
    "    phone = int(input(\"Phone No. of Client:\"))\n",
    "    info.append([name,phone]) \n",
    "    n=n-1\n",
    "    \n",
    "print(info)  "
   ]
  },
  {
   "cell_type": "code",
   "execution_count": 8,
   "id": "c0daca5a",
   "metadata": {},
   "outputs": [
    {
     "name": "stdout",
     "output_type": "stream",
     "text": [
      "['Ram', 9800]\n"
     ]
    }
   ],
   "source": [
    "### finding in nested list\n",
    "\n",
    "for i in info:\n",
    "    if \"Ram\" in i:\n",
    "        print(i)"
   ]
  },
  {
   "cell_type": "code",
   "execution_count": 2,
   "id": "11a2212d",
   "metadata": {},
   "outputs": [
    {
     "name": "stdout",
     "output_type": "stream",
     "text": [
      "Enter no. of rows =3\n",
      "Enter no. of columns =2\n",
      "Enter value of a65\n",
      "Enter value of a98\n",
      "Enter value of a65\n",
      "Enter value of a55\n",
      "Enter value of a98\n",
      "Enter value of a66\n",
      "[[65, 98], [65, 55], [98, 66]]\n"
     ]
    }
   ],
   "source": [
    "## Creating a matrix\n",
    "matrix = []\n",
    "r = int(input(\"Enter no. of rows =\"))\n",
    "c = int(input(\"Enter no. of columns =\"))\n",
    "\n",
    "for i in range(r):\n",
    "    l =[]\n",
    "    for i in range(c):\n",
    "        a = int(input(\"Enter value of a= \"))\n",
    "        l.append(a)\n",
    "    matrix.append(l)\n",
    "print(matrix)"
   ]
  },
  {
   "cell_type": "code",
   "execution_count": 6,
   "id": "a3561213",
   "metadata": {},
   "outputs": [
    {
     "name": "stdout",
     "output_type": "stream",
     "text": [
      "Enter no. of students in class 111\n",
      "Enter name of Roll no. : 0Ram\n",
      "Enter your marks in Physics66\n",
      "Enter your marks in Chemistry58\n",
      "Enter your marks in Maths85\n",
      "Enter your marks in English54\n",
      "Enter your marks in Nepali65\n",
      "[['Ram', 66, 58, 85, 54, 65]]\n"
     ]
    }
   ],
   "source": [
    "subjects = ['Physics','Chemistry','Maths','English','Nepali']\n",
    "l =len(subjects)\n",
    "final = []\n",
    "c11 =int(input(\"Enter no. of students in class 11\")) #row\n",
    "\n",
    "\n",
    "for i in range(c11):  # no. of students ko loop\n",
    "    c11_data = []\n",
    "    name = input(f\"Enter name of Roll no. : {i}\")  # student ko number ko basis ma loop chalera naam linxa\n",
    "    c11_data.append(name)\n",
    "    \n",
    "    \n",
    "    for j in range(l): ## subject ko marks lina lai loop\n",
    "        marks = int(input(f\"Enter your marks in {subjects[j]}\"))\n",
    "        c11_data.append(marks)\n",
    "               \n",
    "    final.append(c11_data)\n",
    "print(final)"
   ]
  },
  {
   "cell_type": "code",
   "execution_count": 2,
   "id": "0554cc90",
   "metadata": {},
   "outputs": [
    {
     "name": "stdout",
     "output_type": "stream",
     "text": [
      "Enter no. of students in class 111\n",
      "Enter name of Roll no. : 0A\n",
      "Enter your marks in Physics65\n",
      "Enter your marks in Chemistry44\n",
      "Enter your marks in Maths120\n",
      "Marks must be between 0 and 100.\n",
      "Enter your marks in English15\n",
      "Enter your marks in Nepali55\n",
      "[['A', 65, 44, 15, 55]]\n"
     ]
    }
   ],
   "source": [
    "###\n",
    "\n",
    "subjects = ['Physics','Chemistry','Maths','English','Nepali']\n",
    "l =len(subjects)\n",
    "final = []\n",
    "c11 =int(input(\"Enter no. of students in class 11\")) #row\n",
    "\n",
    "\n",
    "for i in range(c11):  # no. of students ko loop\n",
    "    c11_data = []\n",
    "    name = input(f\"Enter name of Roll no. : {i}\")  # student ko number ko basis ma loop chalera naam linxa\n",
    "    c11_data.append(name)\n",
    "    \n",
    "    \n",
    "    for j in range(l): ## subject ko marks lina lai loop\n",
    "        marks = int(input(f\"Enter your marks in {subjects[j]}\"))\n",
    "        if marks >= 0 and marks <= 100:\n",
    "            c11_data.append(marks)\n",
    "        else:\n",
    "            print(\"Marks must be between 0 and 100.\")\n",
    "               \n",
    "    final.append(c11_data)\n",
    "print(final)"
   ]
  },
  {
   "cell_type": "code",
   "execution_count": 19,
   "id": "cfc63b1c",
   "metadata": {},
   "outputs": [
    {
     "name": "stdout",
     "output_type": "stream",
     "text": [
      "Enter where to break: 5\n",
      "1 ok\n",
      "2 ok\n",
      "3 ok\n",
      "4 ok\n",
      "5 ok\n"
     ]
    }
   ],
   "source": [
    "## While Loop\n",
    "\n",
    "n = int(input(\"Enter where to break: \"))\n",
    "i =1\n",
    "while i <10:\n",
    "    print(i,\"ok\")\n",
    "    if i == n:\n",
    "        break\n",
    "    i = i+1\n"
   ]
  },
  {
   "cell_type": "code",
   "execution_count": null,
   "id": "b11c20fe",
   "metadata": {},
   "outputs": [],
   "source": []
  }
 ],
 "metadata": {
  "kernelspec": {
   "display_name": "Python 3 (ipykernel)",
   "language": "python",
   "name": "python3"
  },
  "language_info": {
   "codemirror_mode": {
    "name": "ipython",
    "version": 3
   },
   "file_extension": ".py",
   "mimetype": "text/x-python",
   "name": "python",
   "nbconvert_exporter": "python",
   "pygments_lexer": "ipython3",
   "version": "3.9.13"
  }
 },
 "nbformat": 4,
 "nbformat_minor": 5
}
