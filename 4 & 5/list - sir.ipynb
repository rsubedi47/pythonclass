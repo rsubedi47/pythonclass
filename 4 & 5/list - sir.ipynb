{
 "cells": [
  {
   "cell_type": "code",
   "execution_count": 1,
   "id": "c61c39e2",
   "metadata": {},
   "outputs": [],
   "source": [
    "# Python collection\n",
    "# List\n",
    "# Tuple\n",
    "# Dictionary\n",
    "# Set"
   ]
  },
  {
   "cell_type": "code",
   "execution_count": 2,
   "id": "8ba6f3dc",
   "metadata": {},
   "outputs": [],
   "source": [
    "# List\n",
    "# -Indexing\n",
    "# -Multiple data and duplicate data\n",
    "# -Ordered\n",
    "# -Mutable"
   ]
  },
  {
   "cell_type": "code",
   "execution_count": 4,
   "id": "da46e739",
   "metadata": {},
   "outputs": [
    {
     "name": "stdout",
     "output_type": "stream",
     "text": [
      "<class 'list'>\n",
      "<class 'list'>\n",
      "<class 'list'>\n"
     ]
    }
   ],
   "source": [
    "b = []\n",
    "c = list()\n",
    "a = ['Apple','Ball','Cat','Fish']\n",
    "d = ['Apple',1,2,3,5.5,3.5]\n",
    "print(type(a))\n",
    "print(type(b))\n",
    "print(type(c))"
   ]
  },
  {
   "cell_type": "code",
   "execution_count": 9,
   "id": "c8c701af",
   "metadata": {},
   "outputs": [
    {
     "name": "stdout",
     "output_type": "stream",
     "text": [
      "Cat\n",
      "['Apple', 'Ball', 'Cat', 'Fish']\n",
      "['Apple', 'Cat']\n"
     ]
    }
   ],
   "source": [
    "a = ['Apple','Ball','Cat','Fish']\n",
    "print(a[2])\n",
    "print(a[0:4])\n",
    "print(a[0:4:2])"
   ]
  },
  {
   "cell_type": "code",
   "execution_count": 10,
   "id": "07c652a0",
   "metadata": {},
   "outputs": [
    {
     "name": "stdout",
     "output_type": "stream",
     "text": [
      "['Apple', 'Ball', 'Cat', 'Fish']\n"
     ]
    }
   ],
   "source": [
    "a = ['Apple','Ball','Cat','Fish']\n",
    "print(a)"
   ]
  },
  {
   "cell_type": "code",
   "execution_count": 12,
   "id": "a21325be",
   "metadata": {},
   "outputs": [
    {
     "name": "stdout",
     "output_type": "stream",
     "text": [
      "['Apple', 'Ball', 'Cat', 'Fish', 'Apple', 1, 2, 3, 5.5, 3.5]\n"
     ]
    }
   ],
   "source": [
    "# + *\n",
    "a = ['Apple','Ball','Cat','Fish']\n",
    "d = ['Apple',1,2,3,5.5,3.5]\n",
    "c = a+d\n",
    "print(c)"
   ]
  },
  {
   "cell_type": "code",
   "execution_count": 13,
   "id": "b8477bbb",
   "metadata": {},
   "outputs": [
    {
     "name": "stdout",
     "output_type": "stream",
     "text": [
      "['Apple', 'Ball', 'Cat', 'Fish', 'Apple', 'Ball', 'Cat', 'Fish']\n"
     ]
    }
   ],
   "source": [
    "a = ['Apple','Ball','Cat','Fish']\n",
    "print(a*2)"
   ]
  },
  {
   "cell_type": "code",
   "execution_count": 14,
   "id": "3b5d0658",
   "metadata": {},
   "outputs": [
    {
     "name": "stdout",
     "output_type": "stream",
     "text": [
      "[1, 2, 3, 4, 5, 1, 2, 3, 4, 5]\n"
     ]
    }
   ],
   "source": [
    "a = [1,2,3,4,5]\n",
    "print(a*2)"
   ]
  },
  {
   "cell_type": "code",
   "execution_count": 16,
   "id": "ace519cb",
   "metadata": {},
   "outputs": [
    {
     "name": "stdout",
     "output_type": "stream",
     "text": [
      "Enter n = 5\n",
      "Enter x = 234\n",
      "Enter x = 656\n",
      "Enter x = 678\n",
      "Enter x = 34\n",
      "Enter x = 67\n",
      "[234, 656, 678, 34, 67]\n"
     ]
    }
   ],
   "source": [
    "l = []\n",
    "n = int(input(\"Enter n = \"))\n",
    "for i in range(n):\n",
    "    x = int(input(\"Enter x = \"))\n",
    "    l = l+[x]\n",
    "print(l)"
   ]
  },
  {
   "cell_type": "code",
   "execution_count": 19,
   "id": "d5fb9153",
   "metadata": {},
   "outputs": [
    {
     "name": "stdout",
     "output_type": "stream",
     "text": [
      "The max value is =  678\n",
      "The max value is =  34\n",
      "The sum =  1669\n",
      "Average =  333.8\n",
      "[34, 67, 234, 656, 678]\n",
      "[678, 656, 234, 67, 34]\n"
     ]
    }
   ],
   "source": [
    "print(\"The max value is = \",max(l))\n",
    "print(\"The max value is = \",min(l))\n",
    "print(\"The sum = \",sum(l))\n",
    "print(\"Average = \",sum(l)/n)\n",
    "l.sort()\n",
    "print(l)\n",
    "l.reverse()\n",
    "print(l)"
   ]
  },
  {
   "cell_type": "code",
   "execution_count": 20,
   "id": "09708c41",
   "metadata": {},
   "outputs": [
    {
     "name": "stdout",
     "output_type": "stream",
     "text": [
      "['Ball', 'Xray', 'Zebra', 'apple', 'cat']\n"
     ]
    }
   ],
   "source": [
    "a = [\"apple\",'Ball','cat','Zebra','Xray']\n",
    "a.sort()\n",
    "print(a)"
   ]
  },
  {
   "cell_type": "code",
   "execution_count": 22,
   "id": "772844ed",
   "metadata": {},
   "outputs": [
    {
     "data": {
      "text/plain": [
       "'ball'"
      ]
     },
     "execution_count": 22,
     "metadata": {},
     "output_type": "execute_result"
    }
   ],
   "source": [
    "a[0].lower()"
   ]
  },
  {
   "cell_type": "code",
   "execution_count": 24,
   "id": "e8f5b4a7",
   "metadata": {},
   "outputs": [
    {
     "name": "stdout",
     "output_type": "stream",
     "text": [
      "apple\n",
      "Ball\n",
      "cat\n",
      "Zebra\n",
      "Xray\n"
     ]
    }
   ],
   "source": [
    "a = [\"apple\",'Ball','cat','Zebra','Xray']\n",
    "for i in a:\n",
    "    print(i)"
   ]
  },
  {
   "cell_type": "code",
   "execution_count": 25,
   "id": "7138af1c",
   "metadata": {},
   "outputs": [
    {
     "data": {
      "text/plain": [
       "5"
      ]
     },
     "execution_count": 25,
     "metadata": {},
     "output_type": "execute_result"
    }
   ],
   "source": [
    "len(a)"
   ]
  },
  {
   "cell_type": "code",
   "execution_count": 26,
   "id": "0d99908f",
   "metadata": {},
   "outputs": [
    {
     "name": "stdout",
     "output_type": "stream",
     "text": [
      "apple\n",
      "Ball\n",
      "cat\n",
      "Zebra\n",
      "Xray\n"
     ]
    }
   ],
   "source": [
    "a = [\"apple\",'Ball','cat','Zebra','Xray']\n",
    "l = len(a)\n",
    "for i in range(l):\n",
    "    print(a[i])"
   ]
  },
  {
   "cell_type": "code",
   "execution_count": 31,
   "id": "5585d33b",
   "metadata": {},
   "outputs": [
    {
     "name": "stdout",
     "output_type": "stream",
     "text": [
      "Yes\n",
      "1\n"
     ]
    }
   ],
   "source": [
    "a = [\"apple\",'Ball','cat','Zebra','Xray']\n",
    "if \"apple\" in a:\n",
    "    print(\"Yes\")\n",
    "    print(a.count(\"apple\"))"
   ]
  },
  {
   "cell_type": "code",
   "execution_count": 32,
   "id": "2e851c62",
   "metadata": {},
   "outputs": [],
   "source": [
    "# append() extend() insert()"
   ]
  },
  {
   "cell_type": "code",
   "execution_count": 33,
   "id": "b0edaff2",
   "metadata": {},
   "outputs": [
    {
     "name": "stdout",
     "output_type": "stream",
     "text": [
      "['apple', 'Ball', 'cat', 'Zebra', 'Xray', 'Fish']\n"
     ]
    }
   ],
   "source": [
    "a = [\"apple\",'Ball','cat','Zebra','Xray']\n",
    "a.append('Fish')\n",
    "print(a)"
   ]
  },
  {
   "cell_type": "code",
   "execution_count": 34,
   "id": "9ed215eb",
   "metadata": {},
   "outputs": [
    {
     "name": "stdout",
     "output_type": "stream",
     "text": [
      "['apple', 'Fish', 'Ball', 'cat', 'Zebra', 'Xray']\n"
     ]
    }
   ],
   "source": [
    "a = [\"apple\",'Ball','cat','Zebra','Xray']\n",
    "a.insert(1,'Fish')\n",
    "print(a)"
   ]
  },
  {
   "cell_type": "code",
   "execution_count": 35,
   "id": "4bcfdeb6",
   "metadata": {},
   "outputs": [
    {
     "data": {
      "text/plain": [
       "['apple', 'Ball', 'cat', 'Zebra', 'Xray', 1, 2, 3, 4]"
      ]
     },
     "execution_count": 35,
     "metadata": {},
     "output_type": "execute_result"
    }
   ],
   "source": [
    "a = [\"apple\",'Ball','cat','Zebra','Xray']\n",
    "b = [1,2,3,4]\n",
    "a.extend(b)\n",
    "a"
   ]
  },
  {
   "cell_type": "code",
   "execution_count": 37,
   "id": "4cf95fc9",
   "metadata": {},
   "outputs": [
    {
     "data": {
      "text/plain": [
       "['A', 'p', 'p', 'l', 'e']"
      ]
     },
     "execution_count": 37,
     "metadata": {},
     "output_type": "execute_result"
    }
   ],
   "source": [
    "a = \"Apple\"\n",
    "b = list(a)\n",
    "b"
   ]
  },
  {
   "cell_type": "code",
   "execution_count": 38,
   "id": "cf3c5417",
   "metadata": {},
   "outputs": [
    {
     "data": {
      "text/plain": [
       "\"['A', 'p', 'p', 'l', 'e']\""
      ]
     },
     "execution_count": 38,
     "metadata": {},
     "output_type": "execute_result"
    }
   ],
   "source": [
    "c = str(b)\n",
    "c"
   ]
  },
  {
   "cell_type": "code",
   "execution_count": null,
   "id": "3273fea5",
   "metadata": {},
   "outputs": [],
   "source": [
    "l = []\n",
    "n = int(input(\"Enter n = \"))\n",
    "for i in range(n):\n",
    "    x = int(input(\"Enter x = \"))\n",
    "    l.append(x)\n",
    "print(l)"
   ]
  },
  {
   "cell_type": "code",
   "execution_count": 40,
   "id": "9f69afa4",
   "metadata": {},
   "outputs": [
    {
     "data": {
      "text/plain": [
       "['Ant', 'Ball', 'cat', 'Zebra', 'Xray']"
      ]
     },
     "execution_count": 40,
     "metadata": {},
     "output_type": "execute_result"
    }
   ],
   "source": [
    "# Update or edit\n",
    "a = ['apple', 'Ball', 'cat', 'Zebra', 'Xray']\n",
    "a[0] = \"Ant\"\n",
    "a"
   ]
  },
  {
   "cell_type": "code",
   "execution_count": 41,
   "id": "ea0f155f",
   "metadata": {},
   "outputs": [
    {
     "data": {
      "text/plain": [
       "['APPLE', 'Ball', 'cat', 'Zebra', 'Xray']"
      ]
     },
     "execution_count": 41,
     "metadata": {},
     "output_type": "execute_result"
    }
   ],
   "source": [
    "a = ['apple', 'Ball', 'cat', 'Zebra', 'Xray']\n",
    "a[0] = a[0].upper()\n",
    "a"
   ]
  },
  {
   "cell_type": "code",
   "execution_count": 42,
   "id": "8b5a73f9",
   "metadata": {},
   "outputs": [
    {
     "name": "stdout",
     "output_type": "stream",
     "text": [
      "['Ball', 'cat', 'Zebra', 'Xray']\n"
     ]
    }
   ],
   "source": [
    "# del remove() pop()\n",
    "a = ['apple', 'Ball', 'cat', 'Zebra', 'Xray']\n",
    "del a[0]\n",
    "print(a)"
   ]
  },
  {
   "cell_type": "code",
   "execution_count": 43,
   "id": "2047da56",
   "metadata": {},
   "outputs": [
    {
     "name": "stdout",
     "output_type": "stream",
     "text": [
      "['cat', 'Zebra', 'Xray']\n"
     ]
    }
   ],
   "source": [
    "a = ['apple', 'Ball', 'cat', 'Zebra', 'Xray']\n",
    "del a[0:2]\n",
    "print(a)"
   ]
  },
  {
   "cell_type": "code",
   "execution_count": 44,
   "id": "d65e62ee",
   "metadata": {},
   "outputs": [
    {
     "name": "stdout",
     "output_type": "stream",
     "text": [
      "['Ball', 'cat', 'Zebra', 'Xray']\n",
      "apple\n"
     ]
    }
   ],
   "source": [
    "a = ['apple', 'Ball', 'cat', 'Zebra', 'Xray']\n",
    "b = a.pop(0)\n",
    "print(a)\n",
    "print(b)"
   ]
  },
  {
   "cell_type": "code",
   "execution_count": 45,
   "id": "970c3d66",
   "metadata": {},
   "outputs": [
    {
     "data": {
      "text/plain": [
       "['apple', 'Ball', 'cat', 'Zebra']"
      ]
     },
     "execution_count": 45,
     "metadata": {},
     "output_type": "execute_result"
    }
   ],
   "source": [
    "a = ['apple', 'Ball', 'cat', 'Zebra', 'Xray','apple']\n",
    "a.pop()\n",
    "a"
   ]
  },
  {
   "cell_type": "code",
   "execution_count": 46,
   "id": "31b96c2f",
   "metadata": {},
   "outputs": [
    {
     "data": {
      "text/plain": [
       "['Ball', 'cat', 'Zebra', 'Xray']"
      ]
     },
     "execution_count": 46,
     "metadata": {},
     "output_type": "execute_result"
    }
   ],
   "source": [
    "a = ['apple', 'Ball', 'cat', 'Zebra', 'Xray']\n",
    "a.remove('apple')\n",
    "a"
   ]
  },
  {
   "cell_type": "code",
   "execution_count": null,
   "id": "d5135b43",
   "metadata": {},
   "outputs": [],
   "source": [
    "# WAP to calulate index of any value\n",
    "# WAP to remove multiple value"
   ]
  }
 ],
 "metadata": {
  "kernelspec": {
   "display_name": "Python 3 (ipykernel)",
   "language": "python",
   "name": "python3"
  },
  "language_info": {
   "codemirror_mode": {
    "name": "ipython",
    "version": 3
   },
   "file_extension": ".py",
   "mimetype": "text/x-python",
   "name": "python",
   "nbconvert_exporter": "python",
   "pygments_lexer": "ipython3",
   "version": "3.9.13"
  }
 },
 "nbformat": 4,
 "nbformat_minor": 5
}
