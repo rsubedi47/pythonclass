{
 "cells": [
  {
   "cell_type": "code",
   "execution_count": 5,
   "id": "8716034f",
   "metadata": {},
   "outputs": [
    {
     "name": "stdout",
     "output_type": "stream",
     "text": [
      "<class 'list'>\n",
      "[[1, 2, 3], [4, 5, 6], [6, 7, 8], ['a', 'b']]\n",
      "4\n"
     ]
    }
   ],
   "source": [
    "a = [[1,2,3],[4,5,6],[6,7,8],['a','b']]\n",
    "print(type(a))\n",
    "print(a)\n",
    "print(len(a))"
   ]
  },
  {
   "cell_type": "code",
   "execution_count": 2,
   "id": "fb11817d",
   "metadata": {},
   "outputs": [
    {
     "name": "stdout",
     "output_type": "stream",
     "text": [
      "[6, 7, 8]\n"
     ]
    }
   ],
   "source": [
    "print(a[2])"
   ]
  },
  {
   "cell_type": "code",
   "execution_count": 3,
   "id": "2b9f79f6",
   "metadata": {},
   "outputs": [
    {
     "name": "stdout",
     "output_type": "stream",
     "text": [
      "1\n"
     ]
    }
   ],
   "source": [
    "print(a[0][0])"
   ]
  },
  {
   "cell_type": "code",
   "execution_count": 4,
   "id": "b832ca5e",
   "metadata": {},
   "outputs": [
    {
     "data": {
      "text/plain": [
       "'B'"
      ]
     },
     "execution_count": 4,
     "metadata": {},
     "output_type": "execute_result"
    }
   ],
   "source": [
    "a =['Ball','cat']\n",
    "a[0][0]"
   ]
  },
  {
   "cell_type": "code",
   "execution_count": 6,
   "id": "e98a614e",
   "metadata": {},
   "outputs": [
    {
     "data": {
      "text/plain": [
       "45"
      ]
     },
     "execution_count": 6,
     "metadata": {},
     "output_type": "execute_result"
    }
   ],
   "source": [
    "a =[['Ram',45,'Kathmandu'],['shyam',78,'Bhaktapur'],['Hari',45,'Jhapa']]\n",
    "a[0][1]"
   ]
  },
  {
   "cell_type": "code",
   "execution_count": 8,
   "id": "2551f406",
   "metadata": {},
   "outputs": [
    {
     "name": "stdout",
     "output_type": "stream",
     "text": [
      "Enter no. of data to enter2\n",
      "ENter your name:Ram\n",
      "Enter your age:45\n",
      "Enter your address:Ktm\n",
      "ENter your name:Shyam\n",
      "Enter your age:66\n",
      "Enter your address:Jhapa\n"
     ]
    }
   ],
   "source": [
    "## taking data from a user into a nested list  ## APPEND\n",
    "l=[]\n",
    "n = int(input(\"Enter no. of data to enter\"))\n",
    "for i in range(n):\n",
    "    name = input(\"ENter your name:\")\n",
    "    age = int(input(\"Enter your age:\"))\n",
    "    add = input(\"Enter your address:\")\n",
    "    l.append([name,age,add])\n",
    "l    \n"
   ]
  },
  {
   "cell_type": "code",
   "execution_count": 9,
   "id": "de65e81c",
   "metadata": {},
   "outputs": [
    {
     "data": {
      "text/plain": [
       "[['Ram', 45, 'Ktm'], ['Shyam', 66, 'Jhapa'], ['Hari', 45, 'Lalitpur']]"
      ]
     },
     "execution_count": 9,
     "metadata": {},
     "output_type": "execute_result"
    }
   ],
   "source": [
    "l.append(['Hari',45,'Lalitpur'])\n",
    "l"
   ]
  },
  {
   "cell_type": "code",
   "execution_count": 15,
   "id": "c64425d9",
   "metadata": {},
   "outputs": [
    {
     "name": "stdout",
     "output_type": "stream",
     "text": [
      "Enter name to searchRam\n",
      "['Ram', 45, 'Ktm']\n"
     ]
    }
   ],
   "source": [
    "####SEARCH in nested list###\n",
    "\n",
    "#Q1\n",
    "a = [['Ram', 45, 'Ktm'], ['Shyam', 66, 'Jhapa'], ['Hari', 45, 'Lalitpur']]\n",
    "name =input(\"Enter name to search\")\n",
    "for i in a:   # a  ko index wise value i ma linxa each time in a loop.\n",
    "    if name in i:  # mathiko le a baata i ma lyauxa ani tyo i ma search garne ho\n",
    "        print(i)"
   ]
  },
  {
   "cell_type": "code",
   "execution_count": 17,
   "id": "185ace06",
   "metadata": {},
   "outputs": [
    {
     "name": "stdout",
     "output_type": "stream",
     "text": [
      "['Shyam', 66, 'Jhapa']\n",
      "['Hari', 45, 'Lalitpur']\n"
     ]
    }
   ],
   "source": [
    "####SEARCH in nested list###\n",
    "\n",
    "#Q2 - 20 vanda mathi age vayeko\n",
    "\n",
    "a = [['Ram', 20, 'Ktm'], ['Shyam', 66, 'Jhapa'], ['Hari', 45, 'Lalitpur']]\n",
    "\n",
    "for i in a:      # i ma 3 times samma loop ma fron index 0 to 2 aauxa.\n",
    "    if i[1]>20:  # each i ko index 1 ma gayera check garxa\n",
    "        print(i)   # jun jun i ma xa tei print garxa"
   ]
  },
  {
   "cell_type": "code",
   "execution_count": 20,
   "id": "916cb8da",
   "metadata": {},
   "outputs": [
    {
     "data": {
      "text/plain": [
       "[['Rama', 20, 'Ktm'], ['Shyam', 66, 'Jhapa'], ['Hari', 45, 'Lalitpur']]"
      ]
     },
     "execution_count": 20,
     "metadata": {},
     "output_type": "execute_result"
    }
   ],
   "source": [
    "###UPDATE\n",
    "a = [['Ram', 20, 'Ktm'], ['Shyam', 66, 'Jhapa'], ['Hari', 45, 'Lalitpur']]\n",
    "a[0][0]='Rama'\n",
    "a"
   ]
  },
  {
   "cell_type": "code",
   "execution_count": 22,
   "id": "e8c24f29",
   "metadata": {},
   "outputs": [
    {
     "data": {
      "text/plain": [
       "[['Shyam', 66, 'Jhapa'], ['Hari', 45, 'Lalitpur']]"
      ]
     },
     "execution_count": 22,
     "metadata": {},
     "output_type": "execute_result"
    }
   ],
   "source": [
    "### Delete##\n",
    "a = [['Ram', 20, 'Ktm'], ['Shyam', 66, 'Jhapa'], ['Hari', 45, 'Lalitpur']]\n",
    "del a[0]\n",
    "a"
   ]
  },
  {
   "cell_type": "code",
   "execution_count": 2,
   "id": "33c8fba9",
   "metadata": {},
   "outputs": [
    {
     "name": "stdout",
     "output_type": "stream",
     "text": [
      "Apple\n",
      "['200', '2', '400', 'Banana', '100', '3', '300']\n"
     ]
    },
    {
     "data": {
      "text/plain": [
       "8"
      ]
     },
     "execution_count": 2,
     "metadata": {},
     "output_type": "execute_result"
    }
   ],
   "source": [
    "## WAP to convert given string to list inside list and convert price, qty and total into integer\n",
    "  #a = \"Apple 200 2 400 Banana 100 3 300\"\n",
    "   #a = [[Apple 200 2 400],[Banana 100 3 300]]\n",
    "final = []\n",
    "a = \"Apple 200 2 400 Banana 100 3 300\"\n",
    "b = a.split( )\n",
    "\n",
    "x = b.pop(0) \n",
    "\n",
    "print(x)\n",
    "print(b)\n",
    "l\n",
    "\n"
   ]
  },
  {
   "cell_type": "code",
   "execution_count": 3,
   "id": "b1e36339",
   "metadata": {},
   "outputs": [
    {
     "data": {
      "text/plain": [
       "1.0"
      ]
     },
     "execution_count": 3,
     "metadata": {},
     "output_type": "execute_result"
    }
   ],
   "source": [
    "## WAP to create a matrix taking row and column from user\n",
    "# r= ?, c=? = take from user\n",
    "# get value from user to make matrix\n",
    "#r*c matrix\n",
    "#dynamic row column ... agadi samma column fixed but row was dynamic but now both dynamic\n",
    "# nested loop will be used ( for vitra for)\n",
    "1.\n",
    "# for R:\n",
    "    #for C i.e suruma row banaune ani column banaune and repeat the same process.\n"
   ]
  },
  {
   "cell_type": "code",
   "execution_count": null,
   "id": "e7882932",
   "metadata": {},
   "outputs": [],
   "source": []
  }
 ],
 "metadata": {
  "kernelspec": {
   "display_name": "Python 3 (ipykernel)",
   "language": "python",
   "name": "python3"
  },
  "language_info": {
   "codemirror_mode": {
    "name": "ipython",
    "version": 3
   },
   "file_extension": ".py",
   "mimetype": "text/x-python",
   "name": "python",
   "nbconvert_exporter": "python",
   "pygments_lexer": "ipython3",
   "version": "3.9.13"
  }
 },
 "nbformat": 4,
 "nbformat_minor": 5
}
