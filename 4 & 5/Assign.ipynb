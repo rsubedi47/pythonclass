{
 "cells": [
  {
   "cell_type": "code",
   "execution_count": 2,
   "id": "1c26fab8",
   "metadata": {},
   "outputs": [
    {
     "name": "stdout",
     "output_type": "stream",
     "text": [
      "['Apple 200 2 400', 'Banana 100 3 300']\n",
      "Apple 200 2 400\n",
      "Banana 100 3 300\n"
     ]
    },
    {
     "data": {
      "text/plain": [
       "[['Apple', '200', '2', '400'], ['Banana', '100', '3', '300']]"
      ]
     },
     "execution_count": 2,
     "metadata": {},
     "output_type": "execute_result"
    }
   ],
   "source": [
    "## WAP to convert given string to list inside list and convert price, qty and total into integer\n",
    "  #a = \"Apple 200 2 400\\nBanana 100 3 300\\n\"\n",
    "#a = [[Apple 200 2 400],[Banana 100 3 300]]\n",
    "\n",
    "#step1\n",
    "\n",
    "a = \"Apple 200 2 400\\nBanana 100 3 300\\n\"\n",
    "b = a.split('\\n')[0:-1]  ## [0:-1] garera last ma aaune empty string lai hatako\n",
    "print(b)\n",
    "result =[]\n",
    "for i in b:\n",
    "    print(i)  # i le index 0 (ie. 'Apple 200 2 400') ra 1 (ie. 'Banana 100 3 300') lai print garxa.\n",
    "    x = i.split()\n",
    "    result.append(x)\n",
    "result\n"
   ]
  },
  {
   "cell_type": "code",
   "execution_count": 4,
   "id": "ab0f686f",
   "metadata": {},
   "outputs": [
    {
     "name": "stdout",
     "output_type": "stream",
     "text": [
      "['Apple 200 2 400', 'Banana 100 3 300']\n"
     ]
    },
    {
     "data": {
      "text/plain": [
       "[['Apple', 200, 2, 400], ['Banana', 100, 3, 300]]"
      ]
     },
     "execution_count": 4,
     "metadata": {},
     "output_type": "execute_result"
    }
   ],
   "source": [
    "# step2\n",
    "### Now to convert numbers into integer\n",
    "## WAP to convert given string to list inside list and convert price, qty and total into integer\n",
    "  #a = \"Apple 200 2 400\\nBanana 100 3 300\\n\"\n",
    "   #a = [[Apple 200 2 400],[Banana 100 3 300]]\n",
    "\n",
    "a = \"Apple 200 2 400\\nBanana 100 3 300\\n\"\n",
    "b = a.split('\\n')[0:-1]  ## [0:-1] garera last ma aaune empty lai hatako\n",
    "print(b)\n",
    "result =[]\n",
    "for i in b:   # b ko value i ma aauxa\n",
    "    x = i.split()  # then, split garera x ma store garne\n",
    "    price = int(x[1])\n",
    "    qty = int(x[2])\n",
    "    total = int(x[3])\n",
    "    # Now, update i ko index lai\n",
    "    x[1] = price\n",
    "    x[2] = qty\n",
    "    x[3]= total\n",
    "    result.append(x)\n",
    "result\n",
    "\n"
   ]
  },
  {
   "cell_type": "code",
   "execution_count": 10,
   "id": "682403ad",
   "metadata": {},
   "outputs": [
    {
     "name": "stdout",
     "output_type": "stream",
     "text": [
      "['Apple 200 2 400', 'Banana 100 3 300']\n"
     ]
    },
    {
     "data": {
      "text/plain": [
       "[['Apple', 200, 2, 400], ['Banana', 100, 3, 300]]"
      ]
     },
     "execution_count": 10,
     "metadata": {},
     "output_type": "execute_result"
    }
   ],
   "source": [
    "# Alternative\n",
    "\n",
    "final = []\n",
    "a = \"Apple 200 2 400\\nBanana 100 3 300\\n\"\n",
    "b = a.split('\\n')[0:-1]  ## [0:-1] garera last ma aaune empty lai hatako\n",
    "print(b)\n",
    "result =[]\n",
    "for i in b:   # b ko value i ma aauxa\n",
    "    x = i.split()  # then, split garera x ma store garne\n",
    "\n",
    "    x[1] = int(x[1])  # Now, update garne\n",
    "    x[2] = int(x[2])\n",
    "    x[3]= int(x[3])\n",
    "    result.append(x)\n",
    "result"
   ]
  },
  {
   "cell_type": "code",
   "execution_count": null,
   "id": "bb9a3766",
   "metadata": {},
   "outputs": [],
   "source": []
  },
  {
   "cell_type": "code",
   "execution_count": 14,
   "id": "19df3e97",
   "metadata": {},
   "outputs": [
    {
     "name": "stdout",
     "output_type": "stream",
     "text": [
      "Enter no of rows:2\n",
      "Enter no of columns:3\n",
      "Enter x=567\n",
      "Enter x=46\n",
      "Enter x=656\n",
      "Enter x=656\n",
      "Enter x=656\n",
      "Enter x=6567\n",
      "[[], [], [], [], [], []]\n"
     ]
    }
   ],
   "source": [
    "## WAP to create a matrix taking row and column from user\n",
    "# r= ?, c=? = take from user\n",
    "# get value from user to make matrix\n",
    "#r*c matrix\n",
    "#dynamic row column ... agadi samma column fixed but row was dynamic but now both dynamic\n",
    "# nested loop will be used ( for vitra for)\n",
    "1.\n",
    "# for R:\n",
    "    #for C i.e suruma row banaune ani column banaune and repeat the same process.\n",
    "    \n",
    "    \n",
    "matrix=[]    \n",
    "\n",
    "r = int(input(\"Enter no of rows:\"))\n",
    "c= int(input(\"Enter no of columns:\"))\n",
    "\n",
    "for i in range(r):\n",
    "    y= []  # yesma list banaune ani paxi matrix ma halne\n",
    "    for j in range(c):   #value chai column ko lagi magne\n",
    "        x = int(input(\"Enter x=\"))\n",
    "        y.append(x)\n",
    "        matrix.append(y)  # y ma vayeko list matrix\n",
    "    \n",
    "print(matrix)\n",
    "    \n"
   ]
  },
  {
   "cell_type": "code",
   "execution_count": 15,
   "id": "6a5fdb6e",
   "metadata": {},
   "outputs": [
    {
     "name": "stdout",
     "output_type": "stream",
     "text": [
      "Enter no of rows:2\n",
      "Enter no of columns:3\n",
      "Enter x = for row =0 col =0 25\n",
      "Enter x = for row =0 col =1 656\n",
      "Enter x = for row =0 col =2 6567\n",
      "Enter x = for row =1 col =0 65\n",
      "Enter x = for row =1 col =1 657\n",
      "Enter x = for row =1 col =2 66\n",
      "[[25, 656, 6567], [25, 656, 6567], [25, 656, 6567], [65, 657, 66], [65, 657, 66], [65, 657, 66]]\n"
     ]
    }
   ],
   "source": [
    "#Extension of WAP2 # Nested For\n",
    "    \n",
    "matrix=[]    \n",
    "\n",
    "r = int(input(\"Enter no of rows:\"))\n",
    "c= int(input(\"Enter no of columns:\"))\n",
    "\n",
    "for i in range(r):\n",
    "    y= []  \n",
    "    for j in range(c):   \n",
    "        x = int(input(f\"Enter x = for row ={i} col ={j} \")) # string formatting input ko lagi pani use garna milyo i.e. input magda pani variable use garna sakinxa\n",
    "        y.append(x)\n",
    "    matrix.append(y)  # y ma vayeko list matrix\n",
    "    \n",
    "print(matrix)"
   ]
  },
  {
   "cell_type": "code",
   "execution_count": null,
   "id": "b9f9006e",
   "metadata": {},
   "outputs": [],
   "source": []
  },
  {
   "cell_type": "code",
   "execution_count": 2,
   "id": "da782be1",
   "metadata": {},
   "outputs": [
    {
     "name": "stdout",
     "output_type": "stream",
     "text": [
      "Enter r =2\n",
      "Enter marks for roll0 subject->Physics==65\n",
      "Enter marks for roll0 subject->Chemistry==89\n",
      "Enter marks for roll0 subject->Math==65\n",
      "Enter marks for roll0 subject->English==66\n",
      "Enter marks for roll0 subject->Nepali==66\n",
      "Enter marks for roll1 subject->Physics==24\n",
      "Enter marks for roll1 subject->Chemistry==55\n",
      "Enter marks for roll1 subject->Math==55\n",
      "Enter marks for roll1 subject->English==66\n",
      "Enter marks for roll1 subject->Nepali==65\n",
      "[[65, 89, 65, 66, 66, 351, 70.2], [24, 55, 55, 66, 65, 265, 53.0]]\n"
     ]
    }
   ],
   "source": [
    "# Eutai variable use garera diff subject ko marks line #Nested For\n",
    "\n",
    "subject =['Physics', 'Chemistry', 'Math', 'English','Nepali']\n",
    "c= len(subject)\n",
    "matrix = []\n",
    "r = int(input(\"Enter r =\"))\n",
    "for i in range (r):\n",
    "    y = []\n",
    "    total = 0\n",
    "    for j in range(c):\n",
    "        x = int(input(f\"Enter marks for roll{i} subject->{subject[j]}==\"))\n",
    "        total = total + x\n",
    "        per = total/c\n",
    "        y.append(x)\n",
    "    y.append(total)\n",
    "    y.append(per)\n",
    "    matrix.append(y)\n",
    "    \n",
    "print(matrix)\n",
    "        "
   ]
  }
 ],
 "metadata": {
  "kernelspec": {
   "display_name": "Python 3 (ipykernel)",
   "language": "python",
   "name": "python3"
  },
  "language_info": {
   "codemirror_mode": {
    "name": "ipython",
    "version": 3
   },
   "file_extension": ".py",
   "mimetype": "text/x-python",
   "name": "python",
   "nbconvert_exporter": "python",
   "pygments_lexer": "ipython3",
   "version": "3.9.13"
  }
 },
 "nbformat": 4,
 "nbformat_minor": 5
}
