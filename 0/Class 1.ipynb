{
 "cells": [
  {
   "cell_type": "code",
   "execution_count": 3,
   "id": "196574d2",
   "metadata": {},
   "outputs": [
    {
     "name": "stdout",
     "output_type": "stream",
     "text": [
      "10\n"
     ]
    }
   ],
   "source": [
    "# A. Variables\n",
    "a =  10\n",
    "print(a)"
   ]
  },
  {
   "cell_type": "code",
   "execution_count": 12,
   "id": "64e27921",
   "metadata": {},
   "outputs": [
    {
     "name": "stdout",
     "output_type": "stream",
     "text": [
      "10\n",
      "15.3\n",
      "Hello World\n",
      "True\n",
      "<class 'int'>\n",
      "<class 'float'>\n",
      "<class 'str'>\n",
      "<class 'bool'>\n",
      "10 15.3 Hello World True\n"
     ]
    }
   ],
   "source": [
    "a = 10 # this is int datatypr\n",
    "b = 15.3 # float\n",
    "c = 'Hello World' # string\n",
    "d = True  # boolean  (True or False)\n",
    "print(a)\n",
    "print(b)\n",
    "print(c)\n",
    "print(d)\n",
    "\n",
    "print(type(a))\n",
    "print(type(b))\n",
    "print(type(c))\n",
    "print(type(d))\n",
    "\n",
    "print(a,b,c,d)"
   ]
  },
  {
   "cell_type": "code",
   "execution_count": 11,
   "id": "3218239f",
   "metadata": {},
   "outputs": [
    {
     "name": "stdout",
     "output_type": "stream",
     "text": [
      "1000\n",
      "1\n",
      "3.3333333333333335\n",
      "3\n",
      "13\n"
     ]
    }
   ],
   "source": [
    "# Arithmetic Operators\n",
    "\n",
    "a = 10\n",
    "b = 3\n",
    "c = a + b# + is opoerator and a,b,c are operand\n",
    "d = a/b\n",
    "e = a // b  # float division, whole number matra output dinxa.\n",
    "f = a % b  # remainder is output\n",
    "g = a **b  # power\n",
    "\n",
    "print(g)\n",
    "\n",
    "print(f)\n",
    "print(d)\n",
    "print(e)\n",
    "\n",
    "print(c)"
   ]
  },
  {
   "cell_type": "code",
   "execution_count": 13,
   "id": "3b3b6ed0",
   "metadata": {},
   "outputs": [
    {
     "name": "stdout",
     "output_type": "stream",
     "text": [
      "<class 'str'>\n",
      "<class 'str'>\n",
      "<class 'str'>\n",
      "<class 'str'> <class 'str'> <class 'str'>\n"
     ]
    }
   ],
   "source": [
    "### STRING ##\n",
    "\n",
    "a= ' Hello World'\n",
    "b = \"Hello world\"\n",
    "c = '''Hello World'''\n",
    "print(type(a))\n",
    "print(type(b))\n",
    "print(type(c))\n",
    "\n",
    "print(type(a),type(b),type(c))"
   ]
  },
  {
   "cell_type": "code",
   "execution_count": 14,
   "id": "4efd8dad",
   "metadata": {},
   "outputs": [
    {
     "name": "stdout",
     "output_type": "stream",
     "text": [
      "Hello World\n"
     ]
    }
   ],
   "source": [
    "# Concat\n",
    "\n",
    "a  = \"Hello\"\n",
    "b = \" World\"\n",
    "c = a+b\n",
    "print(c)"
   ]
  },
  {
   "cell_type": "code",
   "execution_count": 15,
   "id": "e350f2f1",
   "metadata": {},
   "outputs": [
    {
     "name": "stdout",
     "output_type": "stream",
     "text": [
      "Hello World\n",
      "Hello World\n",
      "\n"
     ]
    }
   ],
   "source": [
    "# Enlargement\n",
    "\n",
    "a = \"Hello World\\n\"  # \\n each time next line ma janxa\n",
    "b = 2\n",
    "c = a *b\n",
    "print(c)"
   ]
  },
  {
   "cell_type": "code",
   "execution_count": 17,
   "id": "2ff35394",
   "metadata": {},
   "outputs": [
    {
     "name": "stdout",
     "output_type": "stream",
     "text": [
      "10+20\n"
     ]
    }
   ],
   "source": [
    "a = '10+'  # it is string\n",
    "b = '20'\n",
    "print(a+b)"
   ]
  },
  {
   "cell_type": "code",
   "execution_count": 21,
   "id": "9f8e90a8",
   "metadata": {},
   "outputs": [
    {
     "name": "stdout",
     "output_type": "stream",
     "text": [
      "1\n",
      "0\n"
     ]
    }
   ],
   "source": [
    "## Boolean\n",
    "\n",
    "a = True  # 1\n",
    "b = False  # 0\n",
    "c = a +b\n",
    "d = a*b\n",
    "print(c)\n",
    "print(d)"
   ]
  },
  {
   "cell_type": "code",
   "execution_count": 23,
   "id": "f5b61498",
   "metadata": {},
   "outputs": [
    {
     "name": "stdout",
     "output_type": "stream",
     "text": [
      "Enter F_name:Rawjan\n",
      "Enter L_name:Subedi\n",
      "Rawjan Subedi\n"
     ]
    }
   ],
   "source": [
    "## Basic I/O\n",
    "f_name= input(\"Enter F_name:\")\n",
    "l_name = input(\"Enter L_name:\")\n",
    "full_name = f_name +\" \" +l_name\n",
    "print(full_name)"
   ]
  },
  {
   "cell_type": "code",
   "execution_count": 25,
   "id": "ee1cdf42",
   "metadata": {},
   "outputs": [
    {
     "name": "stdout",
     "output_type": "stream",
     "text": [
      "15\n"
     ]
    }
   ],
   "source": [
    "## overwrite\n",
    "a = 10\n",
    "a = 15\n",
    "print(a)  # overwrite garxa"
   ]
  },
  {
   "cell_type": "code",
   "execution_count": 26,
   "id": "65df82ea",
   "metadata": {},
   "outputs": [
    {
     "name": "stdout",
     "output_type": "stream",
     "text": [
      "Enter P=5000\n",
      "Enter T=2.4\n",
      "Enter r=15\n",
      "The value of i = 1800.0\n"
     ]
    }
   ],
   "source": [
    "### Type Casting\n",
    "\n",
    "p = int(input(\"Enter P=\"))\n",
    "t = float(input(\"Enter T=\"))\n",
    "r = float(input(\"Enter r=\"))\n",
    "\n",
    "i = p*t*r/100\n",
    "\n",
    "print(\"The value of i =\", i)"
   ]
  }
 ],
 "metadata": {
  "kernelspec": {
   "display_name": "Python 3 (ipykernel)",
   "language": "python",
   "name": "python3"
  },
  "language_info": {
   "codemirror_mode": {
    "name": "ipython",
    "version": 3
   },
   "file_extension": ".py",
   "mimetype": "text/x-python",
   "name": "python",
   "nbconvert_exporter": "python",
   "pygments_lexer": "ipython3",
   "version": "3.9.13"
  }
 },
 "nbformat": 4,
 "nbformat_minor": 5
}
