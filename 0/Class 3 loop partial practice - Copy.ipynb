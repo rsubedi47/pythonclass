{
 "cells": [
  {
   "cell_type": "code",
   "execution_count": 2,
   "id": "958e75d5",
   "metadata": {},
   "outputs": [
    {
     "name": "stdout",
     "output_type": "stream",
     "text": [
      "Enter value of n =5\n",
      "1 1\n",
      "2 2\n",
      "6 3\n",
      "24 4\n",
      "120 5\n",
      "120\n"
     ]
    }
   ],
   "source": [
    "s = 1\n",
    "i = 1 #i lai multiply garnuparxa so 1\n",
    "n = int(input(\"Enter value of n =\"))\n",
    "\n",
    "while i<=n:  # i chai 1 bata start vayera n samma pugnu parxa\n",
    "    s = s*i\n",
    "    print(s,i)\n",
    "    i = i+1\n",
    "    \n",
    "print(s)"
   ]
  },
  {
   "cell_type": "code",
   "execution_count": 5,
   "id": "db93b0bf",
   "metadata": {},
   "outputs": [
    {
     "name": "stdout",
     "output_type": "stream",
     "text": [
      "P y t h o n "
     ]
    }
   ],
   "source": [
    "## Using Loop in string\n",
    "a = 'Python'\n",
    "l = len(a)\n",
    "i = 0\n",
    "while i <l:\n",
    "    print(a[i], end=\" \")  # i print garda ta 0,1,2,4 print hunxa\n",
    "    i = i+1"
   ]
  },
  {
   "cell_type": "code",
   "execution_count": 10,
   "id": "06523242",
   "metadata": {},
   "outputs": [
    {
     "name": "stdout",
     "output_type": "stream",
     "text": [
      "HelloWorldIamPython"
     ]
    }
   ],
   "source": [
    "## Using Loop in string\n",
    "a = 'Hello World. I am Python.'\n",
    "l = len(a)\n",
    "i = 0\n",
    "while i < l:\n",
    "    if a[i] != \" \" and a[i] != \".\":  #each index ko character ko lagi check hunxa ra print hunxa.\n",
    "        print(a[i], end=\"\")  \n",
    "    i = i+1  # remember i ko indendation. if condition true vaye/navayepaxi i ko increment must not stop."
   ]
  },
  {
   "cell_type": "code",
   "execution_count": 12,
   "id": "13f3d200",
   "metadata": {},
   "outputs": [
    {
     "name": "stdout",
     "output_type": "stream",
     "text": [
      "0\n",
      "1\n",
      "2\n",
      "3\n",
      "4\n"
     ]
    }
   ],
   "source": [
    "## Control Statements in While Loop\n",
    "\n",
    "i = 0  # a. initialize\n",
    "while i <= 10:   # b. condition\n",
    "    if i == 5:\n",
    "        break\n",
    "    print(i)\n",
    "    i = i+1    # c. increment"
   ]
  },
  {
   "cell_type": "code",
   "execution_count": null,
   "id": "ce7705d6",
   "metadata": {},
   "outputs": [
    {
     "name": "stdout",
     "output_type": "stream",
     "text": [
      "0\n",
      "1\n",
      "2\n",
      "3\n",
      "4\n"
     ]
    }
   ],
   "source": [
    "##1.1 Continue in While Loop\n",
    "\n",
    "i = 0  # a. initialize\n",
    "while i <= 10:   # b. condition\n",
    "    if i == 5:\n",
    "        continue\n",
    "    i = i+1    # c. increment"
   ]