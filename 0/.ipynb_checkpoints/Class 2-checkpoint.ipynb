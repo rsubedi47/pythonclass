{
 "cells": [
  {
   "cell_type": "code",
   "execution_count": 1,
   "id": "1505fbf2",
   "metadata": {},
   "outputs": [],
   "source": [
    "## A. COnditional Statements"
   ]
  },
  {
   "cell_type": "code",
   "execution_count": null,
   "id": "a6c6a01b",
   "metadata": {},
   "outputs": [],
   "source": [
    "## A.1 IF/ELSE\n",
    "\n",
    "# if <condition>:\n",
    "#   <Operations>    # Indentation is used to define SCOPE of operation\n",
    "# elif <condition>:\n",
    "#   <operation>\n",
    "# ...\n",
    "# else <condition>:\n",
    "#   <operation>"
   ]
  },
  {
   "cell_type": "code",
   "execution_count": 3,
   "id": "01822f07",
   "metadata": {},
   "outputs": [
    {
     "name": "stdout",
     "output_type": "stream",
     "text": [
      "Enter value of n:5\n",
      "n is positive\n"
     ]
    }
   ],
   "source": [
    "# Comparison operators = > < >= <= == !=\n",
    "\n",
    "# positive /-ve\n",
    "\n",
    "n= int(input(\"Enter value of n:\"))\n",
    "if n>0:\n",
    "    print(\"n is positive\")\n",
    "else:\n",
    "    print(\"n is negative\")"
   ]
  },
  {
   "cell_type": "code",
   "execution_count": 6,
   "id": "faa9b98f",
   "metadata": {},
   "outputs": [
    {
     "name": "stdout",
     "output_type": "stream",
     "text": [
      "Enter value of n= 5\n",
      "5  is odd\n"
     ]
    }
   ],
   "source": [
    "# Odd/Even\n",
    "\n",
    "n= int(input(\"Enter value of n= \"))\n",
    "if n%2==0:\n",
    "    print(n,\" is even\")\n",
    "else:\n",
    "    print(n,\" is odd\")"
   ]
  },
  {
   "cell_type": "code",
   "execution_count": 8,
   "id": "1c6f87b5",
   "metadata": {},
   "outputs": [
    {
     "name": "stdout",
     "output_type": "stream",
     "text": [
      "Enter value of a: 2\n",
      "Enter value of b: 2\n",
      "2 2 both are equal\n"
     ]
    }
   ],
   "source": [
    "## Greater/Smaller\n",
    "a =int(input(\"Enter value of a: \"))\n",
    "b =int(input(\"Enter value of b: \"))\n",
    "if a > b:\n",
    "    print(a, \"is greater\")\n",
    "elif b >a:\n",
    "    print(b, \"is greater\")\n",
    "else:\n",
    "    print(a,b,\"both are equal\")\n"
   ]
  },
  {
   "cell_type": "code",
   "execution_count": 9,
   "id": "0a3151ae",
   "metadata": {},
   "outputs": [
    {
     "name": "stdout",
     "output_type": "stream",
     "text": [
      "Enter value of a: 5\n",
      "Enter value of b: 9\n",
      "Enter + or - or * or /:*\n",
      "45\n"
     ]
    }
   ],
   "source": [
    "### taking input pf number and operator from user\n",
    "a =int(input(\"Enter value of a: \"))\n",
    "b =int(input(\"Enter value of b: \"))\n",
    "o = input(\"Enter + or - or * or /:\")\n",
    "if o == '+':  # here + is charatcter\n",
    "    print(a+b)  # here + is operator\n",
    "elif o == '-':\n",
    "    print(a-b)\n",
    "elif o == '*':\n",
    "    print(a*b)\n",
    "elif o == '/':\n",
    "    print(a/b)\n",
    "else:\n",
    "    print(\"Invalid Operator !!!\")\n",
    "\n"
   ]
  },
  {
   "cell_type": "code",
   "execution_count": 10,
   "id": "9d4e3d9e",
   "metadata": {},
   "outputs": [
    {
     "name": "stdout",
     "output_type": "stream",
     "text": [
      "Enter marks in physics:50\n",
      "Enter marks in Chemistry:50\n",
      "Enter marks in Maths:50\n",
      "Enter marks in English:50\n",
      "Enter marks in Nepali:50\n",
      "5000.0\n"
     ]
    }
   ],
   "source": [
    "## Marks and Grade with if/else\n",
    "\n",
    "physics = int(input(\"Enter marks in physics:\"))\n",
    "chemistry = int(input(\"Enter marks in Chemistry:\"))\n",
    "maths = int(input(\"Enter marks in Maths:\"))\n",
    "english = int(input(\"Enter marks in English:\"))\n",
    "nepali = int(input(\"Enter marks in Nepali:\"))\n",
    "total = physics+ chemistry + maths + english+ nepali\n",
    "per= total/5\n",
    "if per>= 80:   # if 80 or > vayo vane yei exexute hunxa ra yaha vanda tala ko execute hudaina\n",
    "    grade = 'A'\n",
    "elif per >= 60:  # first 80 ko condition ma False aayo vane yo check garxa and so on.\n",
    "    grade = 'B'\n",
    "elif per >= 50:\n",
    "    grade = 'C'\n",
    "else:\n",
    "    grade = 'F'\n",
    "\n",
    "print(\"The grade= \", grade)  # yo grade if/else scope vitra define vayeko xa tara bahira pani print garna milxa but not in function. loop ma pani milxa"
   ]
  },
  {
   "cell_type": "code",
   "execution_count": null,
   "id": "b39aef33",
   "metadata": {},
   "outputs": [],
   "source": [
    "#Multiple Conditions\n",
    "#Logical Operators = OR | (pipe sign) .... AND &\n",
    "#{ and = mulitply  , or = sum}}"
   ]
  },
  {
   "cell_type": "code",
   "execution_count": null,
   "id": "e6956a55",
   "metadata": {},
   "outputs": [],
   "source": []
  },
  {
   "cell_type": "code",
   "execution_count": 12,
   "id": "48064a59",
   "metadata": {},
   "outputs": [
    {
     "name": "stdout",
     "output_type": "stream",
     "text": [
      "False\n",
      "True\n",
      "True\n",
      "True\n"
     ]
    }
   ],
   "source": [
    "print( True and False)  #1*0 =0\n",
    "print(True & True)  # 1*1 = 1\n",
    "\n",
    "print(True or False) # 1+0 =1\n",
    "print(True | True) # pipe sign used.  # 1+1 = 1"
   ]
  },
  {
   "cell_type": "code",
   "execution_count": null,
   "id": "aa0fda3a",
   "metadata": {},
   "outputs": [],
   "source": [
    "### taking input pf number and operator from user using multiple conditions\n",
    "a =int(input(\"Enter value of a: \"))\n",
    "b =int(input(\"Enter value of b: \"))\n",
    "o = input(\"Enter + or - or * or /:\")\n",
    "if o == '+':  # here + is charatcter\n",
    "    print(a+b)  # here + is operator\n",
    "elif o == '-':\n",
    "    print(a-b)\n",
    "elif o == '*':\n",
    "    print(a*b)\n",
    "elif o == '/' and b!= 0:\n",
    "    print(a/b)\n",
    "elif o == '/' and b== 0:  # i.e add mulipty subsctr ma kei vayena but divide ma 0 aaunu vayena.\n",
    "    print(\"The value of b cannot be 0.\")\n",
    "else:\n",
    "    print(\"Invalid Operator !!!\")\n",
    "\n"
   ]
  }
 ],
 "metadata": {
  "kernelspec": {
   "display_name": "Python 3 (ipykernel)",
   "language": "python",
   "name": "python3"
  },
  "language_info": {
   "codemirror_mode": {
    "name": "ipython",
    "version": 3
   },
   "file_extension": ".py",
   "mimetype": "text/x-python",
   "name": "python",
   "nbconvert_exporter": "python",
   "pygments_lexer": "ipython3",
   "version": "3.9.13"
  }
 },
 "nbformat": 4,
 "nbformat_minor": 5
}
