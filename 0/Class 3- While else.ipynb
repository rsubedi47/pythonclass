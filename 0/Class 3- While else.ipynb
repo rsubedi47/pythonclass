{
 "cells": [
  {
   "cell_type": "code",
   "execution_count": null,
   "id": "4ad6c311",
   "metadata": {},
   "outputs": [],
   "source": [
    "# For  Else\n",
    "\n",
    "# prime -> 2,3,5,7,11,13\n",
    "# composite no -> 4,6,8,9,10,12\n",
    "n = int(input(\"Enter n = \"))\n",
    "\n",
    "if n>1:\n",
    "    for i in range(2,n//2):\n",
    "        if n%i == 0:\n",
    "            print(\"Composite no \")\n",
    "            break\n",
    "\n",
    "    else:\n",
    "        print(\"Prime no \")\n",
    "\n",
    "else:\n",
    "    print(\"The no should be greater than 1\")"
   ]
  },
  {
   "cell_type": "code",
   "execution_count": null,
   "id": "a7c1391f",
   "metadata": {},
   "outputs": [],
   "source": []
  },
  {
   "cell_type": "code",
   "execution_count": null,
   "id": "d86d46ce",
   "metadata": {},
   "outputs": [],
   "source": []
  },
  {
   "cell_type": "code",
   "execution_count": 1,
   "id": "588bf670",
   "metadata": {},
   "outputs": [
    {
     "name": "stdout",
     "output_type": "stream",
     "text": [
      "Enter n = 6\n",
      "Composite no \n"
     ]
    }
   ],
   "source": [
    "# While  Else\n",
    "\n",
    "# prime -> 2,3,5,7,11,13\n",
    "# composite no -> 4,6,8,9,10,12\n",
    "n = int(input(\"Enter n = \"))\n",
    "i = 2   # jasari for else ma range ma 2 bata suru thiyo testai ho yo\n",
    "if n>1:\n",
    "    while i<=(n//2):\n",
    "        if n%i == 0:\n",
    "            print(\"Composite no \")\n",
    "            break\n",
    "        i = i+1  ## if ko condition true vaye/navayepani i ko value increase hunuparyo\n",
    "\n",
    "    else:\n",
    "        print(\"Prime no \")\n",
    "\n",
    "else:\n",
    "    print(\"The no should be greater than 1\")"
   ]
  },
  {
   "cell_type": "code",
   "execution_count": null,
   "id": "21b72114",
   "metadata": {},
   "outputs": [],
   "source": []
  },
  {
   "cell_type": "code",
   "execution_count": 1,
   "id": "ebae24bb",
   "metadata": {},
   "outputs": [
    {
     "name": "stdout",
     "output_type": "stream",
     "text": [
      "0\n",
      "1\n",
      "2\n",
      "3\n",
      "All the values are printed successfully.\n"
     ]
    }
   ],
   "source": [
    "## 1. FOr Else\n",
    "##  The else keyword in a for loop specifies a block of code to be executed when the loop is finished:\n",
    "\n",
    "\n",
    "for i in range(4):\n",
    "    print(i)\n",
    "else:\n",
    "    print(\"All the values are printed successfully.\")"
   ]
  },
  {
   "cell_type": "code",
   "execution_count": 3,
   "id": "050ae6f9",
   "metadata": {},
   "outputs": [
    {
     "name": "stdout",
     "output_type": "stream",
     "text": [
      "0\n",
      "1\n",
      "2\n",
      "3\n",
      "There is a break in the loop.\n"
     ]
    }
   ],
   "source": [
    "#1.1 For Else\n",
    "## The else block will NOT be executed if the loop is stopped by a break statement.\n",
    "for i in range(5):\n",
    "    print(i)\n",
    "    if i == 3:\n",
    "        break\n",
    "else:\n",
    "    print(\"All the values are printed\")\n",
    "\n",
    "print(\"There is a break in the loop.\")"
   ]
  }
 ],
 "metadata": {
  "kernelspec": {
   "display_name": "Python 3 (ipykernel)",
   "language": "python",
   "name": "python3"
  },
  "language_info": {
   "codemirror_mode": {
    "name": "ipython",
    "version": 3
   },
   "file_extension": ".py",
   "mimetype": "text/x-python",
   "name": "python",
   "nbconvert_exporter": "python",
   "pygments_lexer": "ipython3",
   "version": "3.9.13"
  }
 },
 "nbformat": 4,
 "nbformat_minor": 5
}
