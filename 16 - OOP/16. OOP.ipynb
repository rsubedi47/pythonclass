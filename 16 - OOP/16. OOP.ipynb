{
 "cells": [
  {
   "cell_type": "code",
   "execution_count": null,
   "id": "5ef56118",
   "metadata": {},
   "outputs": [],
   "source": [
    "#class <class_name>:    # Class ko first letter capital hunuparxa\n",
    " #   <methods or operations>\n",
    "\n",
    "#obj = <class_name>()  # tyo class ko object banxa ani class initialize hunxa."
   ]
  },
  {
   "cell_type": "code",
   "execution_count": 1,
   "id": "06e62a71",
   "metadata": {},
   "outputs": [
    {
     "name": "stdout",
     "output_type": "stream",
     "text": [
      "Hello World\n"
     ]
    }
   ],
   "source": [
    "class Hello:    # Class\n",
    "    print(\"Hello World\")\n",
    "    \n",
    "    \n",
    "obj = Hello()        #object"
   ]
  },
  {
   "cell_type": "code",
   "execution_count": 10,
   "id": "36e215ec",
   "metadata": {},
   "outputs": [
    {
     "name": "stdout",
     "output_type": "stream",
     "text": [
      "Hello World\n"
     ]
    }
   ],
   "source": [
    "\n",
    "## Type 1 Method == CLass ko attribute use nagarne\n",
    "\n",
    "class Hello:  # class\n",
    "    \n",
    "    \n",
    "    @staticmethod     ### yo class ma paxi kunai pani attributes paxi add hudaina ra greet() lai  lai effect gardaina. each and every function lai separately dinuparxa \n",
    "    def greet():    # method\n",
    "        print(\"Hello World\")\n",
    "        \n",
    "        \n",
    "obj = Hello()  # object\n",
    "\n",
    "obj.greet()    # calling method"
   ]
  },
  {
   "cell_type": "code",
   "execution_count": 11,
   "id": "f095f730",
   "metadata": {},
   "outputs": [
    {
     "name": "stdout",
     "output_type": "stream",
     "text": [
      "Hello world\n"
     ]
    }
   ],
   "source": [
    "\n",
    "## Type 2 Method = Class ko attribute use garne\n",
    "\n",
    "class Hello:\n",
    "    \n",
    "    def greet(self):     ### if class ma attributes define vayo vane greet() le use garna sakxa.. so, specify gareko\n",
    "        \n",
    "        x = \"Hello world\"\n",
    "        print(x)\n",
    "\n",
    "obj = Hello()\n",
    "obj.greet()"
   ]
  },
  {
   "cell_type": "code",
   "execution_count": null,
   "id": "029f11ca",
   "metadata": {},
   "outputs": [],
   "source": [
    "## class ko attribute == ???  = defined under _init_()function   ## double underscore\n",
    "\n"
   ]
  },
  {
   "cell_type": "code",
   "execution_count": 2,
   "id": "6e4c43e5",
   "metadata": {},
   "outputs": [
    {
     "name": "stdout",
     "output_type": "stream",
     "text": [
      "Hello World\n"
     ]
    }
   ],
   "source": [
    "\n",
    "# Type 1 == class ko through value pathako\n",
    "\n",
    "class Hello:\n",
    "    \n",
    "    def __init__(self,x):     ## 'hello world' lai x ma rakhxa from line 12 ani initialize garxa \n",
    "        self.x_value = x    ## x chai x_value(it can be aything) ma lagera lagxa.  yesma initialize hunxa\n",
    "    \n",
    "    def greet(self):     ### if class ma attributes define vayo vane greet() le use garna sakxa.. so, specify gareko\n",
    "        print(self.x_value)\n",
    "\n",
    "obj = Hello(\"Hello World\")\n",
    "obj.greet()"
   ]
  },
  {
   "cell_type": "code",
   "execution_count": 4,
   "id": "e65c5ab1",
   "metadata": {},
   "outputs": [
    {
     "name": "stdout",
     "output_type": "stream",
     "text": [
      "Enter l = 48\n",
      "Enter b = 8\n",
      "Enter h = 7\n",
      "384\n",
      "2688\n"
     ]
    }
   ],
   "source": [
    "## Way 1\n",
    "\n",
    "class Cal:\n",
    "    def __init__(self,l,b,h):  #!!## this init takes l,b,h arguments and make them as instance varibles that can be used by any method of the class 'Cal'\n",
    "        self.l = l\n",
    "        self.b = b\n",
    "        self.h = h\n",
    "        \n",
    "    def area(self):\n",
    "        a = self.l * self.b\n",
    "        print(a)\n",
    "        \n",
    "    def volume(self):\n",
    "        v = self.l * self.b* self.h\n",
    "        print(v)\n",
    "        \n",
    "l = int(input(\"Enter l = \"))\n",
    "b = int(input(\"Enter b = \"))\n",
    "h = int(input(\"Enter h = \"))\n",
    "\n",
    "obj = Cal(l,b,h)\n",
    "obj.area()\n",
    "obj.volume()"
   ]
  },
  {
   "cell_type": "code",
   "execution_count": null,
   "id": "94103b92",
   "metadata": {},
   "outputs": [],
   "source": []
  },
  {
   "cell_type": "code",
   "execution_count": 3,
   "id": "a76dd389",
   "metadata": {},
   "outputs": [
    {
     "data": {
      "text/plain": [
       "'\\n1. obj vanne object banau for Cal class\\n2. jaba class initialize hunxa _init_ ma gayera basxa\\n3. tespaxi reinitialize garnu parxa by using : self.l = l, self.b = b\\n4. then, obj.area() call hunxa. l,b mathi baata use garxa.\\n5. Then, obj.volume() call hunxa\\n\\nReuse = ekpalta reinitialize gareko self.l,self.b, sabai tira use garna milyo. each time argument ko through send garnu pardaina\\n\\n\\n'"
      ]
     },
     "execution_count": 3,
     "metadata": {},
     "output_type": "execute_result"
    }
   ],
   "source": [
    "## Flow of execution of above code:\n",
    "'''\n",
    "1. obj vanne object banau for Cal class\n",
    "2. jaba class initialize hunxa _init_ ma gayera basxa\n",
    "3. tespaxi reinitialize garnu parxa by using : self.l = l, self.b = b\n",
    "4. then, obj.area() call hunxa. l,b mathi baata use garxa.\n",
    "5. Then, obj.volume() call hunxa\n",
    "\n",
    "Reuse = ekpalta reinitialize gareko self.l,self.b, sabai tira use garna milyo. each time argument ko through send garnu pardaina\n",
    "\n",
    "\n",
    "''' "
   ]
  },
  {
   "cell_type": "code",
   "execution_count": 5,
   "id": "ea7004b2",
   "metadata": {},
   "outputs": [
    {
     "name": "stdout",
     "output_type": "stream",
     "text": [
      "Enter l = 8\n",
      "Enter b = 7\n",
      "Enter h = 8\n",
      "56\n",
      "448\n"
     ]
    }
   ],
   "source": [
    "## Way 2\n",
    "\n",
    "class Cal:\n",
    "    def __init__(self):\n",
    "        self.l = int(input(\"Enter l = \"))   ## class vitrai value magera initialize gareko but not recommended\n",
    "        self.b = int(input(\"Enter b = \"))\n",
    "        self.h = int(input(\"Enter h = \"))\n",
    "\n",
    "        \n",
    "    def area(self):\n",
    "        a = self.l * self.b\n",
    "        print(a)\n",
    "        \n",
    "    def volume(self):\n",
    "        v = self.l * self.b* self.h\n",
    "        print(v)\n",
    "        \n",
    "obj =Cal()\n",
    "obj.area()\n",
    "obj.volume()"
   ]
  }
 ],
 "metadata": {
  "kernelspec": {
   "display_name": "Python 3 (ipykernel)",
   "language": "python",
   "name": "python3"
  },
  "language_info": {
   "codemirror_mode": {
    "name": "ipython",
    "version": 3
   },
   "file_extension": ".py",
   "mimetype": "text/x-python",
   "name": "python",
   "nbconvert_exporter": "python",
   "pygments_lexer": "ipython3",
   "version": "3.9.13"
  }
 },
 "nbformat": 4,
 "nbformat_minor": 5
}
