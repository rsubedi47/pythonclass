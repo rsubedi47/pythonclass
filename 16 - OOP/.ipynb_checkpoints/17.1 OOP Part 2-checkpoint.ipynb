{
 "cells": [
  {
   "cell_type": "code",
   "execution_count": null,
   "id": "e56a9fc9",
   "metadata": {},
   "outputs": [],
   "source": [
    "\"Everything in python is object\"\n",
    "\n",
    "a = [1,2,3,4,5]   # a is also an object"
   ]
  },
  {
   "cell_type": "code",
   "execution_count": null,
   "id": "1a4cc605",
   "metadata": {},
   "outputs": [],
   "source": [
    "### !!!!### Function ko through bata value pathako\n",
    "\n",
    "\n",
    "class Cal:\n",
    "    def __init__(self,l,b):  #!!## this init takes l,b,h arguments and make them as instance varibles that can be used by any method of the class 'Cal'\n",
    "        self.l = l\n",
    "        self.b = b\n",
    "        \n",
    "        \n",
    "    def area(self):\n",
    "        a = self.l * self.b\n",
    "        print(a)\n",
    "        \n",
    "    def volume(self,h):    ## 'h' directly function baata yaha aaunxa\n",
    "        v = self.l * self.b* h\n",
    "        print(v)\n",
    "        \n",
    "l = int(input(\"Enter l = \"))\n",
    "b = int(input(\"Enter b = \"))\n",
    "h = int(input(\"Enter h = \"))\n",
    "\n",
    "obj = Cal(l,b)\n",
    "obj.area()\n",
    "obj.volume(h)    ## function bata pathako.. yo initialize hudaina so, arutira use garna mildaina."
   ]
  },
  {
   "cell_type": "code",
   "execution_count": null,
   "id": "8dbb8102",
   "metadata": {},
   "outputs": [],
   "source": [
    "### tywo ways of returinng values:\n",
    "    '''\n",
    "    1. Return values = return type fctn\n",
    "    2. Return object = str()\n",
    "    '''"
   ]
  },
  {
   "cell_type": "code",
   "execution_count": 5,
   "id": "bfed4b55",
   "metadata": {},
   "outputs": [
    {
     "name": "stdout",
     "output_type": "stream",
     "text": [
      "Enter name = Ram\n",
      "Enter age = 555\n",
      "Enter add = KTM\n",
      "Hello, My name is Ram. I am from KTM. I am 555\n",
      "Ram\n",
      "<class 'str'>\n",
      "<class '__main__.Info'>\n",
      "Ram\n"
     ]
    }
   ],
   "source": [
    "#17.2  ## Returning object using \n",
    "\n",
    "class Info:\n",
    "    def __init__(self,name,age,add):  \n",
    "        self.name = name\n",
    "        self.age = age\n",
    "        self.add = add\n",
    "        \n",
    "        \n",
    "    def __str__(self):\n",
    "        return self.name   ## obj print garda yo return hunxa      ### object ko format ma return hunxa\n",
    "        \n",
    "        \n",
    "    def info(self):    ## 'h' directly function baata yaha aaunxa\n",
    "            my_info = f\"Hello, My name is {self.name}. I am from {self.add}. I am {self.age}\"\n",
    "            return my_info                                       #### string ko format ma return hunxa\n",
    "            \n",
    "name = input(\"Enter name = \")\n",
    "age = int(input(\"Enter age = \"))\n",
    "add = input(\"Enter add = \")\n",
    "\n",
    "obj = Info(name,age,add)\n",
    "print(obj.info())\n",
    "\n",
    "print(obj)   ## method 1. calling() ## returns object    ### str method bata return vayeko value print garxa   ## str() pani aafai call hunxa on print str method.\n",
    "\n",
    "\n",
    "print(type(obj.info()))\n",
    "print(type(obj))    ## this is object not string.  ie str() use garera return garda object hunxa.\n",
    "\n",
    "print(obj.__str__())      ## method 2. calling str()   ## this returns string\n"
   ]
  },
  {
   "cell_type": "code",
   "execution_count": 3,
   "id": "a19cc0b6",
   "metadata": {},
   "outputs": [
    {
     "ename": "TypeError",
     "evalue": "unsupported operand type(s) for +: 'Info' and 'str'",
     "output_type": "error",
     "traceback": [
      "\u001b[1;31m---------------------------------------------------------------------------\u001b[0m",
      "\u001b[1;31mTypeError\u001b[0m                                 Traceback (most recent call last)",
      "\u001b[1;32m~\\AppData\\Local\\Temp\\ipykernel_3036\\3117717966.py\u001b[0m in \u001b[0;36m<module>\u001b[1;34m\u001b[0m\n\u001b[1;32m----> 1\u001b[1;33m \u001b[0mobj\u001b[0m \u001b[1;33m+\u001b[0m \u001b[0mobj\u001b[0m\u001b[1;33m.\u001b[0m\u001b[0minfo\u001b[0m\u001b[1;33m(\u001b[0m\u001b[1;33m)\u001b[0m\u001b[1;33m\u001b[0m\u001b[1;33m\u001b[0m\u001b[0m\n\u001b[0m",
      "\u001b[1;31mTypeError\u001b[0m: unsupported operand type(s) for +: 'Info' and 'str'"
     ]
    }
   ],
   "source": [
    "obj + obj.info()      ## object ra string concat hundaina."
   ]
  },
  {
   "cell_type": "code",
   "execution_count": 4,
   "id": "25d6c0be",
   "metadata": {},
   "outputs": [
    {
     "data": {
      "text/plain": [
       "'RamHello, My name is Ram. I am from KTM. I am 55'"
      ]
     },
     "execution_count": 4,
     "metadata": {},
     "output_type": "execute_result"
    }
   ],
   "source": [
    "# converting 'obj' to string\n",
    "\n",
    "str(obj) + obj.info()    # datatype conversion garepaxi concat vayo.\n"
   ]
  },
  {
   "cell_type": "code",
   "execution_count": null,
   "id": "d7e99b41",
   "metadata": {},
   "outputs": [],
   "source": []
  },
  {
   "cell_type": "code",
   "execution_count": null,
   "id": "9c0b8d28",
   "metadata": {},
   "outputs": [],
   "source": [
    "############ Inheritence #########################"
   ]
  },
  {
   "cell_type": "code",
   "execution_count": null,
   "id": "8a8953ce",
   "metadata": {},
   "outputs": [],
   "source": []
  },
  {
   "cell_type": "code",
   "execution_count": null,
   "id": "1bfe2733",
   "metadata": {},
   "outputs": [],
   "source": []
  }
 ],
 "metadata": {
  "kernelspec": {
   "display_name": "Python 3 (ipykernel)",
   "language": "python",
   "name": "python3"
  },
  "language_info": {
   "codemirror_mode": {
    "name": "ipython",
    "version": 3
   },
   "file_extension": ".py",
   "mimetype": "text/x-python",
   "name": "python",
   "nbconvert_exporter": "python",
   "pygments_lexer": "ipython3",
   "version": "3.9.13"
  }
 },
 "nbformat": 4,
 "nbformat_minor": 5
}
