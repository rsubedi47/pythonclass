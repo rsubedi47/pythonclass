{
 "cells": [
  {
   "cell_type": "code",
   "execution_count": null,
   "id": "09da7466",
   "metadata": {},
   "outputs": [],
   "source": [
    "## Inheritence"
   ]
  },
  {
   "cell_type": "code",
   "execution_count": null,
   "id": "5a44d5e8",
   "metadata": {},
   "outputs": [],
   "source": [
    "# class A:\n",
    " #   <operations>\n",
    "\n",
    "#class B(A):\n",
    "#    <operations>\n",
    "    \n",
    "# obj = B()   # normally, child kai banaune/ yesbata parent ko lai pani return garna milxas"
   ]
  },
  {
   "cell_type": "code",
   "execution_count": 2,
   "id": "1903ad0a",
   "metadata": {},
   "outputs": [
    {
     "name": "stdout",
     "output_type": "stream",
     "text": [
      "Hello World. I am Ram. I am 45\n",
      "Ram\n",
      "45\n"
     ]
    }
   ],
   "source": [
    "## Program 1   = inheritence basic\n",
    "\n",
    "\n",
    "class A:\n",
    "    def __init__(self):\n",
    "        self.name = \"Ram\"\n",
    "        self.age = 45\n",
    "        \n",
    "class B(A):   ## B inherits from A\n",
    "    def info(selff):\n",
    "        print(f\"Hello World. I am {selff.name}. I am {selff.age}\")    ## remeber 'selff'\n",
    "\n",
    "obj = B()\n",
    "obj.info()\n",
    "\n",
    "print(obj.name)  ## i.e public data, class vanda bahira pani use garna milyo.\n",
    "print(obj.age)  ## initialize garda j xa tei rakhne 'age'"
   ]
  },
  {
   "cell_type": "code",
   "execution_count": null,
   "id": "a1f927b2",
   "metadata": {},
   "outputs": [],
   "source": []
  },
  {
   "cell_type": "code",
   "execution_count": null,
   "id": "bd9bad0d",
   "metadata": {},
   "outputs": [],
   "source": [
    "'''\n",
    "# Flow of above program\n",
    "\n",
    "1. both class A nad B define vayera basxa\n",
    "2. obj = B() le class B initialize garna janxa. If init() xa vane call garxa to initialize value,but yaha xaina.\n",
    "    so, inherit vayeko dekhxa ani mathi parent class A tira janxa. Class A ma ta init dekhxa, so aafai call hunxa sel.name ra self. age initialize garxa\n",
    "    \n",
    "3. aaba obj.info() call hunxa    \n",
    "\n",
    "'''"
   ]
  },
  {
   "cell_type": "code",
   "execution_count": 3,
   "id": "08d1635d",
   "metadata": {},
   "outputs": [
    {
     "name": "stdout",
     "output_type": "stream",
     "text": [
      "Hello World. I am Ram. I am 45\n",
      "Ram 45\n"
     ]
    }
   ],
   "source": [
    "## program 2 -= eutai object bata different function & class call vayo.\n",
    "\n",
    "\n",
    "class A:\n",
    "    def __init__(self):\n",
    "        self.name = \"Ram\"\n",
    "        self.age = 45\n",
    "        \n",
    "    def a(self) :\n",
    "        print(self.name,self.age)\n",
    "        \n",
    "        \n",
    "class B(A):   ## B inherits from A\n",
    "    def info(selff):\n",
    "        print(f\"Hello World. I am {selff.name}. I am {selff.age}\")    ## remeber 'selff'\n",
    "\n",
    "obj = B()\n",
    "obj.info()\n",
    "\n",
    "obj.a()    ## eutai object bata different function call vayo."
   ]
  }
 ],
 "metadata": {
  "kernelspec": {
   "display_name": "Python 3 (ipykernel)",
   "language": "python",
   "name": "python3"
  },
  "language_info": {
   "codemirror_mode": {
    "name": "ipython",
    "version": 3
   },
   "file_extension": ".py",
   "mimetype": "text/x-python",
   "name": "python",
   "nbconvert_exporter": "python",
   "pygments_lexer": "ipython3",
   "version": "3.9.13"
  }
 },
 "nbformat": 4,
 "nbformat_minor": 5
}
