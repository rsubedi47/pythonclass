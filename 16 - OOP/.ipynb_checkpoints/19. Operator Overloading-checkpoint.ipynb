{
 "cells": [
  {
   "cell_type": "code",
   "execution_count": 2,
   "id": "c7325b90",
   "metadata": {},
   "outputs": [
    {
     "name": "stdout",
     "output_type": "stream",
     "text": [
      "2 3\n",
      "-1 2\n"
     ]
    }
   ],
   "source": [
    "# Eg1 \n",
    "\n",
    "## Two objects for one class\n",
    "    ## yaha eutai class ma 2ta object bata value initialize gareko. but overwrite hudaina\n",
    "\n",
    "\n",
    "\n",
    "class Point:\n",
    "    def __init__(self, x= 0, y =0):\n",
    "        self.x = x\n",
    "        self.y = y\n",
    "        \n",
    "p1= Point(2,3)\n",
    "p2 = Point(-1,2)\n",
    "\n",
    "print(p1.x,p1.y)   #overwrite hudaina\n",
    "print(p2.x,p2.y)   #overwrite hudaina\n",
    "\n",
    "\n",
    "print(p1+p2)  # yesle kaam gardaina, as they are objects. ( so we use = Operator Overloading)\n"
   ]
  },
  {
   "cell_type": "code",
   "execution_count": 10,
   "id": "2bd94a1b",
   "metadata": {},
   "outputs": [
    {
     "ename": "IndentationError",
     "evalue": "expected an indented block (2288798856.py, line 4)",
     "output_type": "error",
     "traceback": [
      "\u001b[1;36m  File \u001b[1;32m\"C:\\Users\\Rawjan\\AppData\\Local\\Temp\\ipykernel_13464\\2288798856.py\"\u001b[1;36m, line \u001b[1;32m4\u001b[0m\n\u001b[1;33m    def __init__(self, x = 0, y = 0):\u001b[0m\n\u001b[1;37m    ^\u001b[0m\n\u001b[1;31mIndentationError\u001b[0m\u001b[1;31m:\u001b[0m expected an indented block\n"
     ]
    }
   ],
   "source": [
    "## Eg2\n",
    "\n",
    "class Point:\n",
    "def __init__(self, x = 0, y = 0):\n",
    "            self.x = x\n",
    "            self.y = y\n",
    "\n",
    "def __str__(self):\n",
    "    return \"({0},{1})\".format(self.x,self.y)   3## str le object call garxa. so object nai print garne vaye\n",
    "\n",
    "def __add__(self,other):    ## agadai double _ xa, so affai call when we use '+' for both objects hunxa.(Magic function in other PL)\n",
    "    x = self.x + other.x   \n",
    "    y = self.y + other.y\n",
    "    return Point(x,y)   ##2. recursive call ### add gareko mathi gayera initialize hunxa\n",
    "\n",
    "\n",
    "p1 = Point(2,3)\n",
    "p2 = Point(-1,2)\n",
    "\n",
    "print(p1 + p2)\n",
    "\n",
    "\n",
    "1. ## add() aafai call hunxa when we use + for two objects\n",
    "# needs two references for  valuses different objects. Jati ota vayepani 2ta references\n",
    "#    i.e. self le 'P1' lai represent garxa ra Other le 'P2' lai represent garxa\n",
    "\n",
    "#Jati ota vayepani 2ta references???\n",
    "    # if P1,P2 ra P3 xa vane, P1+P2 garera euta reference ma rakhxa ani  P3 arko ma hunxa ra 2ta add hunxa.\n",
    "\n",
    "\n"
   ]
  },
  {
   "cell_type": "code",
   "execution_count": 9,
   "id": "1fd82f38",
   "metadata": {},
   "outputs": [
    {
     "ename": "SyntaxError",
     "evalue": "'return' outside function (1550637226.py, line 18)",
     "output_type": "error",
     "traceback": [
      "\u001b[1;36m  File \u001b[1;32m\"C:\\Users\\Rawjan\\AppData\\Local\\Temp\\ipykernel_13464\\1550637226.py\"\u001b[1;36m, line \u001b[1;32m18\u001b[0m\n\u001b[1;33m    return Point(x,y)\u001b[0m\n\u001b[1;37m    ^\u001b[0m\n\u001b[1;31mSyntaxError\u001b[0m\u001b[1;31m:\u001b[0m 'return' outside function\n"
     ]
    }
   ],
   "source": [
    "\n",
    "#Eg2.1\n",
    "\n",
    "class Point:\n",
    "    def __init__(self, x = 0, y = 0):\n",
    "            self.x = x\n",
    "            self.y = y\n",
    "            print(\"This is init method\",self.x,self.y)\n",
    "\n",
    "    def __str__(self):\n",
    "            print(\"This is str method\",self.x,self.y)\n",
    "            return f\"({self.x},{self.y})\"  3## str le object call garxa. so object nai print garne vaye\n",
    "\n",
    "    def __add__(self,other):    \n",
    "        x = self.x + other.x   \n",
    "        y = self.y + other.y\n",
    "\n",
    "    print(\"This is add method\",x,y)\n",
    "    return Point(x,y)   \n",
    "\n",
    "\n",
    "p1 = Point(2,3)\n",
    "p2 = Point(-1,2)\n",
    "\n",
    "print(p1 + p2)  ## yaha + xa. so add() call hunxa"
   ]
  },
  {
   "cell_type": "code",
   "execution_count": 4,
   "id": "2e4c55a0",
   "metadata": {},
   "outputs": [
    {
     "ename": "SyntaxError",
     "evalue": "invalid syntax (559524168.py, line 8)",
     "output_type": "error",
     "traceback": [
      "\u001b[1;36m  File \u001b[1;32m\"C:\\Users\\Rawjan\\AppData\\Local\\Temp\\ipykernel_6448\\559524168.py\"\u001b[1;36m, line \u001b[1;32m8\u001b[0m\n\u001b[1;33m    return f\"({self.x})\"  3## str le object call garxa. so object nai print garne vaye\u001b[0m\n\u001b[1;37m                          ^\u001b[0m\n\u001b[1;31mSyntaxError\u001b[0m\u001b[1;31m:\u001b[0m invalid syntax\n"
     ]
    }
   ],
   "source": [
    "class Point:\n",
    "    def __init__(self, x = 0):\n",
    "            self.x = x\n",
    "            print(\"This is init method\",self.x)\n",
    "\n",
    "    def __str__(self):\n",
    "        print(\"This is str method\",self.x)\n",
    "        return f\"({self.x})\"  3## str le object call garxa. so object nai print garne vaye\n",
    "\n",
    "    def __add__(self,other):    \n",
    "        x = self.x + other.x   \n",
    "        print(\"This is add method\",x)\n",
    "        return Point(x)   \n",
    "\n",
    "\n",
    "p1 = Point(2000)\n",
    "p2 = Point(3000)\n",
    "p3 = Point(1000)\n",
    "\n",
    "print(p1 + p2+ p3)"
   ]
  }
 ],
 "metadata": {
  "kernelspec": {
   "display_name": "Python 3 (ipykernel)",
   "language": "python",
   "name": "python3"
  },
  "language_info": {
   "codemirror_mode": {
    "name": "ipython",
    "version": 3
   },
   "file_extension": ".py",
   "mimetype": "text/x-python",
   "name": "python",
   "nbconvert_exporter": "python",
   "pygments_lexer": "ipython3",
   "version": "3.9.13"
  }
 },
 "nbformat": 4,
 "nbformat_minor": 5
}
