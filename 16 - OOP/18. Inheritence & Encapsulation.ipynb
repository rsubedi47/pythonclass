{
 "cells": [
  {
   "cell_type": "code",
   "execution_count": null,
   "id": "c243c8e8",
   "metadata": {},
   "outputs": [],
   "source": [
    "## Example 1\n",
    "\n",
    "## Conclusion: Class B ma pathayeko name,age but tyaha init() xaina, so usle A bata inherit gareko xa\n",
    "    # so A ma janxa. A ma gayeko xa so, tyaha init garna milxa. If tyaha pani init xaina, vane error xaina.\n",
    "\n",
    "class A:\n",
    "    def __init__(self,name,age):\n",
    "        self.name = name   ###\n",
    "        self.age = age\n",
    "        \n",
    "    def a(self) :\n",
    "        print(self.name,self.age)\n",
    "        \n",
    "        \n",
    "class B(A):   ## B inherits from A\n",
    "    \n",
    "    \n",
    "    def info(selff):\n",
    "        print(f\"Hello World. I am {selff.name}. I am {selff.age}\") \n",
    "\n",
    "        \n",
    "        \n",
    "name = input(\"Enter name =\")\n",
    "age = int(input(\"Enter age\"))\n",
    "        \n",
    "obj = B(name,age)   ## 'Class' B ma pathayeko but B ma init xaina. so, A lai initialize garxa ra A bata initialize garxa if mathi init ma parameter xa vane\n",
    "\n",
    "\n",
    "obj.info()\n",
    "\n",
    "obj.a() "
   ]
  },
  {
   "cell_type": "code",
   "execution_count": null,
   "id": "085a032e",
   "metadata": {},
   "outputs": [],
   "source": [
    "## Example\n",
    "\n",
    "## Init() in both parent and child ##\n",
    "\n",
    "    # possibility == Kunai value jun ma pathako xa tesmai initialize hunxa ra kunai arko ma pani huna sakxa\n",
    "\n",
    "class A:\n",
    "    def __init__(self,name,age):\n",
    "        self.name = name   \n",
    "        self.age = age\n",
    "        \n",
    "    def a(self) :\n",
    "        print(self.name,self.age)\n",
    "        \n",
    "        \n",
    "class B(A):  \n",
    "    \n",
    "    def __init__ (self,name,age):\n",
    "        self.name = name                ## name lai class 'B' le initialize garyo\n",
    "        A.__init__self(self,age)        ## 'age' lai Class A ma lagera initialize gara\n",
    "    \n",
    "    \n",
    "    \n",
    "    def info(selff):\n",
    "        print(f\"Hello World. I am {selff.name}. I am {selff.age}\") \n",
    "\n",
    "        \n",
    "        \n",
    "name = input(\"Enter name =\")\n",
    "age = int(input(\"Enter age\"))\n",
    "        \n",
    "obj = B(name,age)   \n",
    "\n",
    "\n",
    "obj.info()\n",
    "\n",
    "obj.a() \n",
    "    \n",
    "\n",
    "#conclusion:  class 'B' ma pathayeko (from line 32) name,age ; 'name' B ma initilze gareko\n",
    "                # ra age chai A ma lagera initialize gareko.\n",
    "    "
   ]
  },
  {
   "cell_type": "code",
   "execution_count": null,
   "id": "8d0c3261",
   "metadata": {},
   "outputs": [],
   "source": [
    "## Types\n",
    "    \n",
    "    \n",
    "    '''\n",
    "    1. Multilevel\n",
    "    2. Multiple\n",
    "    \n",
    "    '''"
   ]
  },
  {
   "cell_type": "code",
   "execution_count": null,
   "id": "d5108ac6",
   "metadata": {},
   "outputs": [],
   "source": [
    "## 1. Multilevel Inheritence"
   ]
  },
  {
   "cell_type": "code",
   "execution_count": 2,
   "id": "a1141695",
   "metadata": {},
   "outputs": [],
   "source": [
    "# eg1- Multilevel\n",
    "\n",
    "class A:\n",
    "    pass\n",
    "\n",
    "class B(A):\n",
    "    pass\n",
    "\n",
    "class C(B):\n",
    "    pass\n",
    "\n",
    "obj = C()"
   ]
  },
  {
   "cell_type": "code",
   "execution_count": 4,
   "id": "b0bcadc8",
   "metadata": {},
   "outputs": [
    {
     "name": "stdout",
     "output_type": "stream",
     "text": [
      "Enter name =Ram\n",
      "Enter age45\n",
      "Enter address = KTM\n",
      "Hello World. I am KTM. I am 45\n",
      "45\n"
     ]
    }
   ],
   "source": [
    "## eg2 - Multilevel\n",
    "\n",
    "class A:\n",
    "    def __init__(self,add):   \n",
    "        self.add = add       ## le pathayeko add yaha aayo.\n",
    "        \n",
    "    def a(self) :\n",
    "        print(self.add,self.name)    ## yaha 'self.name' pani print garna milyo becaz it is public data.--  Public, Private and Protected cocept\n",
    "        \n",
    "        \n",
    "class B(A):   ## B inherits from A\n",
    "    def __init__(self,age,add):\n",
    "        self.age = age         ## 'age' chai aafaile initialize garyo\n",
    "        A.__init__(self,add)   ## B le A bata payeko 'address' chai A ma pathayo.\n",
    "    \n",
    "    \n",
    "    def info(selff):\n",
    "        print(f\"Hello World. I am {selff.add}. I am {selff.age}\") \n",
    "\n",
    "class C(B):\n",
    "    def __init__(self,name,age,add):\n",
    "        self.name = name             ## name chai yahi initialize gareko\n",
    "        B.__init__(self,age,add)    ## 'age' ra 'address' B ma initialize garna patahyeko \n",
    "    \n",
    "        \n",
    "name = input(\"Enter name =\")\n",
    "age = int(input(\"Enter age\"))\n",
    "add = input(\"Enter address = \")\n",
    "        \n",
    "obj = C(name,age,add)   \n",
    "\n",
    "obj.info()\n",
    "\n",
    "obj.a() \n"
   ]
  },
  {
   "cell_type": "code",
   "execution_count": null,
   "id": "78b89436",
   "metadata": {},
   "outputs": [],
   "source": [
    "### Multiple Inheritence ###"
   ]
  },
  {
   "cell_type": "code",
   "execution_count": 5,
   "id": "f23f2996",
   "metadata": {},
   "outputs": [
    {
     "name": "stdout",
     "output_type": "stream",
     "text": [
      "Enter name =Ram\n",
      "Enter age45\n",
      "Enter address = KTM\n",
      "Hello World. I am 45\n",
      "KTM Ram\n"
     ]
    }
   ],
   "source": [
    "# eg -1 = multiple inheritence\n",
    "\n",
    "class A:\n",
    "    def __init__(self,add):   \n",
    "        self.add = add       ## C le pathako 'add' initilize vayo\n",
    "        \n",
    "    def a(self) :\n",
    "        print(self.add,self.name)   ## C & A are indirectly related so, name pani print hunxa, due to public. so  we need = Public, Private and Protected concept \n",
    "        \n",
    "        \n",
    "class B:   \n",
    "    def __init__(self,age): \n",
    "        self.age = age        ## C le pathako 'age' initilize vayo   \n",
    "           \n",
    "    def info(selff):\n",
    "        print(f\"Hello World. I am {selff.age}\")   \n",
    "\n",
    "class C(A,B):\n",
    "    def __init__(self,name,age,add):\n",
    "        self.name = name             ## name chai yahi initialize gareko\n",
    "        B.__init__(self,age)         ### age B ma pathako to initialize\n",
    "        A.__init__(self,add)         ### 'add' A ma pathako to initialize\n",
    "    \n",
    "        \n",
    "name = input(\"Enter name =\")\n",
    "age = int(input(\"Enter age\"))\n",
    "add = input(\"Enter address = \")\n",
    "        \n",
    "obj = C(name,age,add)   \n",
    "\n",
    "obj.info()\n",
    "\n",
    "obj.a() "
   ]
  },
  {
   "cell_type": "code",
   "execution_count": null,
   "id": "a9cae2a0",
   "metadata": {},
   "outputs": [],
   "source": [
    "### Encapsulation  \n",
    "    \n",
    "    ## Public, Private and Protected"
   ]
  },
  {
   "cell_type": "code",
   "execution_count": 6,
   "id": "c78da937",
   "metadata": {},
   "outputs": [
    {
     "name": "stdout",
     "output_type": "stream",
     "text": [
      "Ram\n",
      "Kathmandu\n",
      "34\n"
     ]
    }
   ],
   "source": [
    "\n",
    "## public members = class bahira print garna milyo\n",
    "\n",
    "class Info:\n",
    "    def __init__(self,name,age,add):\n",
    "        self.name = name\n",
    "        self.age = age\n",
    "        self.add = add\n",
    "\n",
    "obj = Info(\"Ram\",34,\"Kathmandu\")\n",
    "\n",
    "print(obj.name)   # class bahira pani access garera print garna milyo.\n",
    "print(obj.add)\n",
    "print(obj.age)"
   ]
  },
  {
   "cell_type": "code",
   "execution_count": 9,
   "id": "50f0e15c",
   "metadata": {},
   "outputs": [
    {
     "name": "stdout",
     "output_type": "stream",
     "text": [
      "Ram\n",
      "Kathmandu\n",
      "34\n"
     ]
    },
    {
     "ename": "AttributeError",
     "evalue": "'Info' object has no attribute 'name'",
     "output_type": "error",
     "traceback": [
      "\u001b[1;31m---------------------------------------------------------------------------\u001b[0m",
      "\u001b[1;31mAttributeError\u001b[0m                            Traceback (most recent call last)",
      "\u001b[1;32m~\\AppData\\Local\\Temp\\ipykernel_13104\\2203481476.py\u001b[0m in \u001b[0;36m<module>\u001b[1;34m\u001b[0m\n\u001b[0;32m     16\u001b[0m \u001b[1;33m\u001b[0m\u001b[0m\n\u001b[0;32m     17\u001b[0m \u001b[1;33m\u001b[0m\u001b[0m\n\u001b[1;32m---> 18\u001b[1;33m \u001b[0mprint\u001b[0m\u001b[1;33m(\u001b[0m\u001b[0mobj\u001b[0m\u001b[1;33m.\u001b[0m\u001b[0mname\u001b[0m\u001b[1;33m)\u001b[0m   \u001b[1;31m## publicly access garna khojeko, = error\u001b[0m\u001b[1;33m\u001b[0m\u001b[1;33m\u001b[0m\u001b[0m\n\u001b[0m\u001b[0;32m     19\u001b[0m \u001b[0mprint\u001b[0m\u001b[1;33m(\u001b[0m\u001b[0mobj\u001b[0m\u001b[1;33m.\u001b[0m\u001b[0madd\u001b[0m\u001b[1;33m)\u001b[0m    \u001b[1;31m## publicly access garna khojeko, = error\u001b[0m\u001b[1;33m\u001b[0m\u001b[1;33m\u001b[0m\u001b[0m\n\u001b[0;32m     20\u001b[0m \u001b[0mprint\u001b[0m\u001b[1;33m(\u001b[0m\u001b[0mobj\u001b[0m\u001b[1;33m.\u001b[0m\u001b[0mage\u001b[0m\u001b[1;33m)\u001b[0m    \u001b[1;31m## publicly access garna khojeko, = error\u001b[0m\u001b[1;33m\u001b[0m\u001b[1;33m\u001b[0m\u001b[0m\n",
      "\u001b[1;31mAttributeError\u001b[0m: 'Info' object has no attribute 'name'"
     ]
    }
   ],
   "source": [
    "## Protected Members  ( agadi euta underscore add garne during initialization)\n",
    "\n",
    "\n",
    "class Info:\n",
    "    def __init__(self,name,age,add):\n",
    "        self._name = name      # agadi _ add garne to make protected\n",
    "        self._age = age\n",
    "        self._add = add\n",
    "\n",
    "obj = Info(\"Ram\",34,\"Kathmandu\")\n",
    "\n",
    "print(obj._name) ## Print garxa ## protected access, allow garxa on using _  = aru program ma yesto hudaina\n",
    "print(obj._add)    ## protected access, allow garxa on using _\n",
    "print(obj._age)    ## protected access, allow garxa on using _\n",
    "\n",
    "\n",
    "\n",
    "print(obj.name)   ## publicly access garna khojeko, = error\n",
    "print(obj.add)    ## publicly access garna khojeko, = error\n",
    "print(obj.age)    ## publicly access garna khojeko, = error"
   ]
  },
  {
   "cell_type": "code",
   "execution_count": null,
   "id": "3399716e",
   "metadata": {},
   "outputs": [],
   "source": [
    "## Private Members = double underscore\n",
    "\n",
    "# eg1 \n",
    "\n",
    "class Info:\n",
    "    def __init__(self,name,age,add):\n",
    "        self.__name = name    # private banauna double underscore __ agadi rakhne\n",
    "        self.__age = age\n",
    "        self.__add = add\n",
    "\n",
    "obj = Info(\"Ram\",34,\"Kathmandu\")\n",
    "\n",
    "print(obj.__name)    ## protected jasasri , yo tarika le access garna mildaina\n",
    "print(obj.__add)\n",
    "print(obj.__age)\n"
   ]
  },
  {
   "cell_type": "code",
   "execution_count": 10,
   "id": "6ba2c351",
   "metadata": {},
   "outputs": [
    {
     "name": "stdout",
     "output_type": "stream",
     "text": [
      "Ram\n",
      "Kathmandu\n",
      "34\n"
     ]
    }
   ],
   "source": [
    "## Private Members = double underscore\n",
    "\n",
    "# eg2 = how can we access private  (## Private lai public access garna milxa)\n",
    "\n",
    "class Info:\n",
    "    def __init__(self,name,age,add):\n",
    "        self.__name = name    # private banauna double underscore __ agadi rakhne\n",
    "        self.__age = age\n",
    "        self.__add = add\n",
    "\n",
    "obj = Info(\"Ram\",34,\"Kathmandu\")\n",
    "\n",
    "\n",
    "## accessing private data  = against OOP\n",
    "\n",
    "print(obj._Info__name)  ## called name membgling ## we have access private data == This is  just used for debugging in python. Not true feature of OOP \n",
    "print(obj._Info__add)\n",
    "print(obj._Info__age)"
   ]
  },
  {
   "cell_type": "code",
   "execution_count": 12,
   "id": "71f67913",
   "metadata": {},
   "outputs": [
    {
     "name": "stdout",
     "output_type": "stream",
     "text": [
      "Enter name =Ram\n",
      "Enter age55\n"
     ]
    },
    {
     "ename": "AttributeError",
     "evalue": "type object 'A' has no attribute '_B__init__self'",
     "output_type": "error",
     "traceback": [
      "\u001b[1;31m---------------------------------------------------------------------------\u001b[0m",
      "\u001b[1;31mAttributeError\u001b[0m                            Traceback (most recent call last)",
      "\u001b[1;32m~\\AppData\\Local\\Temp\\ipykernel_13104\\1917967017.py\u001b[0m in \u001b[0;36m<module>\u001b[1;34m\u001b[0m\n\u001b[0;32m     23\u001b[0m \u001b[0mage\u001b[0m \u001b[1;33m=\u001b[0m \u001b[0mint\u001b[0m\u001b[1;33m(\u001b[0m\u001b[0minput\u001b[0m\u001b[1;33m(\u001b[0m\u001b[1;34m\"Enter age\"\u001b[0m\u001b[1;33m)\u001b[0m\u001b[1;33m)\u001b[0m\u001b[1;33m\u001b[0m\u001b[1;33m\u001b[0m\u001b[0m\n\u001b[0;32m     24\u001b[0m \u001b[1;33m\u001b[0m\u001b[0m\n\u001b[1;32m---> 25\u001b[1;33m \u001b[0mobj\u001b[0m \u001b[1;33m=\u001b[0m \u001b[0mB\u001b[0m\u001b[1;33m(\u001b[0m\u001b[0mname\u001b[0m\u001b[1;33m,\u001b[0m\u001b[0mage\u001b[0m\u001b[1;33m)\u001b[0m\u001b[1;33m\u001b[0m\u001b[1;33m\u001b[0m\u001b[0m\n\u001b[0m\u001b[0;32m     26\u001b[0m \u001b[1;33m\u001b[0m\u001b[0m\n\u001b[0;32m     27\u001b[0m \u001b[1;33m\u001b[0m\u001b[0m\n",
      "\u001b[1;32m~\\AppData\\Local\\Temp\\ipykernel_13104\\1917967017.py\u001b[0m in \u001b[0;36m__init__\u001b[1;34m(self, name, age)\u001b[0m\n\u001b[0;32m     12\u001b[0m     \u001b[1;32mdef\u001b[0m \u001b[0m__init__\u001b[0m \u001b[1;33m(\u001b[0m\u001b[0mself\u001b[0m\u001b[1;33m,\u001b[0m\u001b[0mname\u001b[0m\u001b[1;33m,\u001b[0m\u001b[0mage\u001b[0m\u001b[1;33m)\u001b[0m\u001b[1;33m:\u001b[0m\u001b[1;33m\u001b[0m\u001b[1;33m\u001b[0m\u001b[0m\n\u001b[0;32m     13\u001b[0m         \u001b[0mself\u001b[0m\u001b[1;33m.\u001b[0m\u001b[0m__name\u001b[0m \u001b[1;33m=\u001b[0m \u001b[0mname\u001b[0m            \u001b[1;31m## 'name' lai private banako  for this class\u001b[0m\u001b[1;33m\u001b[0m\u001b[1;33m\u001b[0m\u001b[0m\n\u001b[1;32m---> 14\u001b[1;33m         \u001b[0mA\u001b[0m\u001b[1;33m.\u001b[0m\u001b[0m__init__self\u001b[0m\u001b[1;33m(\u001b[0m\u001b[0mself\u001b[0m\u001b[1;33m,\u001b[0m\u001b[0mage\u001b[0m\u001b[1;33m)\u001b[0m       \u001b[1;31m## since, 'A' bata inherit vaeykoxa,, protected 'age' pani access hunxa\u001b[0m\u001b[1;33m\u001b[0m\u001b[1;33m\u001b[0m\u001b[0m\n\u001b[0m\u001b[0;32m     15\u001b[0m \u001b[1;33m\u001b[0m\u001b[0m\n\u001b[0;32m     16\u001b[0m \u001b[1;33m\u001b[0m\u001b[0m\n",
      "\u001b[1;31mAttributeError\u001b[0m: type object 'A' has no attribute '_B__init__self'"
     ]
    }
   ],
   "source": [
    "# Example\n",
    "\n",
    "class A:\n",
    "    def __init__(self,age):\n",
    "          \n",
    "        self._age = age  # age lai protected banako = child le use garna pauxa\n",
    "        \n",
    "    def a(self) :\n",
    "        print(self.age)    ## since, 'name' is private  in class 'B' normal tarikale access garna mildaina\n",
    "        \n",
    "        \n",
    "class B(A):  \n",
    "    \n",
    "    def __init__ (self,name,age):\n",
    "        self.__name = name            ## 'name' lai private banako  for this class   \n",
    "        A.__init__self(self,age)       ## since, 'A' bata inherit vaeykoxa,, protected 'age' pani access hunxa     \n",
    "    \n",
    "    \n",
    "    def info(selff):\n",
    "        print(f\"Hello World. I am {selff.name}. I am {selff.age}\") \n",
    "\n",
    "        \n",
    "        \n",
    "name = input(\"Enter name =\")\n",
    "age = int(input(\"Enter age\"))\n",
    "        \n",
    "obj = B(name,age)   \n",
    "\n",
    "\n",
    "obj.info()\n",
    "\n",
    "obj.a() "
   ]
  },
  {
   "cell_type": "code",
   "execution_count": null,
   "id": "c4a218a0",
   "metadata": {},
   "outputs": [],
   "source": [
    "## How to access private data??\n",
    "\n",
    "    ## name mangling   = _, __ lekhera indirectly print garne ( like above)\n",
    "    ## return Type  (below is example)\n",
    "    ## super fucntion"
   ]
  },
  {
   "cell_type": "code",
   "execution_count": 1,
   "id": "323f9a73",
   "metadata": {},
   "outputs": [
    {
     "name": "stdout",
     "output_type": "stream",
     "text": [
      "Enter name =Ram\n",
      "Enter age56\n",
      "Enter address = K\n"
     ]
    },
    {
     "ename": "NameError",
     "evalue": "name 'self' is not defined",
     "output_type": "error",
     "traceback": [
      "\u001b[1;31m---------------------------------------------------------------------------\u001b[0m",
      "\u001b[1;31mNameError\u001b[0m                                 Traceback (most recent call last)",
      "\u001b[1;32m~\\AppData\\Local\\Temp\\ipykernel_4552\\3860556999.py\u001b[0m in \u001b[0;36m<module>\u001b[1;34m\u001b[0m\n\u001b[0;32m     35\u001b[0m \u001b[1;31m## returning privaate info using return type\u001b[0m\u001b[1;33m\u001b[0m\u001b[1;33m\u001b[0m\u001b[0m\n\u001b[0;32m     36\u001b[0m \u001b[1;33m\u001b[0m\u001b[0m\n\u001b[1;32m---> 37\u001b[1;33m \u001b[0mmy_age\u001b[0m \u001b[1;33m=\u001b[0m \u001b[0mobj\u001b[0m\u001b[1;33m.\u001b[0m\u001b[0mreturn_info\u001b[0m\u001b[1;33m(\u001b[0m\u001b[1;33m)\u001b[0m\u001b[1;33m\u001b[0m\u001b[1;33m\u001b[0m\u001b[0m\n\u001b[0m\u001b[0;32m     38\u001b[0m \u001b[0mprint\u001b[0m\u001b[1;33m(\u001b[0m\u001b[0mmy_age\u001b[0m\u001b[1;33m)\u001b[0m\u001b[1;33m\u001b[0m\u001b[1;33m\u001b[0m\u001b[0m\n",
      "\u001b[1;32m~\\AppData\\Local\\Temp\\ipykernel_4552\\3860556999.py\u001b[0m in \u001b[0;36mreturn_info\u001b[1;34m(this)\u001b[0m\n\u001b[0;32m     17\u001b[0m \u001b[1;33m\u001b[0m\u001b[0m\n\u001b[0;32m     18\u001b[0m     \u001b[1;32mdef\u001b[0m \u001b[0mreturn_info\u001b[0m\u001b[1;33m(\u001b[0m\u001b[0mthis\u001b[0m\u001b[1;33m)\u001b[0m\u001b[1;33m:\u001b[0m\u001b[1;33m\u001b[0m\u001b[1;33m\u001b[0m\u001b[0m\n\u001b[1;32m---> 19\u001b[1;33m         \u001b[1;32mreturn\u001b[0m \u001b[0mself\u001b[0m\u001b[1;33m.\u001b[0m\u001b[0m__age\u001b[0m   \u001b[1;31m## returning privaet data with function\u001b[0m\u001b[1;33m\u001b[0m\u001b[1;33m\u001b[0m\u001b[0m\n\u001b[0m\u001b[0;32m     20\u001b[0m \u001b[1;33m\u001b[0m\u001b[0m\n\u001b[0;32m     21\u001b[0m \u001b[1;32mclass\u001b[0m \u001b[0mC\u001b[0m\u001b[1;33m(\u001b[0m\u001b[0mA\u001b[0m\u001b[1;33m,\u001b[0m\u001b[0mB\u001b[0m\u001b[1;33m)\u001b[0m\u001b[1;33m:\u001b[0m\u001b[1;33m\u001b[0m\u001b[1;33m\u001b[0m\u001b[0m\n",
      "\u001b[1;31mNameError\u001b[0m: name 'self' is not defined"
     ]
    }
   ],
   "source": [
    "\n",
    "# eg ## returning private data using return type function  ( see class B)\n",
    "\n",
    "\n",
    "class A:\n",
    "    def __init__(self,add):   \n",
    "        self.add = add       \n",
    "        \n",
    "    def a(self) :\n",
    "        print(self.add,self.name)   \n",
    "        \n",
    "class B:   \n",
    "    def __init__(self,age): \n",
    "        self.age = age         \n",
    "           \n",
    "    def info(selff):\n",
    "        print(f\"Hello World. I am {selff.age}\")  \n",
    "        \n",
    "    def return_info(this):    \n",
    "        return this.__age   ## returning privaet data with function\n",
    "\n",
    "class C(A,B):\n",
    "    def __init__(self,name,age,add):\n",
    "        self.name = name             \n",
    "        B.__init__(self,age)        \n",
    "        A.__init__(self,add)        \n",
    "    \n",
    "        \n",
    "name = input(\"Enter name =\")\n",
    "age = int(input(\"Enter age\"))\n",
    "add = input(\"Enter address = \")\n",
    "        \n",
    "obj = C(name,age,add)   \n",
    "\n",
    "\n",
    "## returning privaate info using return type\n",
    "\n",
    "my_age = obj.return_info()\n",
    "print(my_age) "
   ]
  },
  {
   "cell_type": "code",
   "execution_count": 3,
   "id": "50826422",
   "metadata": {},
   "outputs": [
    {
     "name": "stdout",
     "output_type": "stream",
     "text": [
      "Enter name =Ram\n",
      "Enter age45\n",
      "Hello World. I am 45. I am Ram\n",
      "Ram\n"
     ]
    },
    {
     "data": {
      "text/plain": [
       "'Ram'"
      ]
     },
     "execution_count": 3,
     "metadata": {},
     "output_type": "execute_result"
    }
   ],
   "source": [
    "## super function\n",
    "    # super().a() = yo function lai jaha pani call garna milxa\n",
    "\n",
    "class A:\n",
    "    def __init__(self,age):\n",
    "         self.__age = age\n",
    "        \n",
    "    def a(self) :\n",
    "        return self.__age  ### private data lai reuturn type function\n",
    "        \n",
    "        \n",
    "class B(A):   \n",
    "    def __init__(self,age,name):\n",
    "        self.__name = name\n",
    "        A.__init__(self,age)\n",
    "    \n",
    "    def info(selff):\n",
    "        print(f\"Hello World. I am {selff.__name}. I am {super().a()}\") ## 'super' le function call garxa\n",
    "        \n",
    "        \n",
    "        print(A.a(selff))     ## another way\n",
    "        \n",
    "        \n",
    "name = input(\"Enter name =\")\n",
    "age = int(input(\"Enter age\"))\n",
    "        \n",
    "obj = B(name,age)   \n",
    "\n",
    "\n",
    "obj.info()\n",
    "\n",
    "obj.a() \n"
   ]
  }
 ],
 "metadata": {
  "kernelspec": {
   "display_name": "Python 3 (ipykernel)",
   "language": "python",
   "name": "python3"
  },
  "language_info": {
   "codemirror_mode": {
    "name": "ipython",
    "version": 3
   },
   "file_extension": ".py",
   "mimetype": "text/x-python",
   "name": "python",
   "nbconvert_exporter": "python",
   "pygments_lexer": "ipython3",
   "version": "3.9.13"
  }
 },
 "nbformat": 4,
 "nbformat_minor": 5
}
