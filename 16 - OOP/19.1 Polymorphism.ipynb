{
 "cells": [
  {
   "cell_type": "code",
   "execution_count": null,
   "id": "9fc315cc",
   "metadata": {},
   "outputs": [],
   "source": [
    "## Two different class comaparing through common operation\n",
    "    # here both class ma same function: fly and swim but the classes show different behaviour.- one can fly ,others cant't\n",
    "    \n",
    "   # A ra B class xa. Both ko function eutai xa but kaam garne tarika(behaviour farak xa) = Polymorphism\n",
    "    # A ra B class xa. Both ko function eutai xa and kaam garne tarika pani same xa = Inheritence\n",
    "    "
   ]
  },
  {
   "cell_type": "code",
   "execution_count": 3,
   "id": "29230563",
   "metadata": {},
   "outputs": [
    {
     "name": "stdout",
     "output_type": "stream",
     "text": [
      "Parrot can fly\n",
      "Penguin can't fly\n"
     ]
    }
   ],
   "source": [
    "class Parrot:\n",
    "    def fly(self):\n",
    "        print(\"Parrot can fly\")\n",
    "    def swim(self):\n",
    "        print(\"Parrot can't swim\")\n",
    "        \n",
    "        \n",
    "class Penguin:\n",
    "    def fly(self):\n",
    "        print(\"Penguin can't fly\")\n",
    "    def swim(self):\n",
    "        print(\"Penguin can swim\")\n",
    "        \n",
    "        \n",
    "# common interface        ## 1. object as an argument pass pass garna common interface banako\n",
    "def flying_test(bird):   ## 3. line 23 & 24 bata aayeko argument bird ma aauxa\n",
    "           bird.fly()\n",
    "\n",
    "        \n",
    "#instantiate objects\n",
    "blu = Parrot()\n",
    "peggy = Penguin()\n",
    "\n",
    "# passing the object\n",
    "flying_test(blu)      # 2. passing object as an argument in a function.. This is [pass by reference].. Function ma [pass by value] pahile padheko\n",
    "flying_test(peggy)\n",
    "\n"
   ]
  },
  {
   "cell_type": "code",
   "execution_count": null,
   "id": "8789c899",
   "metadata": {},
   "outputs": [],
   "source": []
  },
  {
   "cell_type": "code",
   "execution_count": null,
   "id": "4d04013a",
   "metadata": {},
   "outputs": [],
   "source": []
  }
 ],
 "metadata": {
  "kernelspec": {
   "display_name": "Python 3 (ipykernel)",
   "language": "python",
   "name": "python3"
  },
  "language_info": {
   "codemirror_mode": {
    "name": "ipython",
    "version": 3
   },
   "file_extension": ".py",
   "mimetype": "text/x-python",
   "name": "python",
   "nbconvert_exporter": "python",
   "pygments_lexer": "ipython3",
   "version": "3.9.13"
  }
 },
 "nbformat": 4,
 "nbformat_minor": 5
}
