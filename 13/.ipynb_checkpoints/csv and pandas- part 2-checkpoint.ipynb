{
 "cells": [
  {
   "cell_type": "code",
   "execution_count": null,
   "id": "98318612",
   "metadata": {},
   "outputs": [],
   "source": [
    "## Relating dictionary and dataframe  #####"
   ]
  },
  {
   "cell_type": "code",
   "execution_count": 4,
   "id": "338528e6",
   "metadata": {},
   "outputs": [
    {
     "name": "stdout",
     "output_type": "stream",
     "text": [
      "Enter n = 2\n",
      "Enter name = Ram\n",
      "Enter age = 45\n",
      "Enter address = Kathmandu\n",
      "Enter phone= 9812552554\n",
      "Enter name = Shyam\n",
      "Enter age = 66\n",
      "Enter address = Lalitpur\n",
      "Enter phone= 9812552254\n",
      "{'name': ['Ram', 'Shyam'], 'age': ['45', '66'], 'address': ['Kathmandu', 'Lalitpur'], 'phone': ['9812552554', '9812552254']}\n"
     ]
    },
    {
     "data": {
      "text/html": [
       "<div>\n",
       "<style scoped>\n",
       "    .dataframe tbody tr th:only-of-type {\n",
       "        vertical-align: middle;\n",
       "    }\n",
       "\n",
       "    .dataframe tbody tr th {\n",
       "        vertical-align: top;\n",
       "    }\n",
       "\n",
       "    .dataframe thead th {\n",
       "        text-align: right;\n",
       "    }\n",
       "</style>\n",
       "<table border=\"1\" class=\"dataframe\">\n",
       "  <thead>\n",
       "    <tr style=\"text-align: right;\">\n",
       "      <th></th>\n",
       "      <th>name</th>\n",
       "      <th>age</th>\n",
       "      <th>address</th>\n",
       "      <th>phone</th>\n",
       "    </tr>\n",
       "  </thead>\n",
       "  <tbody>\n",
       "    <tr>\n",
       "      <th>0</th>\n",
       "      <td>Ram</td>\n",
       "      <td>45</td>\n",
       "      <td>Kathmandu</td>\n",
       "      <td>9812552554</td>\n",
       "    </tr>\n",
       "    <tr>\n",
       "      <th>1</th>\n",
       "      <td>Shyam</td>\n",
       "      <td>66</td>\n",
       "      <td>Lalitpur</td>\n",
       "      <td>9812552254</td>\n",
       "    </tr>\n",
       "  </tbody>\n",
       "</table>\n",
       "</div>"
      ],
      "text/plain": [
       "    name age    address       phone\n",
       "0    Ram  45  Kathmandu  9812552554\n",
       "1  Shyam  66   Lalitpur  9812552254"
      ]
     },
     "execution_count": 4,
     "metadata": {},
     "output_type": "execute_result"
    }
   ],
   "source": [
    "import pandas as pd\n",
    "\n",
    "\n",
    "## this is from dictionary  # writing to csv using pandas\n",
    "\n",
    "info = {'name':[],'age':[],'address':[],'phone':[]}  # this structure is a good way to create dataframe## as dict ko key is column ko name\n",
    "n = int(input(\"Enter n = \"))\n",
    "for i in range(n):\n",
    "    name = input(\"Enter name = \")\n",
    "    age = input(\"Enter age = \")\n",
    "    address = input(\"Enter address = \")\n",
    "    phone= input(\"Enter phone= \")\n",
    "    info['name'].append(name)\n",
    "    info['age'].append(age)\n",
    "    info['address'].append(address)\n",
    "    info['phone'].append(phone)\n",
    "\n",
    "\n",
    "    \n",
    "print(info)\n",
    "\n",
    "## converting to dataframe\n",
    "\n",
    "df = pd.DataFrame(info)\n",
    "df.to_csv('info.csv')\n",
    "df\n",
    "\n"
   ]
  },
  {
   "cell_type": "code",
   "execution_count": 11,
   "id": "6f4f09c5",
   "metadata": {},
   "outputs": [],
   "source": [
    "## writing to CSV (One by one)   =using CSV package  == adding list to csv file\n",
    "\n",
    "import csv\n",
    "l = [2,'Sabin',45,'Bara','9812554660']  # we will add this to above\n",
    "file = open('info.csv','a')\n",
    "x = csv.writer(file)\n",
    "x.writerow(l)    # write row matra xa not rows\n",
    "file.close()\n"
   ]
  },
  {
   "cell_type": "code",
   "execution_count": 12,
   "id": "c5707657",
   "metadata": {},
   "outputs": [
    {
     "data": {
      "text/html": [
       "<div>\n",
       "<style scoped>\n",
       "    .dataframe tbody tr th:only-of-type {\n",
       "        vertical-align: middle;\n",
       "    }\n",
       "\n",
       "    .dataframe tbody tr th {\n",
       "        vertical-align: top;\n",
       "    }\n",
       "\n",
       "    .dataframe thead th {\n",
       "        text-align: right;\n",
       "    }\n",
       "</style>\n",
       "<table border=\"1\" class=\"dataframe\">\n",
       "  <thead>\n",
       "    <tr style=\"text-align: right;\">\n",
       "      <th></th>\n",
       "      <th>sn</th>\n",
       "      <th>name</th>\n",
       "      <th>age</th>\n",
       "      <th>address</th>\n",
       "      <th>phone</th>\n",
       "    </tr>\n",
       "  </thead>\n",
       "  <tbody>\n",
       "    <tr>\n",
       "      <th>0</th>\n",
       "      <td>0</td>\n",
       "      <td>Ram</td>\n",
       "      <td>45</td>\n",
       "      <td>Kathmandu</td>\n",
       "      <td>9812552554</td>\n",
       "    </tr>\n",
       "    <tr>\n",
       "      <th>1</th>\n",
       "      <td>1</td>\n",
       "      <td>Shyam</td>\n",
       "      <td>66</td>\n",
       "      <td>Lalitpur</td>\n",
       "      <td>9812552254</td>\n",
       "    </tr>\n",
       "    <tr>\n",
       "      <th>2</th>\n",
       "      <td>2</td>\n",
       "      <td>Sabin</td>\n",
       "      <td>45</td>\n",
       "      <td>Bara</td>\n",
       "      <td>9812554660</td>\n",
       "    </tr>\n",
       "  </tbody>\n",
       "</table>\n",
       "</div>"
      ],
      "text/plain": [
       "   sn   name  age    address       phone\n",
       "0   0    Ram   45  Kathmandu  9812552554\n",
       "1   1  Shyam   66   Lalitpur  9812552254\n",
       "2   2  Sabin   45       Bara  9812554660"
      ]
     },
     "execution_count": 12,
     "metadata": {},
     "output_type": "execute_result"
    }
   ],
   "source": [
    "import pandas as pd\n",
    "df = pd.read_csv('info.csv')\n",
    "df"
   ]
  },
  {
   "cell_type": "code",
   "execution_count": 14,
   "id": "1e423866",
   "metadata": {},
   "outputs": [],
   "source": [
    "\n",
    "## list inside list p1\n",
    "\n",
    "import csv\n",
    "import pandas as pd\n",
    "\n",
    "l = [['sn','name','age','address','phone'],     ## cloumn name\n",
    "    [1,'Ram', 45, 'Ktm',9845565421],\n",
    "     [2,'Shyam', 66, 'Jhapa',9801266485], \n",
    "     [3,'Hari', 45, 'Lalitpur',9824756288]]\n",
    "\n",
    "file = open('infonew.csv','a')      # 'file' is object -it holds operation... but mathiko 'l' is list\n",
    "x = csv.writer(file)\n",
    "x.writerows(l)     #### 'rows' not 'row'\n",
    "file.close()"
   ]
  },
  {
   "cell_type": "code",
   "execution_count": 15,
   "id": "936b1627",
   "metadata": {},
   "outputs": [
    {
     "data": {
      "text/html": [
       "<div>\n",
       "<style scoped>\n",
       "    .dataframe tbody tr th:only-of-type {\n",
       "        vertical-align: middle;\n",
       "    }\n",
       "\n",
       "    .dataframe tbody tr th {\n",
       "        vertical-align: top;\n",
       "    }\n",
       "\n",
       "    .dataframe thead th {\n",
       "        text-align: right;\n",
       "    }\n",
       "</style>\n",
       "<table border=\"1\" class=\"dataframe\">\n",
       "  <thead>\n",
       "    <tr style=\"text-align: right;\">\n",
       "      <th></th>\n",
       "      <th>sn</th>\n",
       "      <th>name</th>\n",
       "      <th>age</th>\n",
       "      <th>address</th>\n",
       "      <th>phone</th>\n",
       "    </tr>\n",
       "  </thead>\n",
       "  <tbody>\n",
       "    <tr>\n",
       "      <th>0</th>\n",
       "      <td>1</td>\n",
       "      <td>Ram</td>\n",
       "      <td>45</td>\n",
       "      <td>Ktm</td>\n",
       "      <td>9845565421</td>\n",
       "    </tr>\n",
       "    <tr>\n",
       "      <th>1</th>\n",
       "      <td>2</td>\n",
       "      <td>Shyam</td>\n",
       "      <td>66</td>\n",
       "      <td>Jhapa</td>\n",
       "      <td>9801266485</td>\n",
       "    </tr>\n",
       "    <tr>\n",
       "      <th>2</th>\n",
       "      <td>3</td>\n",
       "      <td>Hari</td>\n",
       "      <td>45</td>\n",
       "      <td>Lalitpur</td>\n",
       "      <td>9824756288</td>\n",
       "    </tr>\n",
       "  </tbody>\n",
       "</table>\n",
       "</div>"
      ],
      "text/plain": [
       "   sn   name  age   address       phone\n",
       "0   1    Ram   45       Ktm  9845565421\n",
       "1   2  Shyam   66     Jhapa  9801266485\n",
       "2   3   Hari   45  Lalitpur  9824756288"
      ]
     },
     "execution_count": 15,
     "metadata": {},
     "output_type": "execute_result"
    }
   ],
   "source": [
    "## list inside list p2\n",
    "df = pd.read_csv('infonew.csv')\n",
    "df"
   ]
  },
  {
   "cell_type": "code",
   "execution_count": 17,
   "id": "43f0316f",
   "metadata": {},
   "outputs": [
    {
     "name": "stdout",
     "output_type": "stream",
     "text": [
      "{'sn': '1', 'name': 'Ram', 'age': '45', 'address': 'Ktm', 'phone': '9845565421'}\n",
      "{'sn': '2', 'name': 'Shyam', 'age': '66', 'address': 'Jhapa', 'phone': '9801266485'}\n",
      "{'sn': '3', 'name': 'Hari', 'age': '45', 'address': 'Lalitpur', 'phone': '9824756288'}\n"
     ]
    }
   ],
   "source": [
    "## DictReader #####\n",
    "\n",
    "    # csv file in dictionary\n",
    "\n",
    "import csv\n",
    "file = open('infonew.csv')\n",
    "reader = csv.DictReader(file)\n",
    "for row in reader:   # each row lai print garxa\n",
    "    print(row)"
   ]
  },
  {
   "cell_type": "code",
   "execution_count": 19,
   "id": "d1c295c8",
   "metadata": {},
   "outputs": [
    {
     "data": {
      "text/plain": [
       "[{'sn': '1',\n",
       "  'name': 'Ram',\n",
       "  'age': '45',\n",
       "  'address': 'Ktm',\n",
       "  'phone': '9845565421'},\n",
       " {'sn': '2',\n",
       "  'name': 'Shyam',\n",
       "  'age': '66',\n",
       "  'address': 'Jhapa',\n",
       "  'phone': '9801266485'},\n",
       " {'sn': '3',\n",
       "  'name': 'Hari',\n",
       "  'age': '45',\n",
       "  'address': 'Lalitpur',\n",
       "  'phone': '9824756288'}]"
      ]
     },
     "execution_count": 19,
     "metadata": {},
     "output_type": "execute_result"
    }
   ],
   "source": [
    "## DictReader #####\n",
    "\n",
    "    # csv file in list inside dictionary\n",
    "import csv\n",
    "final_data =[]\n",
    "file = open('infonew.csv')\n",
    "reader = csv.DictReader(file)\n",
    "for row in reader:   # each row lai print garxa\n",
    "    final_data.append(row)\n",
    "final_data     # now, we can change this data with previous concepts"
   ]
  },
  {
   "cell_type": "code",
   "execution_count": 20,
   "id": "0af6d3c2",
   "metadata": {},
   "outputs": [],
   "source": [
    "### DictWriter=\n",
    "    # final_data lai feri csv ma  lane\n",
    "    \n",
    "import csv\n",
    "csv_columns = ['sn','name','age','address','phone']\n",
    "dicts = final_data\n",
    "\n",
    "file = open('finaldata.csv','w')\n",
    "\n",
    "writer = csv.DictWriter(file,fieldnames=csv_columns)   # yesle first ma column banauxa\n",
    "writer.writeheader()                                   # yesle first ma column banauxa\n",
    "\n",
    "writer.writerows(dicts)\n",
    "file.close()"
   ]
  },
  {
   "cell_type": "code",
   "execution_count": 22,
   "id": "aec51d94",
   "metadata": {},
   "outputs": [
    {
     "data": {
      "text/html": [
       "<div>\n",
       "<style scoped>\n",
       "    .dataframe tbody tr th:only-of-type {\n",
       "        vertical-align: middle;\n",
       "    }\n",
       "\n",
       "    .dataframe tbody tr th {\n",
       "        vertical-align: top;\n",
       "    }\n",
       "\n",
       "    .dataframe thead th {\n",
       "        text-align: right;\n",
       "    }\n",
       "</style>\n",
       "<table border=\"1\" class=\"dataframe\">\n",
       "  <thead>\n",
       "    <tr style=\"text-align: right;\">\n",
       "      <th></th>\n",
       "      <th>sn</th>\n",
       "      <th>name</th>\n",
       "      <th>age</th>\n",
       "      <th>address</th>\n",
       "      <th>phone</th>\n",
       "    </tr>\n",
       "  </thead>\n",
       "  <tbody>\n",
       "    <tr>\n",
       "      <th>0</th>\n",
       "      <td>1</td>\n",
       "      <td>Ram</td>\n",
       "      <td>45</td>\n",
       "      <td>Ktm</td>\n",
       "      <td>9845565421</td>\n",
       "    </tr>\n",
       "    <tr>\n",
       "      <th>1</th>\n",
       "      <td>2</td>\n",
       "      <td>Shyam</td>\n",
       "      <td>66</td>\n",
       "      <td>Jhapa</td>\n",
       "      <td>9801266485</td>\n",
       "    </tr>\n",
       "    <tr>\n",
       "      <th>2</th>\n",
       "      <td>3</td>\n",
       "      <td>Hari</td>\n",
       "      <td>45</td>\n",
       "      <td>Lalitpur</td>\n",
       "      <td>9824756288</td>\n",
       "    </tr>\n",
       "  </tbody>\n",
       "</table>\n",
       "</div>"
      ],
      "text/plain": [
       "   sn   name  age   address       phone\n",
       "0   1    Ram   45       Ktm  9845565421\n",
       "1   2  Shyam   66     Jhapa  9801266485\n",
       "2   3   Hari   45  Lalitpur  9824756288"
      ]
     },
     "execution_count": 22,
     "metadata": {},
     "output_type": "execute_result"
    }
   ],
   "source": [
    "import pandas as pd\n",
    "df = pd.read_csv('finaldata.csv')\n",
    "df"
   ]
  },
  {
   "cell_type": "code",
   "execution_count": 24,
   "id": "850b61d4",
   "metadata": {},
   "outputs": [
    {
     "data": {
      "text/html": [
       "<div>\n",
       "<style scoped>\n",
       "    .dataframe tbody tr th:only-of-type {\n",
       "        vertical-align: middle;\n",
       "    }\n",
       "\n",
       "    .dataframe tbody tr th {\n",
       "        vertical-align: top;\n",
       "    }\n",
       "\n",
       "    .dataframe thead th {\n",
       "        text-align: right;\n",
       "    }\n",
       "</style>\n",
       "<table border=\"1\" class=\"dataframe\">\n",
       "  <thead>\n",
       "    <tr style=\"text-align: right;\">\n",
       "      <th></th>\n",
       "      <th>name</th>\n",
       "      <th>age</th>\n",
       "      <th>address</th>\n",
       "      <th>phone</th>\n",
       "    </tr>\n",
       "    <tr>\n",
       "      <th>sn</th>\n",
       "      <th></th>\n",
       "      <th></th>\n",
       "      <th></th>\n",
       "      <th></th>\n",
       "    </tr>\n",
       "  </thead>\n",
       "  <tbody>\n",
       "    <tr>\n",
       "      <th>1</th>\n",
       "      <td>Ram</td>\n",
       "      <td>45</td>\n",
       "      <td>Ktm</td>\n",
       "      <td>9845565421</td>\n",
       "    </tr>\n",
       "  </tbody>\n",
       "</table>\n",
       "</div>"
      ],
      "text/plain": [
       "   name  age address       phone\n",
       "sn                              \n",
       "1   Ram   45     Ktm  9845565421"
      ]
     },
     "execution_count": 24,
     "metadata": {},
     "output_type": "execute_result"
    }
   ],
   "source": [
    "## Deleting rpws\n",
    "\n",
    "import pandas as pd\n",
    "df = pd.read_csv('finaldata.csv',index_col='sn')  # name ko basis ma hataune vaye= index_col'name, ani drop['Ram','Shyam']\n",
    "\n",
    "df1 = df.drop([2,3],axis = 0) ## axis 0 bata 2 ra 3 drop hunxa     ## index col = sn lai banako xa so, - sn 2 r 3 janxa ## axis 0 chai row \n",
    "df1   # sn 2 ra 3 drop vayo from 'df'"
   ]
  },
  {
   "cell_type": "code",
   "execution_count": 25,
   "id": "7f9461e1",
   "metadata": {},
   "outputs": [
    {
     "data": {
      "text/html": [
       "<div>\n",
       "<style scoped>\n",
       "    .dataframe tbody tr th:only-of-type {\n",
       "        vertical-align: middle;\n",
       "    }\n",
       "\n",
       "    .dataframe tbody tr th {\n",
       "        vertical-align: top;\n",
       "    }\n",
       "\n",
       "    .dataframe thead th {\n",
       "        text-align: right;\n",
       "    }\n",
       "</style>\n",
       "<table border=\"1\" class=\"dataframe\">\n",
       "  <thead>\n",
       "    <tr style=\"text-align: right;\">\n",
       "      <th></th>\n",
       "      <th>name</th>\n",
       "      <th>age</th>\n",
       "    </tr>\n",
       "    <tr>\n",
       "      <th>sn</th>\n",
       "      <th></th>\n",
       "      <th></th>\n",
       "    </tr>\n",
       "  </thead>\n",
       "  <tbody>\n",
       "    <tr>\n",
       "      <th>1</th>\n",
       "      <td>Ram</td>\n",
       "      <td>45</td>\n",
       "    </tr>\n",
       "    <tr>\n",
       "      <th>2</th>\n",
       "      <td>Shyam</td>\n",
       "      <td>66</td>\n",
       "    </tr>\n",
       "    <tr>\n",
       "      <th>3</th>\n",
       "      <td>Hari</td>\n",
       "      <td>45</td>\n",
       "    </tr>\n",
       "  </tbody>\n",
       "</table>\n",
       "</div>"
      ],
      "text/plain": [
       "     name  age\n",
       "sn            \n",
       "1     Ram   45\n",
       "2   Shyam   66\n",
       "3    Hari   45"
      ]
     },
     "execution_count": 25,
     "metadata": {},
     "output_type": "execute_result"
    }
   ],
   "source": [
    "import pandas as pd\n",
    "df = pd.read_csv('finaldata.csv',index_col='sn')\n",
    "\n",
    "df1 = df.drop(['address','phone'],axis = 1)  # i.e it is like use cols\n",
    "df1"
   ]
  }
 ],
 "metadata": {
  "kernelspec": {
   "display_name": "Python 3 (ipykernel)",
   "language": "python",
   "name": "python3"
  },
  "language_info": {
   "codemirror_mode": {
    "name": "ipython",
    "version": 3
   },
   "file_extension": ".py",
   "mimetype": "text/x-python",
   "name": "python",
   "nbconvert_exporter": "python",
   "pygments_lexer": "ipython3",
   "version": "3.9.13"
  }
 },
 "nbformat": 4,
 "nbformat_minor": 5
}
