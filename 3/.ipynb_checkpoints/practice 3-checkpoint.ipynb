{
 "cells": [
  {
   "cell_type": "code",
   "execution_count": 5,
   "id": "3e18c478",
   "metadata": {},
   "outputs": [
    {
     "name": "stdout",
     "output_type": "stream",
     "text": [
      "Enter n=2\n",
      "Enter your first name:Ram\n",
      "Enter your last name:shyam\n",
      "Enter your first name:sham\n",
      "Enter your last name:sham\n",
      "['Ram', 'shyam', 'sham', 'sham']\n"
     ]
    }
   ],
   "source": [
    "info= []\n",
    "n = int(input(\"Enter n=\"))\n",
    "for i in range(n):\n",
    "    fname = input(\"Enter your first name:\")\n",
    "    lname = input(\"Enter your last name:\")\n",
    "    info.append(fname)  # this takes only one argument so, fname ra lname ko lagi separately garnu paryo.\n",
    "    info.append(lname)\n",
    "print(info)\n",
    "\n",
    "    "
   ]
  }
 ],
 "metadata": {
  "kernelspec": {
   "display_name": "Python 3 (ipykernel)",
   "language": "python",
   "name": "python3"
  },
  "language_info": {
   "codemirror_mode": {
    "name": "ipython",
    "version": 3
   },
   "file_extension": ".py",
   "mimetype": "text/x-python",
   "name": "python",
   "nbconvert_exporter": "python",
   "pygments_lexer": "ipython3",
   "version": "3.9.13"
  }
 },
 "nbformat": 4,
 "nbformat_minor": 5
}
