{
 "cells": [
  {
   "cell_type": "code",
   "execution_count": 8,
   "id": "f6fa708b",
   "metadata": {},
   "outputs": [
    {
     "name": "stdout",
     "output_type": "stream",
     "text": [
      "Enter any value:Ram\n",
      "0\n",
      "3\n"
     ]
    }
   ],
   "source": [
    "## WAP to calc index of any value##\n",
    "a = ['Ram', 'Shyam', 'Hari','Ram','Sita']\n",
    "b = input(\"Enter any value:\")\n",
    "for i in range(len(a)) :\n",
    "    if a[i]==b:\n",
    "        print(i)"
   ]
  },
  {
   "cell_type": "code",
   "execution_count": 6,
   "id": "a3ece5c3",
   "metadata": {},
   "outputs": [
    {
     "name": "stdout",
     "output_type": "stream",
     "text": [
      "0\n"
     ]
    }
   ],
   "source": [
    "## WAP to remove multiple items (ie. Dupliate) from a list\n",
    "\n",
    "a = ['Ram', 'Shyam', 'Hari','Ram','Sita']\n",
    "b = input((\"Enter aby value in list:\"))\n",
    "c = a.count(b)\n",
    "for i in range(c):   # loop will run 2 times ie. 0,1,2 but 2 ta chaldaina\n",
    "    a.remove(b)\n",
    "print(a)\n",
    " "
   ]
  },
  {
   "cell_type": "code",
   "execution_count": 24,
   "id": "0169e2a7",
   "metadata": {},
   "outputs": [
    {
     "name": "stdout",
     "output_type": "stream",
     "text": [
      "Enter any value in list:hari\n",
      "['ram', 'Shyam', 'ram', 'Sita']\n"
     ]
    }
   ],
   "source": [
    "## WAP to remove multiple items (ie. Dupliate) from a list -- with uppercase & lowercase [type 1]\n",
    "\n",
    "a = ['ram', 'Shyam', 'Hari','ram','Sita']   # yesma lower() use garna mildain\n",
    "b = input((\"Enter any value in list:\"))\n",
    "\n",
    "for i in a:  ## 'a' ma vayeko value 'i' ma aauxa each any every time\n",
    "    if i.lower() == b.lower():    #main logic::## if yo condition true vayo vane, i ma jun value huda true vayeko thiyo tei remove garxa##\n",
    "        a.remove(i)\n",
    "print(a)\n",
    "        \n"
   ]
  },
  {
   "cell_type": "code",
   "execution_count": 25,
   "id": "7ab452b7",
   "metadata": {},
   "outputs": [
    {
     "name": "stdout",
     "output_type": "stream",
     "text": [
      "Enter any value in list:Ram\n",
      "['Shyam', 'Hari', 'Sita']\n"
     ]
    }
   ],
   "source": [
    "## WAP to remove multiple items (ie. Dupliate) from a list--- with uppercase & lowercase [ type 2]\n",
    "\n",
    "a = ['ram', 'Shyam', 'Hari','ram','Sita']   # yesma lower() use garna mildain\n",
    "b = input((\"Enter any value in list:\"))\n",
    "c = 0\n",
    "for i in a:  ## 'a' ma vayeko value 'i' ma aauxa each any every time\n",
    "    if i.lower() == b.lower():\n",
    "        del a[c]\n",
    "    c = c+1\n",
    "print(a)\n",
    "        \n"
   ]
  },
  {
   "cell_type": "code",
   "execution_count": null,
   "id": "ec7d3dff",
   "metadata": {},
   "outputs": [],
   "source": []
  }
 ],
 "metadata": {
  "kernelspec": {
   "display_name": "Python 3 (ipykernel)",
   "language": "python",
   "name": "python3"
  },
  "language_info": {
   "codemirror_mode": {
    "name": "ipython",
    "version": 3
   },
   "file_extension": ".py",
   "mimetype": "text/x-python",
   "name": "python",
   "nbconvert_exporter": "python",
   "pygments_lexer": "ipython3",
   "version": "3.9.13"
  }
 },
 "nbformat": 4,
 "nbformat_minor": 5
}
