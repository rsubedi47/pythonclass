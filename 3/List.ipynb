{
 "cells": [
  {
   "cell_type": "code",
   "execution_count": null,
   "id": "039c7082",
   "metadata": {},
   "outputs": [],
   "source": [
    "## Python Collection##\n",
    "#List , tuple , set , dictionary"
   ]
  },
  {
   "cell_type": "code",
   "execution_count": 2,
   "id": "ae819bb6",
   "metadata": {},
   "outputs": [
    {
     "name": "stdout",
     "output_type": "stream",
     "text": [
      "<class 'list'>\n",
      "<class 'list'>\n",
      "<class 'list'>\n",
      "<class 'list'>\n"
     ]
    }
   ],
   "source": [
    "b = [] #empty\n",
    "c = list()  # empty list defined\n",
    "a = ['apple', 'ball', 'cat','Fish']\n",
    "d = ['Apple', 1,2,3,4.5,6.5,7.6]\n",
    "print(type(a))\n",
    "print(type(b))\n",
    "print(type(c))\n",
    "print(type(d))"
   ]
  },
  {
   "cell_type": "code",
   "execution_count": 8,
   "id": "e6e988a5",
   "metadata": {},
   "outputs": [
    {
     "name": "stdout",
     "output_type": "stream",
     "text": [
      "ball\n",
      "AA\n",
      "['apple', 'ball', 'cat', 'Fish']\n",
      "['apple', 'cat']\n"
     ]
    }
   ],
   "source": [
    "#using index in list\n",
    "a = ['apple', 'ball', 'cat','Fish','AA']\n",
    "print(a[1])\n",
    "print(a[-1])\n",
    "print(a[0:4])\n",
    "print(a[0:4:2])  #indexing with range # 0 dekhi 4 samma but 2 le increment but 4 print hudaina, so here AA print vayena"
   ]
  },
  {
   "cell_type": "code",
   "execution_count": 10,
   "id": "c3deae7f",
   "metadata": {},
   "outputs": [
    {
     "name": "stdout",
     "output_type": "stream",
     "text": [
      "['apple', 'ball', 'cat', 'Fish']\n"
     ]
    }
   ],
   "source": [
    "#orderd = index change hudaina, jasto xa testai print\n",
    "a = ['apple', 'ball', 'cat','Fish']\n",
    "print(a)"
   ]
  },
  {
   "cell_type": "code",
   "execution_count": 12,
   "id": "9da8d5fe",
   "metadata": {},
   "outputs": [
    {
     "name": "stdout",
     "output_type": "stream",
     "text": [
      "['apple', 'ball', 'cat', 'Fish', 'Apple', 1, 2, 3, 4.5, 6.5, 7.6]\n",
      "['Apple', 1, 2, 3, 4.5, 6.5, 7.6, 'apple', 'ball', 'cat', 'Fish']\n"
     ]
    }
   ],
   "source": [
    "a = ['apple', 'ball', 'cat','Fish']\n",
    "d = ['Apple', 1,2,3,4.5,6.5,7.6]\n",
    "c = a+d  # oredered\n",
    "e = d+a  # oreded\n",
    "print(c)\n",
    "print(e)\n"
   ]
  },
  {
   "cell_type": "code",
   "execution_count": 15,
   "id": "192ffe0e",
   "metadata": {},
   "outputs": [
    {
     "name": "stdout",
     "output_type": "stream",
     "text": [
      "[1, 2, 3, 4, 5, 1, 2, 3, 4, 5]\n",
      "['apple', 'ball', 'cat', 'Fish', 'apple', 'ball', 'cat', 'Fish']\n"
     ]
    }
   ],
   "source": [
    "#ENlargement\n",
    "\n",
    "a =[ 1,2,3,4,5]\n",
    "b = ['apple', 'ball', 'cat','Fish']\n",
    "\n",
    "print(a*2) # list ma calcn garna mildaina, only for data collection, for calcn use NumPy\n",
    "print(b*2)"
   ]
  },
  {
   "cell_type": "code",
   "execution_count": 18,
   "id": "54a7defd",
   "metadata": {},
   "outputs": [
    {
     "name": "stdout",
     "output_type": "stream",
     "text": [
      "Enter n =5\n",
      "Enter x =55\n",
      "Enter x =68\n",
      "Enter x =97\n",
      "Enter x =95\n",
      "Enter x =555\n",
      "[55, 68, 97, 95, 555]\n"
     ]
    }
   ],
   "source": [
    "### 1. Adding Values to list\n",
    "l=[]\n",
    "n = int(input(\"Enter n =\"))\n",
    "for i in range(n) :\n",
    "    x = int(input(\"Enter x =\"))\n",
    "    l = l+[x]\n",
    "print(l)\n",
    "    "
   ]
  },
  {
   "cell_type": "code",
   "execution_count": 20,
   "id": "427cb704",
   "metadata": {},
   "outputs": [
    {
     "name": "stdout",
     "output_type": "stream",
     "text": [
      "The max value is 555\n",
      "The min value is 55\n",
      "The sum =  870\n",
      "Average 174.0\n",
      "[55, 68, 95, 97, 555]\n",
      "[555, 97, 95, 68, 55]\n"
     ]
    }
   ],
   "source": [
    "### 1.1 max and min\n",
    "print(\"The max value is\", max(l))\n",
    "print(\"The min value is\", min(l))\n",
    "print(\"The sum = \", sum(l))\n",
    "print(\"Average\", sum(l)/n)\n",
    "l.sort() # this will update the l  in ascending order\n",
    "print(l) # this will print updated l . so, it is mutable\n",
    "l.reverse()\n",
    "print(l)"
   ]
  },
  {
   "cell_type": "code",
   "execution_count": 24,
   "id": "9fab60a9",
   "metadata": {},
   "outputs": [
    {
     "name": "stdout",
     "output_type": "stream",
     "text": [
      "['apple', 'ball', 'dog', 'elephant', 'fish']\n",
      "['Dog', 'apple', 'ball', 'elephant', 'fish']\n"
     ]
    }
   ],
   "source": [
    "a = ['apple', 'ball','dog','fish','elephant']\n",
    "b = ['apple', 'ball','Dog','fish','elephant']\n",
    "a.sort()\n",
    "print(a)\n",
    "b.sort()\n",
    "print(b)"
   ]
  },
  {
   "cell_type": "code",
   "execution_count": 26,
   "id": "30d557ec",
   "metadata": {},
   "outputs": [
    {
     "data": {
      "text/plain": [
       "'ball'"
      ]
     },
     "execution_count": 26,
     "metadata": {},
     "output_type": "execute_result"
    }
   ],
   "source": [
    "# upper lower = full list lai mildaina, each string lai chai using index milxa\n",
    "b[2].lower()"
   ]
  },
  {
   "cell_type": "code",
   "execution_count": 27,
   "id": "e7f2804a",
   "metadata": {},
   "outputs": [
    {
     "name": "stdout",
     "output_type": "stream",
     "text": [
      "apple\n",
      "ball\n",
      "dog\n",
      "fish\n",
      "elephant\n"
     ]
    }
   ],
   "source": [
    "# Loop and list\n",
    "a = ['apple', 'ball','dog','fish','elephant']\n",
    "for i in a:\n",
    "    print(i)"
   ]
  },
  {
   "cell_type": "code",
   "execution_count": 28,
   "id": "bd89feff",
   "metadata": {},
   "outputs": [
    {
     "data": {
      "text/plain": [
       "5"
      ]
     },
     "execution_count": 28,
     "metadata": {},
     "output_type": "execute_result"
    }
   ],
   "source": [
    "#Len()\n",
    "len(a)  # 5 comma separated values so, loop 5 times run hunxa"
   ]
  },
  {
   "cell_type": "code",
   "execution_count": 29,
   "id": "337c9531",
   "metadata": {},
   "outputs": [
    {
     "name": "stdout",
     "output_type": "stream",
     "text": [
      "apple\n",
      "ball\n",
      "dog\n",
      "fish\n",
      "elephant\n"
     ]
    }
   ],
   "source": [
    "a = ['apple', 'ball','dog','fish','elephant']\n",
    "l = len(a)\n",
    "for i in range(l):\n",
    "    print(a[i])"
   ]
  },
  {
   "cell_type": "code",
   "execution_count": 32,
   "id": "21b0a7a1",
   "metadata": {},
   "outputs": [
    {
     "name": "stdout",
     "output_type": "stream",
     "text": [
      "Yes\n",
      "2\n"
     ]
    }
   ],
   "source": [
    "### Search\n",
    "a = ['apple', 'ball','dog','fish','elephant','Xray','apple']\n",
    "if \"apple\" in a:\n",
    "    print(\"Yes\")\n",
    "    print(a.count(\"apple\"))"
   ]
  },
  {
   "cell_type": "code",
   "execution_count": null,
   "id": "de2f0031",
   "metadata": {},
   "outputs": [],
   "source": [
    "################################################################################################\n",
    "# Append()   # Insert()  # Extend()\n"
   ]
  },
  {
   "cell_type": "code",
   "execution_count": 34,
   "id": "3363a91d",
   "metadata": {},
   "outputs": [
    {
     "name": "stdout",
     "output_type": "stream",
     "text": [
      "['apple', 'ball', 'dog', 'fish', 'elephant', 'Xray', 'apple', 'Sky']\n"
     ]
    }
   ],
   "source": [
    "#APPEND()\n",
    "a = ['apple', 'ball','dog','fish','elephant','Xray','apple']\n",
    "a.append('Sky')\n",
    "print(a)"
   ]
  },
  {
   "cell_type": "code",
   "execution_count": 37,
   "id": "2da85821",
   "metadata": {},
   "outputs": [
    {
     "name": "stdout",
     "output_type": "stream",
     "text": [
      "['apple', 'Sky', 'ball', 'dog', 'fish', 'elephant', 'Xray', 'apple']\n"
     ]
    }
   ],
   "source": [
    "#INSERT()\n",
    "a = ['apple', 'ball','dog','fish','elephant','Xray','apple']\n",
    "a.insert(1,'Sky')  # changes index of values thereafter\n",
    "print(a)"
   ]
  },
  {
   "cell_type": "code",
   "execution_count": 39,
   "id": "9263b316",
   "metadata": {},
   "outputs": [
    {
     "name": "stdout",
     "output_type": "stream",
     "text": [
      "['apple', 'ball', 'dog', 'fish', 'elephant', 'Xray', 'apple', 1, 2, 3, 4]\n"
     ]
    }
   ],
   "source": [
    "#Extend\n",
    "a = ['apple', 'ball','dog','fish','elephant','Xray','apple']\n",
    "b= [1,2,3,4]   # this must be list\n",
    "a.extend(b)\n",
    "print(a)   # 1,2,3,4 will be as integer"
   ]
  },
  {
   "cell_type": "code",
   "execution_count": 41,
   "id": "e94d5cd6",
   "metadata": {},
   "outputs": [
    {
     "name": "stdout",
     "output_type": "stream",
     "text": [
      "['A', 'p', 'p', 'l', 'e']\n"
     ]
    }
   ],
   "source": [
    "# string to list\n",
    "a= \"Apple\"\n",
    "b= list(a)\n",
    "print(b)"
   ]
  },
  {
   "cell_type": "code",
   "execution_count": 43,
   "id": "c3b3c899",
   "metadata": {},
   "outputs": [
    {
     "data": {
      "text/plain": [
       "\"['A', 'p', 'p', 'l', 'e']\""
      ]
     },
     "execution_count": 43,
     "metadata": {},
     "output_type": "execute_result"
    }
   ],
   "source": [
    "# list to string = NO\n",
    "a= \"Apple\"\n",
    "b= list(a)\n",
    "c= str(b)\n",
    "c"
   ]
  },
  {
   "cell_type": "code",
   "execution_count": 45,
   "id": "f265bf34",
   "metadata": {},
   "outputs": [
    {
     "name": "stdout",
     "output_type": "stream",
     "text": [
      "Enter n =2\n",
      "Enter x =45\n",
      "Enter x =45\n",
      "[45, 45]\n"
     ]
    }
   ],
   "source": [
    "# Adding values to list using APPEND()\n",
    "\n",
    "l=[]\n",
    "n = int(input(\"Enter n =\"))\n",
    "for i in range(n) :\n",
    "    x = int(input(\"Enter x =\"))\n",
    "    l.append(x)  # small bracket\n",
    "print(l)\n",
    "    "
   ]
  },
  {
   "cell_type": "code",
   "execution_count": 46,
   "id": "59eb8df7",
   "metadata": {},
   "outputs": [
    {
     "name": "stdout",
     "output_type": "stream",
     "text": [
      "['Ant', 'ball', 'dog', 'fish', 'elephant', 'Xray', 'apple']\n"
     ]
    }
   ],
   "source": [
    "##### UPDATE or EDIT####\n",
    "\n",
    "a = ['apple', 'ball','dog','fish','elephant','Xray','apple']\n",
    "a[0]= \"Ant\"  #update in index 0\n",
    "print(a)\n"
   ]
  },
  {
   "cell_type": "code",
   "execution_count": 48,
   "id": "65250059",
   "metadata": {},
   "outputs": [
    {
     "name": "stdout",
     "output_type": "stream",
     "text": [
      "['APPLE', 'ball', 'dog', 'fish', 'elephant', 'Xray', 'apple']\n"
     ]
    }
   ],
   "source": [
    "# UPDATE or EDIT ( uppercase)\n",
    "\n",
    "a = ['apple', 'ball','dog','fish','elephant','Xray','apple']\n",
    "a[0]= a[0].upper()  #update in index 0\n",
    "print(a)"
   ]
  },
  {
   "cell_type": "code",
   "execution_count": 49,
   "id": "56aaaa5f",
   "metadata": {},
   "outputs": [
    {
     "name": "stdout",
     "output_type": "stream",
     "text": [
      "['ball', 'dog', 'fish', 'elephant', 'Xray', 'apple']\n",
      "['fish', 'elephant', 'Xray', 'apple']\n"
     ]
    }
   ],
   "source": [
    "### del, remove(), pop(),\n",
    "\n",
    "\n",
    "#del  = keyword not a function\n",
    "a = ['apple', 'ball','dog','fish','elephant','Xray','apple']\n",
    "del a[0]\n",
    "print(a)  # mutable\n",
    "del a[0:2]\n",
    "print(a)   # mutable\n"
   ]
  },
  {
   "cell_type": "code",
   "execution_count": 51,
   "id": "89d75072",
   "metadata": {},
   "outputs": [
    {
     "name": "stdout",
     "output_type": "stream",
     "text": [
      "['ball', 'dog', 'fish', 'elephant', 'Xray', 'apple']\n",
      "apple\n"
     ]
    }
   ],
   "source": [
    "## pop()  = to move value\n",
    "a = ['apple', 'ball','dog','fish','elephant','Xray','apple']\n",
    "b = a.pop(0) # small bracket range use garna mildaina\n",
    "print(a)\n",
    "print(b)"
   ]
  },
  {
   "cell_type": "code",
   "execution_count": 52,
   "id": "fb95138b",
   "metadata": {},
   "outputs": [
    {
     "name": "stdout",
     "output_type": "stream",
     "text": [
      "['apple', 'ball', 'dog', 'fish', 'elephant', 'Xray']\n"
     ]
    }
   ],
   "source": [
    "## pop()  = to move value= if no index is used = last ko value move vayera janxa\n",
    "a = ['apple', 'ball','dog','fish','elephant','Xray','apple']\n",
    "a.pop() \n",
    "print(a)"
   ]
  },
  {
   "cell_type": "code",
   "execution_count": null,
   "id": "a6762ff0",
   "metadata": {},
   "outputs": [],
   "source": [
    "##### remove()"
   ]
  },
  {
   "cell_type": "code",
   "execution_count": 56,
   "id": "f8442968",
   "metadata": {},
   "outputs": [
    {
     "data": {
      "text/plain": [
       "['ball', 'dog', 'fish', 'elephant', 'Xray', 'apple']"
      ]
     },
     "execution_count": 56,
     "metadata": {},
     "output_type": "execute_result"
    }
   ],
   "source": [
    "a = ['apple', 'ball','dog','fish','elephant','Xray','apple']\n",
    "a.remove('apple')   # euta matra remove hunxa\n",
    "a"
   ]
  }
 ],
 "metadata": {
  "kernelspec": {
   "display_name": "Python 3 (ipykernel)",
   "language": "python",
   "name": "python3"
  },
  "language_info": {
   "codemirror_mode": {
    "name": "ipython",
    "version": 3
   },
   "file_extension": ".py",
   "mimetype": "text/x-python",
   "name": "python",
   "nbconvert_exporter": "python",
   "pygments_lexer": "ipython3",
   "version": "3.9.13"
  }
 },
 "nbformat": 4,
 "nbformat_minor": 5
}
