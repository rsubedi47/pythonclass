{
 "cells": [
  {
   "cell_type": "code",
   "execution_count": null,
   "id": "fb1d7df3",
   "metadata": {},
   "outputs": [],
   "source": [
    "# file = open(<'file_name'>,'<mode>')\n",
    "# file.close()\n",
    "\n",
    "\n",
    "# anotherway\n",
    "    # with open('File_name','mode') as file:\n",
    "        #<operations>\n",
    "        \n",
    "        \n",
    "        \n",
    "# mode   = jun mode ma kholeko xa tyo kaam matra garna milxa\n",
    "\n",
    "#read = r\n",
    "#write = w    = aafai file create hunxa\n",
    "#create = x\n",
    "#append = a  = = aafai file create hunxa"
   ]
  },
  {
   "cell_type": "code",
   "execution_count": 1,
   "id": "8ed40141",
   "metadata": {},
   "outputs": [],
   "source": [
    "file = open('file.txt','x')\n",
    "file.close()     # close pani garnu parxa"
   ]
  },
  {
   "cell_type": "code",
   "execution_count": 3,
   "id": "b6025dd2",
   "metadata": {},
   "outputs": [
    {
     "name": "stdout",
     "output_type": "stream",
     "text": [
      "The file is already there!\n"
     ]
    }
   ],
   "source": [
    "## exception(error) handling if we try create the same file multiple times\n",
    "\n",
    "try:\n",
    "    file = open('file.txt','x')\n",
    "    file.close()     # close pani garnu parxa\n",
    "\n",
    "except:\n",
    "\n",
    "    print(\"The file is already there!\")"
   ]
  },
  {
   "cell_type": "code",
   "execution_count": 4,
   "id": "3647f9bc",
   "metadata": {},
   "outputs": [
    {
     "name": "stdout",
     "output_type": "stream",
     "text": [
      "1. Hello World\n",
      "2. Hello World\n",
      "3. Hello World\n",
      "4. Hello World\n",
      "5. Hello World\n",
      "6. Hello World\n",
      "7. Hello World\n",
      "8. Hello World\n",
      "9. Hello World\n"
     ]
    }
   ],
   "source": [
    "# Reading file\n",
    "\n",
    "file = open('file.txt','r')\n",
    "x = file.read()  ### reading\n",
    "print(x)\n",
    "file.close()     # close pani garnu parxa"
   ]
  },
  {
   "cell_type": "code",
   "execution_count": 5,
   "id": "0184f5e1",
   "metadata": {},
   "outputs": [
    {
     "name": "stdout",
     "output_type": "stream",
     "text": [
      "<class 'str'>\n"
     ]
    }
   ],
   "source": [
    "print(type(x))   # .txt nai euta string ho, so we can separate contents from it"
   ]
  },
  {
   "cell_type": "code",
   "execution_count": 6,
   "id": "487f6bf2",
   "metadata": {},
   "outputs": [
    {
     "data": {
      "text/plain": [
       "'1. Hello World\\n2. Hello World\\n3. Hello World\\n4. Hello World\\n5. Hello World\\n6. Hello World\\n7. Hello World\\n8. Hello World\\n9. Hello World'"
      ]
     },
     "execution_count": 6,
     "metadata": {},
     "output_type": "execute_result"
    }
   ],
   "source": [
    "x  ## i.e sab lai \\n le separate gareko xa"
   ]
  },
  {
   "cell_type": "code",
   "execution_count": 8,
   "id": "df988748",
   "metadata": {},
   "outputs": [
    {
     "data": {
      "text/plain": [
       "['1. Hello World',\n",
       " '2. Hello World',\n",
       " '3. Hello World',\n",
       " '4. Hello World',\n",
       " '5. Hello World',\n",
       " '6. Hello World',\n",
       " '7. Hello World',\n",
       " '8. Hello World',\n",
       " '9. Hello World']"
      ]
     },
     "execution_count": 8,
     "metadata": {},
     "output_type": "execute_result"
    }
   ],
   "source": [
    "## converting it  = reading line by line.\n",
    "\n",
    "data = x.split('\\n')\n",
    "data\n"
   ]
  },
  {
   "cell_type": "code",
   "execution_count": 9,
   "id": "fc46d6d8",
   "metadata": {},
   "outputs": [
    {
     "name": "stdout",
     "output_type": "stream",
     "text": [
      "Enter line no = 2\n"
     ]
    },
    {
     "data": {
      "text/plain": [
       "'2. Hello World'"
      ]
     },
     "execution_count": 9,
     "metadata": {},
     "output_type": "execute_result"
    }
   ],
   "source": [
    "## reading data line by line\n",
    "\n",
    "n = int(input(\"Enter line no = \"))\n",
    "data[n-1]"
   ]
  },
  {
   "cell_type": "code",
   "execution_count": null,
   "id": "26a3c13d",
   "metadata": {},
   "outputs": [],
   "source": [
    "######### Writing into file ############"
   ]
  },
  {
   "cell_type": "code",
   "execution_count": 10,
   "id": "0515bcb7",
   "metadata": {},
   "outputs": [],
   "source": [
    "# mode - w    = if there is existing file, it will overwrite\n",
    "file = open('hello.txt','w')\n",
    "file.write(\"Hello World\")\n",
    "file.close()"
   ]
  },
  {
   "cell_type": "code",
   "execution_count": 11,
   "id": "6c128979",
   "metadata": {},
   "outputs": [
    {
     "name": "stdout",
     "output_type": "stream",
     "text": [
      "Enter n = 2\n",
      "Enter x = Apple\n",
      "Enter price = 15\n",
      "Enter quantity = 5\n",
      "Enter x = Banana\n",
      "Enter price = 55\n",
      "Enter quantity = 5\n",
      "Apple 15 5 75\n",
      "Banana 55 5 275\n",
      "\n"
     ]
    }
   ],
   "source": [
    "## creating bill.txt\n",
    "\n",
    "bill = str()\n",
    "grand_total = 0\n",
    "#s = 0\n",
    "n = int(input(\"Enter n = \"))\n",
    "for i in range(n):\n",
    "    product = input(\"Enter x = \")\n",
    "    price = int(input(\"Enter price = \"))\n",
    "    quantity = int(input(\"Enter quantity = \"))\n",
    "    total = price*quantity\n",
    "    grand_total = grand_total +total\n",
    "#     bill = bill + product+\" \" +str(price)+str(quantity) +str(total)+\"\\n\"\n",
    "    bill = bill + f\"{product} {price} {quantity} {total}\\n\"\n",
    "print(bill)\n",
    "\n",
    "\n",
    "file = open('bill.txt','w')\n",
    "file.write(bill)\n",
    "file.close()\n"
   ]
  },
  {
   "cell_type": "code",
   "execution_count": 29,
   "id": "86d57cf9",
   "metadata": {},
   "outputs": [
    {
     "name": "stdout",
     "output_type": "stream",
     "text": [
      "['Apple 15 5 75', 'Banana 55 5 275']\n"
     ]
    },
    {
     "data": {
      "text/plain": [
       "[['Apple', 15, 5, 75], ['Banana', 55, 5, 275]]"
      ]
     },
     "execution_count": 29,
     "metadata": {},
     "output_type": "execute_result"
    }
   ],
   "source": [
    "# reading bill.txt \n",
    "\n",
    "\n",
    "file = open('bill.txt','r')\n",
    "x = file.read()\n",
    "\n",
    "b= x.split('\\n')[:-1]   # to remove last ko space\n",
    "print(b)\n",
    "\n",
    "result =[]\n",
    "\n",
    "for i in b:   ## converting to string   = difficult so, we use CSV\n",
    "    y = i.split()\n",
    "    \n",
    "    y[1]= int(y[1])\n",
    "    y[2]= int(y[2])\n",
    "    y[3]= int(y[3])\n",
    "    result.append(y)\n",
    "\n",
    "result\n",
    "\n"
   ]
  },
  {
   "cell_type": "code",
   "execution_count": null,
   "id": "f27f22d4",
   "metadata": {},
   "outputs": [],
   "source": [
    "### CSV###"
   ]
  },
  {
   "cell_type": "code",
   "execution_count": 35,
   "id": "1ae9f126",
   "metadata": {},
   "outputs": [
    {
     "name": "stdout",
     "output_type": "stream",
     "text": [
      "Enter n = 2\n",
      "Enter x = Apple\n",
      "Enter price = 55\n",
      "Enter quantity = 5\n",
      "Enter x = Banana\n",
      "Enter price = 65\n",
      "Enter quantity = 5\n",
      "Apple,55,5,275\n",
      "Banana,65,5,325\n",
      "\n"
     ]
    }
   ],
   "source": [
    "## creating billnew.csv\n",
    "\n",
    "bill = str()\n",
    "grand_total = 0\n",
    "#s = 0\n",
    "n = int(input(\"Enter n = \"))\n",
    "for i in range(n):\n",
    "    product = input(\"Enter x = \")\n",
    "    price = int(input(\"Enter price = \"))\n",
    "    quantity = int(input(\"Enter quantity = \"))\n",
    "    total = price*quantity\n",
    "    grand_total = grand_total +total\n",
    "#     bill = bill + product+\" \" +str(price)+str(quantity) +str(total)+\"\\n\"\n",
    "    bill = bill + f\"{product},{price},{quantity},{total}\\n\"\n",
    "print(bill)\n",
    "\n",
    "\n",
    "file = open('bill.csv','w')\n",
    "\n",
    "file.write('Product,Price,Quantity,Total\\n') ## adding headers /cloumn name\n",
    "\n",
    "file.write(bill)\n",
    "file.close()\n"
   ]
  },
  {
   "cell_type": "code",
   "execution_count": 36,
   "id": "9849c8be",
   "metadata": {},
   "outputs": [
    {
     "name": "stdout",
     "output_type": "stream",
     "text": [
      "Product,Price,Quantity,Total\n",
      "Apple,55,5,275\n",
      "Banana,65,5,325\n",
      "\n"
     ]
    }
   ],
   "source": [
    "file = open('bill.csv','r')\n",
    "y = file.read()\n",
    "print(y)\n",
    "file.close()"
   ]
  },
  {
   "cell_type": "code",
   "execution_count": 33,
   "id": "88c88364",
   "metadata": {},
   "outputs": [
    {
     "data": {
      "text/plain": [
       "'C:\\\\Users\\\\Rawjan\\\\Desktop\\\\Python Class\\\\11'"
      ]
     },
     "execution_count": 33,
     "metadata": {},
     "output_type": "execute_result"
    }
   ],
   "source": [
    "pwd"
   ]
  },
  {
   "cell_type": "code",
   "execution_count": 38,
   "id": "33994ade",
   "metadata": {},
   "outputs": [
    {
     "data": {
      "text/html": [
       "<div>\n",
       "<style scoped>\n",
       "    .dataframe tbody tr th:only-of-type {\n",
       "        vertical-align: middle;\n",
       "    }\n",
       "\n",
       "    .dataframe tbody tr th {\n",
       "        vertical-align: top;\n",
       "    }\n",
       "\n",
       "    .dataframe thead th {\n",
       "        text-align: right;\n",
       "    }\n",
       "</style>\n",
       "<table border=\"1\" class=\"dataframe\">\n",
       "  <thead>\n",
       "    <tr style=\"text-align: right;\">\n",
       "      <th></th>\n",
       "      <th>Product</th>\n",
       "      <th>Price</th>\n",
       "      <th>Quantity</th>\n",
       "      <th>Total</th>\n",
       "    </tr>\n",
       "  </thead>\n",
       "  <tbody>\n",
       "    <tr>\n",
       "      <th>0</th>\n",
       "      <td>Apple</td>\n",
       "      <td>55</td>\n",
       "      <td>5</td>\n",
       "      <td>275</td>\n",
       "    </tr>\n",
       "    <tr>\n",
       "      <th>1</th>\n",
       "      <td>Banana</td>\n",
       "      <td>65</td>\n",
       "      <td>5</td>\n",
       "      <td>325</td>\n",
       "    </tr>\n",
       "  </tbody>\n",
       "</table>\n",
       "</div>"
      ],
      "text/plain": [
       "  Product  Price  Quantity  Total\n",
       "0   Apple     55         5    275\n",
       "1  Banana     65         5    325"
      ]
     },
     "execution_count": 38,
     "metadata": {},
     "output_type": "execute_result"
    }
   ],
   "source": [
    "## reading file with pandas\n",
    "\n",
    "import pandas as pd\n",
    "df = pd.read_csv('bill.csv')\n",
    "df\n"
   ]
  },
  {
   "cell_type": "code",
   "execution_count": null,
   "id": "1d2f03a8",
   "metadata": {},
   "outputs": [],
   "source": [
    "### Append###"
   ]
  },
  {
   "cell_type": "code",
   "execution_count": 51,
   "id": "3f9daa08",
   "metadata": {},
   "outputs": [
    {
     "data": {
      "text/plain": [
       "34"
      ]
     },
     "execution_count": 51,
     "metadata": {},
     "output_type": "execute_result"
    }
   ],
   "source": [
    "# bill . part 1\n",
    "\n",
    "file = open('Tbill.csv','a')   # yesle filelai append mode ma rakhirahanxa since,last ma matra close xa\n",
    "file.write('Name,Product,Price,Quantity,Total\\n')  # yo ekpalta matra chahine ho"
   ]
  },
  {
   "cell_type": "code",
   "execution_count": 52,
   "id": "874738b4",
   "metadata": {},
   "outputs": [
    {
     "name": "stdout",
     "output_type": "stream",
     "text": [
      "Enter n = 2\n",
      "Enter Customer's name = Ram\n",
      "Enter name = Apple\n",
      "Enter price = 65\n",
      "Enter quantity = 5\n",
      "Enter Customer's name = Ram\n",
      "Enter name = Banana\n",
      "Enter price = 44\n",
      "Enter quantity = 5\n"
     ]
    },
    {
     "data": {
      "text/plain": [
       "39"
      ]
     },
     "execution_count": 52,
     "metadata": {},
     "output_type": "execute_result"
    }
   ],
   "source": [
    "# Bill.part 2\n",
    "\n",
    "## yo code run garera detail line ho-- each customer ko lagi run garne\n",
    "\n",
    "\n",
    "bill = str()\n",
    "grand_total = 0\n",
    "#s = 0\n",
    "n = int(input(\"Enter n = \"))\n",
    "for i in range(n):\n",
    "    name = input(\"Enter Customer's name = \")\n",
    "    product = input(\"Enter name = \")\n",
    "    price = int(input(\"Enter price = \"))\n",
    "    quantity = int(input(\"Enter quantity = \"))\n",
    "    total = price*quantity\n",
    "    grand_total = grand_total +total\n",
    "#     bill = bill + product+\" \" +str(price)+str(quantity) +str(total)+\"\\n\"\n",
    "    bill = bill + f\"{name},{product},{price},{quantity},{total}\\n\"\n",
    "\n",
    "\n",
    "\n",
    "\n",
    "\n",
    " ## adding headers /cloumn name\n",
    "\n",
    "file.write(bill)"
   ]
  },
  {
   "cell_type": "code",
   "execution_count": 4,
   "id": "87f08704",
   "metadata": {},
   "outputs": [
    {
     "ename": "NameError",
     "evalue": "name 'file' is not defined",
     "output_type": "error",
     "traceback": [
      "\u001b[1;31m---------------------------------------------------------------------------\u001b[0m",
      "\u001b[1;31mNameError\u001b[0m                                 Traceback (most recent call last)",
      "\u001b[1;32m~\\AppData\\Local\\Temp\\ipykernel_17692\\1572329761.py\u001b[0m in \u001b[0;36m<module>\u001b[1;34m\u001b[0m\n\u001b[0;32m      3\u001b[0m \u001b[1;31m## file last ma close garne at day end only .. one time matra ta ho\u001b[0m\u001b[1;33m\u001b[0m\u001b[1;33m\u001b[0m\u001b[0m\n\u001b[0;32m      4\u001b[0m \u001b[1;33m\u001b[0m\u001b[0m\n\u001b[1;32m----> 5\u001b[1;33m \u001b[0mfile\u001b[0m\u001b[1;33m.\u001b[0m\u001b[0mclose\u001b[0m\u001b[1;33m(\u001b[0m\u001b[1;33m)\u001b[0m\u001b[1;33m\u001b[0m\u001b[1;33m\u001b[0m\u001b[0m\n\u001b[0m",
      "\u001b[1;31mNameError\u001b[0m: name 'file' is not defined"
     ]
    }
   ],
   "source": [
    "# Bill.part 2\n",
    "\n",
    "## file last ma close garne at day end only .. one time matra ta ho\n",
    "\n",
    "file.close()"
   ]
  },
  {
   "cell_type": "code",
   "execution_count": 5,
   "id": "a8cabb3e",
   "metadata": {},
   "outputs": [
    {
     "data": {
      "text/html": [
       "<div>\n",
       "<style scoped>\n",
       "    .dataframe tbody tr th:only-of-type {\n",
       "        vertical-align: middle;\n",
       "    }\n",
       "\n",
       "    .dataframe tbody tr th {\n",
       "        vertical-align: top;\n",
       "    }\n",
       "\n",
       "    .dataframe thead th {\n",
       "        text-align: right;\n",
       "    }\n",
       "</style>\n",
       "<table border=\"1\" class=\"dataframe\">\n",
       "  <thead>\n",
       "    <tr style=\"text-align: right;\">\n",
       "      <th></th>\n",
       "      <th>Product</th>\n",
       "      <th>Price</th>\n",
       "      <th>Quantity</th>\n",
       "      <th>Total</th>\n",
       "      <th>Unnamed: 4</th>\n",
       "    </tr>\n",
       "  </thead>\n",
       "  <tbody>\n",
       "    <tr>\n",
       "      <th>0</th>\n",
       "      <td>Apple</td>\n",
       "      <td>2</td>\n",
       "      <td>65</td>\n",
       "      <td>130</td>\n",
       "      <td>NaN</td>\n",
       "    </tr>\n",
       "    <tr>\n",
       "      <th>1</th>\n",
       "      <td>Banana</td>\n",
       "      <td>65</td>\n",
       "      <td>4</td>\n",
       "      <td>260</td>\n",
       "      <td>NaN</td>\n",
       "    </tr>\n",
       "    <tr>\n",
       "      <th>2</th>\n",
       "      <td>Aple</td>\n",
       "      <td>55</td>\n",
       "      <td>5</td>\n",
       "      <td>275</td>\n",
       "      <td>NaN</td>\n",
       "    </tr>\n",
       "    <tr>\n",
       "      <th>3</th>\n",
       "      <td>Banana</td>\n",
       "      <td>65</td>\n",
       "      <td>5</td>\n",
       "      <td>325</td>\n",
       "      <td>NaN</td>\n",
       "    </tr>\n",
       "    <tr>\n",
       "      <th>4</th>\n",
       "      <td>Grape</td>\n",
       "      <td>65</td>\n",
       "      <td>5</td>\n",
       "      <td>325</td>\n",
       "      <td>NaN</td>\n",
       "    </tr>\n",
       "    <tr>\n",
       "      <th>5</th>\n",
       "      <td>Name</td>\n",
       "      <td>Product</td>\n",
       "      <td>Price</td>\n",
       "      <td>Quantity</td>\n",
       "      <td>Total</td>\n",
       "    </tr>\n",
       "    <tr>\n",
       "      <th>6</th>\n",
       "      <td>Ram</td>\n",
       "      <td>Apple</td>\n",
       "      <td>65</td>\n",
       "      <td>5</td>\n",
       "      <td>325</td>\n",
       "    </tr>\n",
       "    <tr>\n",
       "      <th>7</th>\n",
       "      <td>Ram</td>\n",
       "      <td>Banana</td>\n",
       "      <td>44</td>\n",
       "      <td>5</td>\n",
       "      <td>220</td>\n",
       "    </tr>\n",
       "  </tbody>\n",
       "</table>\n",
       "</div>"
      ],
      "text/plain": [
       "  Product    Price Quantity     Total Unnamed: 4\n",
       "0   Apple        2       65       130        NaN\n",
       "1  Banana       65        4       260        NaN\n",
       "2    Aple       55        5       275        NaN\n",
       "3  Banana       65        5       325        NaN\n",
       "4   Grape       65        5       325        NaN\n",
       "5    Name  Product    Price  Quantity      Total\n",
       "6     Ram    Apple       65         5        325\n",
       "7     Ram   Banana       44         5        220"
      ]
     },
     "execution_count": 5,
     "metadata": {},
     "output_type": "execute_result"
    }
   ],
   "source": [
    "import pandas as pd\n",
    "df = pd.read_csv('Tbill.csv')\n",
    "df\n"
   ]
  }
 ],
 "metadata": {
  "kernelspec": {
   "display_name": "Python 3 (ipykernel)",
   "language": "python",
   "name": "python3"
  },
  "language_info": {
   "codemirror_mode": {
    "name": "ipython",
    "version": 3
   },
   "file_extension": ".py",
   "mimetype": "text/x-python",
   "name": "python",
   "nbconvert_exporter": "python",
   "pygments_lexer": "ipython3",
   "version": "3.9.13"
  }
 },
 "nbformat": 4,
 "nbformat_minor": 5
}
