{
 "cells": [
  {
   "cell_type": "code",
   "execution_count": 16,
   "id": "850ac7ba",
   "metadata": {},
   "outputs": [
    {
     "data": {
      "text/plain": [
       "43"
      ]
     },
     "execution_count": 16,
     "metadata": {},
     "output_type": "execute_result"
    }
   ],
   "source": [
    "#part 1\n",
    "\n",
    "info = open('finalbill.csv','a')\n"
   ]
  },
  {
   "cell_type": "code",
   "execution_count": null,
   "id": "8e4c3f5e",
   "metadata": {},
   "outputs": [],
   "source": [
    "# part 2\n",
    "info.write('TimeStamp,Name,Product,Rate,Quantity,Total\\n')    # append mode ma kholera write gareko"
   ]
  },
  {
   "cell_type": "code",
   "execution_count": 17,
   "id": "b8566804",
   "metadata": {},
   "outputs": [
    {
     "name": "stdout",
     "output_type": "stream",
     "text": [
      "Enter number of items:  2\n",
      "Enter name of customer: gita\n",
      "Enter the name of item: Grapes\n",
      "Enter the rate of Grapes: 55\n",
      "Enter quantity of Grapes555\n",
      "Enter name of customer: Sita\n",
      "Enter the name of item: Papaya\n",
      "Enter the rate of Papaya: 65\n",
      "Enter quantity of Papaya5\n"
     ]
    },
    {
     "data": {
      "text/plain": [
       "102"
      ]
     },
     "execution_count": 17,
     "metadata": {},
     "output_type": "execute_result"
    }
   ],
   "source": [
    "#part 3\n",
    "\n",
    "bill = str()\n",
    "n = int(input(\"Enter number of items:  \"))\n",
    "\n",
    "from datetime import datetime\n",
    "\n",
    "for i in range(n):\n",
    "    name = input(\"Enter name of customer: \")\n",
    "    product= input(\"Enter the name of item: \")\n",
    "    rate = int(input(f\"Enter the rate of {product}: \"))\n",
    "    qty = int(input(f\"Enter quantity of {product}\"))\n",
    "    total = rate * qty\n",
    "    time = datetime.now()\n",
    "    \n",
    "    bill = bill + f\"{time},{name},{product},{rate},{qty},{total}\\n \"\n",
    "\n",
    "info.write(bill)"
   ]
  },
  {
   "cell_type": "code",
   "execution_count": 18,
   "id": "463ac2ca",
   "metadata": {},
   "outputs": [],
   "source": [
    "#part 4\n",
    "\n",
    "info.close()"
   ]
  },
  {
   "cell_type": "code",
   "execution_count": 23,
   "id": "47bd6d8f",
   "metadata": {},
   "outputs": [
    {
     "name": "stdout",
     "output_type": "stream",
     "text": [
      "TimeStamp,Name,Product,Rate,Quantity,Total\n",
      "21/02/2023 21:28,Ram,Apple,55,5,275\n",
      " 2023-02-21 21:29:02.948633,Hari,65,55,55,3025\n",
      " ,,,,,\n",
      "TimeStamp,Name,Product,Rate,Quantity,Total\n",
      "2023-02-21 21:32:29.870999,gita,Grapes,55,555,30525\n",
      " 2023-02-21 21:32:40.782936,Sita,Papaya,65,5,325\n",
      " \n"
     ]
    }
   ],
   "source": [
    "file = open('finalbill.csv','r')\n",
    "c= file.read()    # file is object , suruma file ma store vayeko hunxa , tyaha bata read garne\n",
    "print(c)\n"
   ]
  },
  {
   "cell_type": "code",
   "execution_count": 1,
   "id": "e1ecec47",
   "metadata": {},
   "outputs": [
    {
     "data": {
      "text/html": [
       "<div>\n",
       "<style scoped>\n",
       "    .dataframe tbody tr th:only-of-type {\n",
       "        vertical-align: middle;\n",
       "    }\n",
       "\n",
       "    .dataframe tbody tr th {\n",
       "        vertical-align: top;\n",
       "    }\n",
       "\n",
       "    .dataframe thead th {\n",
       "        text-align: right;\n",
       "    }\n",
       "</style>\n",
       "<table border=\"1\" class=\"dataframe\">\n",
       "  <thead>\n",
       "    <tr style=\"text-align: right;\">\n",
       "      <th></th>\n",
       "      <th>TimeStamp</th>\n",
       "      <th>Name</th>\n",
       "      <th>Product</th>\n",
       "      <th>Rate</th>\n",
       "      <th>Quantity</th>\n",
       "      <th>Total</th>\n",
       "    </tr>\n",
       "  </thead>\n",
       "  <tbody>\n",
       "    <tr>\n",
       "      <th>0</th>\n",
       "      <td>21/02/2023 21:28</td>\n",
       "      <td>Ram</td>\n",
       "      <td>Apple</td>\n",
       "      <td>55</td>\n",
       "      <td>5</td>\n",
       "      <td>275</td>\n",
       "    </tr>\n",
       "    <tr>\n",
       "      <th>1</th>\n",
       "      <td>2023-02-21 21:29:02.948633</td>\n",
       "      <td>Hari</td>\n",
       "      <td>65</td>\n",
       "      <td>55</td>\n",
       "      <td>55</td>\n",
       "      <td>3025</td>\n",
       "    </tr>\n",
       "    <tr>\n",
       "      <th>2</th>\n",
       "      <td></td>\n",
       "      <td>NaN</td>\n",
       "      <td>NaN</td>\n",
       "      <td>NaN</td>\n",
       "      <td>NaN</td>\n",
       "      <td>NaN</td>\n",
       "    </tr>\n",
       "    <tr>\n",
       "      <th>3</th>\n",
       "      <td>TimeStamp</td>\n",
       "      <td>Name</td>\n",
       "      <td>Product</td>\n",
       "      <td>Rate</td>\n",
       "      <td>Quantity</td>\n",
       "      <td>Total</td>\n",
       "    </tr>\n",
       "    <tr>\n",
       "      <th>4</th>\n",
       "      <td>2023-02-21 21:32:29.870999</td>\n",
       "      <td>gita</td>\n",
       "      <td>Grapes</td>\n",
       "      <td>55</td>\n",
       "      <td>555</td>\n",
       "      <td>30525</td>\n",
       "    </tr>\n",
       "    <tr>\n",
       "      <th>5</th>\n",
       "      <td>2023-02-21 21:32:40.782936</td>\n",
       "      <td>Sita</td>\n",
       "      <td>Papaya</td>\n",
       "      <td>65</td>\n",
       "      <td>5</td>\n",
       "      <td>325</td>\n",
       "    </tr>\n",
       "  </tbody>\n",
       "</table>\n",
       "</div>"
      ],
      "text/plain": [
       "                     TimeStamp  Name  Product  Rate  Quantity  Total\n",
       "0             21/02/2023 21:28   Ram    Apple    55         5    275\n",
       "1   2023-02-21 21:29:02.948633  Hari       65    55        55   3025\n",
       "2                                NaN      NaN   NaN       NaN    NaN\n",
       "3                    TimeStamp  Name  Product  Rate  Quantity  Total\n",
       "4   2023-02-21 21:32:29.870999  gita   Grapes    55       555  30525\n",
       "5   2023-02-21 21:32:40.782936  Sita   Papaya    65         5    325"
      ]
     },
     "execution_count": 1,
     "metadata": {},
     "output_type": "execute_result"
    }
   ],
   "source": [
    "import pandas as pd\n",
    "df = pd.read_csv('finalbill.csv')\n",
    "df"
   ]
  },
  {
   "cell_type": "code",
   "execution_count": null,
   "id": "0c6ec0ee",
   "metadata": {},
   "outputs": [],
   "source": []
  },
  {
   "cell_type": "code",
   "execution_count": 9,
   "id": "10c04743",
   "metadata": {},
   "outputs": [
    {
     "name": "stdout",
     "output_type": "stream",
     "text": [
      "Enter name of Student: Ram\n"
     ]
    }
   ],
   "source": []
  },
  {
   "cell_type": "code",
   "execution_count": 19,
   "id": "a684b0f3",
   "metadata": {},
   "outputs": [
    {
     "name": "stdout",
     "output_type": "stream",
     "text": [
      "Enter number of columns: 3\n",
      "Enter number of rows: 2\n",
      "Enter value to store: 45\n",
      "Enter value to store: 45\n",
      "Enter value to store: 45\n",
      "Enter value to store: 43\n",
      "Enter value to store: 34\n",
      "Enter value to store: 34\n",
      "[[45, 45, 45], [43, 34, 34]]\n"
     ]
    }
   ],
   "source": [
    "################ Result of Students############## using matrix in file: subjects in column and name in rows\n",
    "\n",
    "c = int(input(\"Enter number of columns: \"))\n",
    "r = int(input(\"Enter number of rows: \"))\n",
    "mat = []\n",
    "\n",
    "for i in range(r):\n",
    "    r = []\n",
    "    for j in range(c):\n",
    "        x = int(input(\"Enter value to store: \"))\n",
    "        r.append(x)\n",
    "    mat.append(r)\n",
    "print(mat)\n",
    "        \n"
   ]
  },
  {
   "cell_type": "code",
   "execution_count": 28,
   "id": "2fb9b16e",
   "metadata": {},
   "outputs": [
    {
     "name": "stdout",
     "output_type": "stream",
     "text": [
      "Enter the number of students whose data to be entered: 2\n",
      "Enter marks in Physics56\n",
      "Enter marks in Chemistry45\n",
      "Enter marks in Math45\n",
      "Enter marks in English45\n",
      "Enter marks in Nepali45\n",
      "Enter marks in Physics55\n",
      "Enter marks in Chemistry55\n",
      "Enter marks in Math55\n",
      "Enter marks in English55\n",
      "Enter marks in Nepali55\n",
      "[[56, 56, 45, 101, 45, 146, 45, 191, 45, 236], [55, 55, 55, 110, 55, 165, 55, 220, 55, 275]]\n"
     ]
    }
   ],
   "source": [
    "subjects = ['Physics', 'Chemistry', 'Math', 'English','Nepali']\n",
    "c= len(subjects)\n",
    "n = int(input(\"Enter the number of students whose data to be entered: \"))   # rows\n",
    "final =[]\n",
    "for i in range(n):\n",
    "    r = []\n",
    "    total = 0\n",
    "    for j in range(c):\n",
    "        marks = int(input(f\"Enter marks in {subjects[j]}\"))\n",
    "        total = total + marks\n",
    "        r.append(marks)\n",
    "    \n",
    "    final.append(r)\n",
    "print(final)\n",
    "        "
   ]
  },
  {
   "cell_type": "code",
   "execution_count": null,
   "id": "7efc29cf",
   "metadata": {},
   "outputs": [],
   "source": []
  }
 ],
 "metadata": {
  "kernelspec": {
   "display_name": "Python 3 (ipykernel)",
   "language": "python",
   "name": "python3"
  },
  "language_info": {
   "codemirror_mode": {
    "name": "ipython",
    "version": 3
   },
   "file_extension": ".py",
   "mimetype": "text/x-python",
   "name": "python",
   "nbconvert_exporter": "python",
   "pygments_lexer": "ipython3",
   "version": "3.9.13"
  }
 },
 "nbformat": 4,
 "nbformat_minor": 5
}
