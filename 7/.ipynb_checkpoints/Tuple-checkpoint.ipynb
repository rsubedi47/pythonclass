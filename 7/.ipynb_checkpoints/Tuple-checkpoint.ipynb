{
 "cells": [
  {
   "cell_type": "code",
   "execution_count": null,
   "id": "f10153df",
   "metadata": {},
   "outputs": [],
   "source": [
    "# Tuple##\n",
    "# - Indexing\n",
    "# - Ordered\n",
    "#- multiple values\n",
    "# imutable"
   ]
  },
  {
   "cell_type": "code",
   "execution_count": 1,
   "id": "ba9351b3",
   "metadata": {},
   "outputs": [
    {
     "data": {
      "text/plain": [
       "('Apple', 'Ball', 'Cat', 'Dog')"
      ]
     },
     "execution_count": 1,
     "metadata": {},
     "output_type": "execute_result"
    }
   ],
   "source": [
    "a = tuple()\n",
    "a = (\"Apple\",\"Ball\",\"Cat\",\"Dog\")\n",
    "a"
   ]
  },
  {
   "cell_type": "code",
   "execution_count": 2,
   "id": "8a1d8e31",
   "metadata": {},
   "outputs": [
    {
     "name": "stdout",
     "output_type": "stream",
     "text": [
      "<class 'tuple'>\n",
      "<class 'tuple'>\n",
      "<class 'int'>\n",
      "<class 'tuple'>\n"
     ]
    }
   ],
   "source": [
    "a = (1,2,3)  # tuple\n",
    "print(type(a))\n",
    "\n",
    "b = (1,2) # tupple\n",
    "print(type(b))\n",
    "\n",
    "c = (1)  # int\n",
    "print(type(c))\n",
    "\n",
    "d = (1,) # tuple   # similar for strings\n",
    "print(type(d))\n"
   ]
  },
  {
   "cell_type": "code",
   "execution_count": 5,
   "id": "a367b1f6",
   "metadata": {},
   "outputs": [
    {
     "name": "stdout",
     "output_type": "stream",
     "text": [
      "Apple\n",
      "('Apple', 'Ball', 'Cat')\n",
      "('Apple', 'Cat')\n"
     ]
    }
   ],
   "source": [
    "a = (\"Apple\",\"Ball\",\"Cat\",\"Dog\",\"Apple\")\n",
    "print(a[0])\n",
    "print(a[0:3])\n",
    "print(a[0:3:2])"
   ]
  },
  {
   "cell_type": "code",
   "execution_count": null,
   "id": "e7608a9e",
   "metadata": {},
   "outputs": [],
   "source": [
    "## Immutable\n",
    "    ## No Insert(), no append(), no extend()\n",
    "    ## No update\n",
    "    ## No delete pop() remove()\n",
    "    ## No sort()\n",
    "\n",
    "# We can\n",
    "    # sum() min() max()\n",
    "    ## index()\n",
    "    ## create\n",
    "    ## search\n",
    "    \n",
    "    ## but can be concat"
   ]
  },
  {
   "cell_type": "code",
   "execution_count": 7,
   "id": "e7b74084",
   "metadata": {},
   "outputs": [
    {
     "name": "stdout",
     "output_type": "stream",
     "text": [
      "(1, 2, 3, 4, 1, 2, 3, 4)\n",
      "(1, 2, 3, 4, 4, 5, 6, 7)\n"
     ]
    }
   ],
   "source": [
    "# Enlargement and Concat\n",
    "\n",
    "a=(1,2,3,4)\n",
    "b =(4,5,6,7)\n",
    "\n",
    "print(a*2)   # enlargement\n",
    "\n",
    "c = a+b   # concat\n",
    "print(c)"
   ]
  },
  {
   "cell_type": "code",
   "execution_count": 12,
   "id": "dd4629c4",
   "metadata": {},
   "outputs": [
    {
     "name": "stdout",
     "output_type": "stream",
     "text": [
      "Enter n =2\n",
      "Enter x =5\n",
      "Enter x =6\n",
      "(5, 6)\n"
     ]
    }
   ],
   "source": [
    "### creating a tuple by using concat ##\n",
    "\n",
    "l = ()\n",
    "n = int(input(\"Enter n =\"))\n",
    "for i in range(n):\n",
    "    x = int(input(\"Enter x =\"))\n",
    "    l= l +(x,)\n",
    "print(l)"
   ]
  },
  {
   "cell_type": "code",
   "execution_count": 13,
   "id": "ad2bbfc4",
   "metadata": {},
   "outputs": [
    {
     "data": {
      "text/plain": [
       "0"
      ]
     },
     "execution_count": 13,
     "metadata": {},
     "output_type": "execute_result"
    }
   ],
   "source": [
    "## index\n",
    "a = (\"Apple\",\"Ball\",\"Cat\",\"Dog\")\n",
    "a.index(\"Apple\")"
   ]
  },
  {
   "cell_type": "code",
   "execution_count": 14,
   "id": "638596cf",
   "metadata": {},
   "outputs": [
    {
     "name": "stdout",
     "output_type": "stream",
     "text": [
      "Yes\n"
     ]
    }
   ],
   "source": [
    "## search\n",
    "if \"Apple\" in a:\n",
    "    print(\"Yes\")"
   ]
  },
  {
   "cell_type": "code",
   "execution_count": 17,
   "id": "be22c104",
   "metadata": {},
   "outputs": [
    {
     "data": {
      "text/plain": [
       "['Apple', 'Ball', 'Cat', 'Dog']"
      ]
     },
     "execution_count": 17,
     "metadata": {},
     "output_type": "execute_result"
    }
   ],
   "source": [
    "## Convertin tuple to list\n",
    "c = (\"Apple\",\"Ball\",\"Cat\",\"Dog\")\n",
    "d = list(c)\n",
    "d"
   ]
  },
  {
   "cell_type": "code",
   "execution_count": 18,
   "id": "624a00b5",
   "metadata": {},
   "outputs": [
    {
     "data": {
      "text/plain": [
       "['Ball', 'Cat', 'Dog']"
      ]
     },
     "execution_count": 18,
     "metadata": {},
     "output_type": "execute_result"
    }
   ],
   "source": [
    "del d[0]    # tuple lai list ma convert garera del gareko ani feri tuple mai convert\n",
    "d"
   ]
  },
  {
   "cell_type": "code",
   "execution_count": 19,
   "id": "f465f5bf",
   "metadata": {},
   "outputs": [
    {
     "data": {
      "text/plain": [
       "('Ball', 'Cat', 'Dog')"
      ]
     },
     "execution_count": 19,
     "metadata": {},
     "output_type": "execute_result"
    }
   ],
   "source": [
    "e = tuple(d)    # list lai feri tuple ma convert gareko\n",
    "e"
   ]
  },
  {
   "cell_type": "code",
   "execution_count": 21,
   "id": "90187108",
   "metadata": {},
   "outputs": [
    {
     "data": {
      "text/plain": [
       "('Apple', 'Cat', 'Dog')"
      ]
     },
     "execution_count": 21,
     "metadata": {},
     "output_type": "execute_result"
    }
   ],
   "source": [
    "# single operation\n",
    "\n",
    "c = (\"Apple\",\"Ball\",\"Cat\",\"Dog\")\n",
    "d = list(c)\n",
    "d.remove('Ball')\n",
    "d\n",
    "tuple(d)   # converting list to tuple\n"
   ]
  },
  {
   "cell_type": "code",
   "execution_count": 22,
   "id": "d186ee3e",
   "metadata": {},
   "outputs": [
    {
     "data": {
      "text/plain": [
       "{('Ram', 'Hari'): ('98655', '98226655'), 'Shyam': '9866556'}"
      ]
     },
     "execution_count": 22,
     "metadata": {},
     "output_type": "execute_result"
    }
   ],
   "source": [
    "## Tuple can be in dictionary\n",
    "\n",
    "d = {('Ram','Hari'):('98655','98226655'),'Shyam':'9866556'}\n",
    "d"
   ]
  },
  {
   "cell_type": "code",
   "execution_count": 23,
   "id": "cbd7902c",
   "metadata": {},
   "outputs": [
    {
     "data": {
      "text/plain": [
       "(('Ram', 200, 2, 400), ('Banana', 300, 3, 900))"
      ]
     },
     "execution_count": 23,
     "metadata": {},
     "output_type": "execute_result"
    }
   ],
   "source": [
    "## Tuple inside tuple pani hunxa\n",
    "\n",
    "a = (('Ram',200,2,400),('Banana',300,3,900))\n",
    "a"
   ]
  },
  {
   "cell_type": "code",
   "execution_count": 25,
   "id": "dbbe16af",
   "metadata": {},
   "outputs": [
    {
     "name": "stdout",
     "output_type": "stream",
     "text": [
      "Enter no. of data to enter2\n",
      "Enter your name:Ram\n",
      "Enter your age:55\n",
      "Enter your address:KTM\n",
      "Enter your name:SHyam\n",
      "Enter your age:45\n",
      "Enter your address:LT\n"
     ]
    },
    {
     "data": {
      "text/plain": [
       "(('Ram', 55, 'KTM'), ('SHyam', 45, 'LT'))"
      ]
     },
     "execution_count": 25,
     "metadata": {},
     "output_type": "execute_result"
    }
   ],
   "source": [
    "## Creating tuple inside tuple\n",
    "# Way 1\n",
    "\n",
    "a=()\n",
    "n = int(input(\"Enter no. of data to enter\"))\n",
    "for i in range(n):\n",
    "    name = input(\"Enter your name:\")\n",
    "    age = int(input(\"Enter your age:\"))\n",
    "    add = input(\"Enter your address:\")\n",
    "    a = a + ((name,age,add),) ### tuple inside tuple ho so bracket ra comma pani chahinxa\n",
    "a    "
   ]
  },
  {
   "cell_type": "code",
   "execution_count": null,
   "id": "0f9e5f66",
   "metadata": {},
   "outputs": [],
   "source": [
    "## Creating tuple inside tuple\n",
    "# Way 2\n",
    "\n",
    "a=()\n",
    "n = int(input(\"Enter no. of data to enter\"))\n",
    "for i in range(n):\n",
    "    name = input(\"Enter your name:\")\n",
    "    age = int(input(\"Enter your age:\"))\n",
    "    add = input(\"Enter your address:\")\n",
    "    x = (name,age,add)  # x vanne tuple create vayo\n",
    "    a = a + (x,) # x vanne tuple lai a ma lagera concat gareko\n",
    "a    "
   ]
  }
 ],
 "metadata": {
  "kernelspec": {
   "display_name": "Python 3 (ipykernel)",
   "language": "python",
   "name": "python3"
  },
  "language_info": {
   "codemirror_mode": {
    "name": "ipython",
    "version": 3
   },
   "file_extension": ".py",
   "mimetype": "text/x-python",
   "name": "python",
   "nbconvert_exporter": "python",
   "pygments_lexer": "ipython3",
   "version": "3.9.13"
  }
 },
 "nbformat": 4,
 "nbformat_minor": 5
}
