{
 "cells": [
  {
   "cell_type": "code",
   "execution_count": 3,
   "id": "8fc8dc28",
   "metadata": {},
   "outputs": [
    {
     "name": "stdout",
     "output_type": "stream",
     "text": [
      "Enter value of n: 2\n",
      "Enter your name: Ram\n",
      "Enter your address: KTM\n",
      "Enter your phone no.: 986542\n",
      "Enter your name: Shyam\n",
      "Enter your address: BKT\n",
      "Enter your phone no.: 984515\n",
      "(('Ram', 'KTM', '986542'), ('Shyam', 'BKT', '984515'))\n"
     ]
    }
   ],
   "source": [
    "## creating a tuple inside tuple\n",
    "info= ()\n",
    "n = int(input(\"Enter value of n: \"))\n",
    "for i in range(n):\n",
    "    name = input(\"Enter your name: \")\n",
    "    add = input(\"Enter your address: \")\n",
    "    phone = input(\"Enter your phone no.: \")\n",
    "    a = (name,add,phone)\n",
    "    info = info + (a,)\n",
    "\n",
    "print(info)\n",
    "\n",
    "\n",
    "    "
   ]
  },
  {
   "cell_type": "code",
   "execution_count": 12,
   "id": "2c994711",
   "metadata": {},
   "outputs": [
    {
     "data": {
      "text/plain": [
       "[('Ram', 'KTM', '986542'), ('Shyam', 'BKT', '984515')]"
      ]
     },
     "execution_count": 12,
     "metadata": {},
     "output_type": "execute_result"
    }
   ],
   "source": [
    "l= list(info)\n",
    "l\n"
   ]
  },
  {
   "cell_type": "code",
   "execution_count": 25,
   "id": "d04848ce",
   "metadata": {},
   "outputs": [
    {
     "data": {
      "text/plain": [
       "'BKT'"
      ]
     },
     "execution_count": 25,
     "metadata": {},
     "output_type": "execute_result"
    }
   ],
   "source": [
    "\n"
   ]
  }
 ],
 "metadata": {
  "kernelspec": {
   "display_name": "Python 3 (ipykernel)",
   "language": "python",
   "name": "python3"
  },
  "language_info": {
   "codemirror_mode": {
    "name": "ipython",
    "version": 3
   },
   "file_extension": ".py",
   "mimetype": "text/x-python",
   "name": "python",
   "nbconvert_exporter": "python",
   "pygments_lexer": "ipython3",
   "version": "3.9.13"
  }
 },
 "nbformat": 4,
 "nbformat_minor": 5
}
