{
 "cells": [
  {
   "cell_type": "code",
   "execution_count": 3,
   "id": "95d187c2",
   "metadata": {},
   "outputs": [
    {
     "name": "stdout",
     "output_type": "stream",
     "text": [
      "{1: {'name': 'Rama', 'ntc': '98999', 'ncell': '9800'}, 2: {'name': 'Sita', 'ntc': '98965', 'ncell': '9811'}}\n"
     ]
    }
   ],
   "source": [
    "## Dictionary Inside dictionary###\n",
    "\n",
    "d = {1:{'name': 'Rama', 'ntc': '98999', 'ncell': '9800'},\n",
    "     2:{'name': 'Sita', 'ntc': '98965', 'ncell': '9811'}}\n",
    "print(d)"
   ]
  },
  {
   "cell_type": "code",
   "execution_count": 4,
   "id": "f49985bc",
   "metadata": {},
   "outputs": [
    {
     "name": "stdout",
     "output_type": "stream",
     "text": [
      "Enter value of n =2\n",
      "Enter your name: Ram\n",
      "Enter your NTC no.: 98622\n",
      "Enter Your Ncell no.: 981212\n",
      "Enter your name: Shyam\n",
      "Enter your NTC no.: 98451\n",
      "Enter Your Ncell no.: 981113\n",
      "{1: {'name': 'Ram', 'ntc': '98622', 'ncell': '981212'}, 2: {'name': 'Shyam', 'ntc': '98451', 'ncell': '981113'}}\n"
     ]
    }
   ],
   "source": [
    "### creating dictionary inside dictionary with user inputs\n",
    "\n",
    "\n",
    "info = {}\n",
    "\n",
    "n = int(input(\"Enter value of n =\"))\n",
    "\n",
    "for i in range(1,n+1):\n",
    "  \n",
    "    name = input(\"Enter your name: \")\n",
    "    ntc = input(\"Enter your NTC no.: \")\n",
    "    ncell = input(\"Enter Your Ncell no.: \")\n",
    "    data = {'name':name,'ntc':ntc,'ncell':ncell}\n",
    "    info[i] = data   # i is key\n",
    "    \n",
    "    \n",
    "print(info)"
   ]
  },
  {
   "cell_type": "code",
   "execution_count": 5,
   "id": "553e3f60",
   "metadata": {},
   "outputs": [
    {
     "data": {
      "text/plain": [
       "{'name': 'Ram', 'ntc': '98622', 'ncell': '981212'}"
      ]
     },
     "execution_count": 5,
     "metadata": {},
     "output_type": "execute_result"
    }
   ],
   "source": [
    "## Reading in  Dictionary Inside dictionary ###\n",
    "info=  {1: {'name': 'Ram', 'ntc': '98622', 'ncell': '981212'}, \n",
    "        2: {'name': 'Shyam', 'ntc': '98451', 'ncell': '981113'}}\n",
    "\n",
    "info[1]  # 1 key/index ko value return garxa"
   ]
  },
  {
   "cell_type": "code",
   "execution_count": 6,
   "id": "5b2fce99",
   "metadata": {},
   "outputs": [
    {
     "data": {
      "text/plain": [
       "'Ram'"
      ]
     },
     "execution_count": 6,
     "metadata": {},
     "output_type": "execute_result"
    }
   ],
   "source": [
    "info[1]['name'] "
   ]
  },
  {
   "cell_type": "code",
   "execution_count": 8,
   "id": "5429da7c",
   "metadata": {},
   "outputs": [
    {
     "data": {
      "text/plain": [
       "'Rama'"
      ]
     },
     "execution_count": 8,
     "metadata": {},
     "output_type": "execute_result"
    }
   ],
   "source": [
    "#update\n",
    "\n",
    "info [1]['name']= 'Rama'\n",
    "info[1]['name']    # updated name"
   ]
  },
  {
   "cell_type": "code",
   "execution_count": 9,
   "id": "57eb934a",
   "metadata": {},
   "outputs": [
    {
     "data": {
      "text/plain": [
       "{1: {'name': 'Rama', 'ntc': '98622', 'ncell': '981212'},\n",
       " 2: {'name': 'Shyam', 'ntc': '98451', 'ncell': '981113'},\n",
       " 3: {'name': 'Hari', 'ntc': '984551', 'ncell': '9811413'}}"
      ]
     },
     "execution_count": 9,
     "metadata": {},
     "output_type": "execute_result"
    }
   ],
   "source": [
    "## how to add new value in above 'info'\n",
    "\n",
    "info[3] = {'name': 'Hari', 'ntc': '984551', 'ncell': '9811413'}\n",
    "info"
   ]
  },
  {
   "cell_type": "code",
   "execution_count": 10,
   "id": "21d6c9c8",
   "metadata": {},
   "outputs": [
    {
     "data": {
      "text/plain": [
       "{1: {'ntc': '98622', 'ncell': '981212'},\n",
       " 2: {'name': 'Shyam', 'ntc': '98451', 'ncell': '981113'},\n",
       " 3: {'name': 'Hari', 'ntc': '984551', 'ncell': '9811413'}}"
      ]
     },
     "execution_count": 10,
     "metadata": {},
     "output_type": "execute_result"
    }
   ],
   "source": [
    "## delete\n",
    "\n",
    "del info[1]['name']  ## both key and values are deleted ## multiple or dynamic banauna lai loop use garne\n",
    "info"
   ]
  },
  {
   "cell_type": "code",
   "execution_count": 11,
   "id": "6a3bbdb9",
   "metadata": {},
   "outputs": [
    {
     "ename": "SyntaxError",
     "evalue": "invalid syntax (999719973.py, line 2)",
     "output_type": "error",
     "traceback": [
      "\u001b[1;36m  File \u001b[1;32m\"C:\\Users\\Rawjan\\AppData\\Local\\Temp\\ipykernel_5756\\999719973.py\"\u001b[1;36m, line \u001b[1;32m2\u001b[0m\n\u001b[1;33m    d = {1.1:'Apple'}, 'b': 'Ball'\u001b[0m\n\u001b[1;37m                          ^\u001b[0m\n\u001b[1;31mSyntaxError\u001b[0m\u001b[1;31m:\u001b[0m invalid syntax\n"
     ]
    }
   ],
   "source": [
    "## key ma dictionary, list rakhna mildaina\n",
    "d = {1.1:'Apple'}, 'b': 'Ball'\n",
    "d = {['Ram','Hari']:'986565','Shyam':984545}   # dict le Ram ra hari ko same number yesari vanna maildaina so, usue tuple"
   ]
  },
  {
   "cell_type": "code",
   "execution_count": 14,
   "id": "205280de",
   "metadata": {},
   "outputs": [
    {
     "data": {
      "text/plain": [
       "'986565'"
      ]
     },
     "execution_count": 14,
     "metadata": {},
     "output_type": "execute_result"
    }
   ],
   "source": [
    "d = {('Ram','Hari'):'986565','Shyam':'984545'}    # this tuple as dictionary ma yo kaam vayena\n",
    "d\n",
    "d[('Ram','Hari')]   # both use garda matra value return garxa"
   ]
  },
  {
   "cell_type": "code",
   "execution_count": null,
   "id": "c6930318",
   "metadata": {},
   "outputs": [],
   "source": []
  }
 ],
 "metadata": {
  "kernelspec": {
   "display_name": "Python 3 (ipykernel)",
   "language": "python",
   "name": "python3"
  },
  "language_info": {
   "codemirror_mode": {
    "name": "ipython",
    "version": 3
   },
   "file_extension": ".py",
   "mimetype": "text/x-python",
   "name": "python",
   "nbconvert_exporter": "python",
   "pygments_lexer": "ipython3",
   "version": "3.9.13"
  }
 },
 "nbformat": 4,
 "nbformat_minor": 5
}
