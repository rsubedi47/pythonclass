{
 "cells": [
  {
   "cell_type": "code",
   "execution_count": null,
   "id": "bb192950",
   "metadata": {},
   "outputs": [],
   "source": [
    "#try:\n",
    "#    < all code where might be error>\n",
    "#except:\n",
    "   # < catch the error>"
   ]
  },
  {
   "cell_type": "code",
   "execution_count": 1,
   "id": "013ada01",
   "metadata": {},
   "outputs": [
    {
     "name": "stdout",
     "output_type": "stream",
     "text": [
      "Enter a = adad\n",
      "Value of a should be integer\n"
     ]
    }
   ],
   "source": [
    "try:\n",
    "    a = int(input(\"Enter a = \"))\n",
    "except:\n",
    "    print(\"Value of a should be integer\")"
   ]
  },
  {
   "cell_type": "code",
   "execution_count": 2,
   "id": "38c38eeb",
   "metadata": {},
   "outputs": [
    {
     "name": "stdout",
     "output_type": "stream",
     "text": [
      "Enter a = adada\n"
     ]
    },
    {
     "ename": "ValueError",
     "evalue": "invalid literal for int() with base 10: 'adada'",
     "output_type": "error",
     "traceback": [
      "\u001b[1;31m---------------------------------------------------------------------------\u001b[0m",
      "\u001b[1;31mValueError\u001b[0m                                Traceback (most recent call last)",
      "\u001b[1;32m~\\AppData\\Local\\Temp\\ipykernel_2952\\1770536577.py\u001b[0m in \u001b[0;36m<module>\u001b[1;34m\u001b[0m\n\u001b[1;32m----> 1\u001b[1;33m \u001b[0ma\u001b[0m \u001b[1;33m=\u001b[0m \u001b[0mint\u001b[0m\u001b[1;33m(\u001b[0m\u001b[0minput\u001b[0m\u001b[1;33m(\u001b[0m\u001b[1;34m\"Enter a = \"\u001b[0m\u001b[1;33m)\u001b[0m\u001b[1;33m)\u001b[0m\u001b[1;33m\u001b[0m\u001b[1;33m\u001b[0m\u001b[0m\n\u001b[0m",
      "\u001b[1;31mValueError\u001b[0m: invalid literal for int() with base 10: 'adada'"
     ]
    }
   ],
   "source": [
    "## This ValueError is exception\n",
    "\n",
    "a = int(input(\"Enter a = \"))"
   ]
  },
  {
   "cell_type": "code",
   "execution_count": 3,
   "id": "4607dd79",
   "metadata": {},
   "outputs": [
    {
     "ename": "ZeroDivisionError",
     "evalue": "division by zero",
     "output_type": "error",
     "traceback": [
      "\u001b[1;31m---------------------------------------------------------------------------\u001b[0m",
      "\u001b[1;31mZeroDivisionError\u001b[0m                         Traceback (most recent call last)",
      "\u001b[1;32m~\\AppData\\Local\\Temp\\ipykernel_2952\\545937122.py\u001b[0m in \u001b[0;36m<module>\u001b[1;34m\u001b[0m\n\u001b[1;32m----> 1\u001b[1;33m \u001b[0mb\u001b[0m \u001b[1;33m=\u001b[0m \u001b[1;36m10\u001b[0m\u001b[1;33m/\u001b[0m\u001b[1;36m0\u001b[0m\u001b[1;33m\u001b[0m\u001b[1;33m\u001b[0m\u001b[0m\n\u001b[0m\u001b[0;32m      2\u001b[0m \u001b[0mprint\u001b[0m\u001b[1;33m(\u001b[0m\u001b[0mb\u001b[0m\u001b[1;33m)\u001b[0m\u001b[1;33m\u001b[0m\u001b[1;33m\u001b[0m\u001b[0m\n",
      "\u001b[1;31mZeroDivisionError\u001b[0m: division by zero"
     ]
    }
   ],
   "source": [
    "b = 10/0\n",
    "print(b)"
   ]
  },
  {
   "cell_type": "code",
   "execution_count": 5,
   "id": "1f86009f",
   "metadata": {},
   "outputs": [
    {
     "name": "stdout",
     "output_type": "stream",
     "text": [
      "Enter a = ds\n",
      "The input should be int.\n"
     ]
    }
   ],
   "source": [
    "## try & catch ( Catching two of errors)\n",
    "## Yaha two types of error\n",
    "    #1. a ra b ma string halyo vane    = Value Error\n",
    "    #2. a/b garda b ma 0 xa vane i.e. infinity  = ZeroDivisionError\n",
    "\n",
    "\n",
    "try:\n",
    "    a = int(input(\"Enter a = \"))\n",
    "    b = int(input(\"Enter b = \"))\n",
    "    c = a/b\n",
    "    print(c)\n",
    "    \n",
    "except ValueError:    ## yo 'valueerror aayo vane yesle catch garxa' i.e string input diyo vane yo error aauxa\n",
    "    print(\"The input should be int.\")\n",
    "    \n",
    "except ZeroDivisionError:   ## if b zero vayera error aayo vane yesle catch garxa\n",
    "    print(\"The value of b should not be 0\")"
   ]
  },
  {
   "cell_type": "code",
   "execution_count": 11,
   "id": "50dfa466",
   "metadata": {},
   "outputs": [
    {
     "name": "stdout",
     "output_type": "stream",
     "text": [
      "Enter a = dfdf\n",
      "The input should be int.\n",
      "Enter a = 4\n",
      "Enter b = 5\n",
      "0.8\n"
     ]
    }
   ],
   "source": [
    "# Recursive Function and Exception Handling\n",
    "\n",
    "\n",
    "def cal():\n",
    "    try:\n",
    "        a = int(input(\"Enter a = \"))\n",
    "        b = int(input(\"Enter b = \"))\n",
    "        c = a/b\n",
    "        print(c)\n",
    "    \n",
    "    except ValueError:    ## yo 'ValueError aayo vane yesle catch garxa' i.e string input diyo vane yo error aauxa\n",
    "        print(\"The input should be int.\")\n",
    "        cal()  ## error rectify navayesamma input magne by running fucntion. ## Recursion\n",
    "    \n",
    "    except ZeroDivisionError:   ## if b zero vayera error aayo vane yesle catch garxa\n",
    "        print(\"The value of b should not be 0\")\n",
    "        cal()## error rectify navayesamma input magne by running fucntion. ## Recursion\n",
    "        \n",
    "        \n",
    "cal()"
   ]
  },
  {
   "cell_type": "code",
   "execution_count": 12,
   "id": "72db2ee8",
   "metadata": {},
   "outputs": [
    {
     "ename": "ZeroDivisionError",
     "evalue": "",
     "output_type": "error",
     "traceback": [
      "\u001b[1;31m---------------------------------------------------------------------------\u001b[0m",
      "\u001b[1;31mZeroDivisionError\u001b[0m                         Traceback (most recent call last)",
      "\u001b[1;32m~\\AppData\\Local\\Temp\\ipykernel_2952\\73272393.py\u001b[0m in \u001b[0;36m<module>\u001b[1;34m\u001b[0m\n\u001b[0;32m      1\u001b[0m \u001b[1;31m### Raising an Exception ( knowingly exception raise garne)\u001b[0m\u001b[1;33m\u001b[0m\u001b[1;33m\u001b[0m\u001b[0m\n\u001b[1;32m----> 2\u001b[1;33m \u001b[1;32mraise\u001b[0m \u001b[0mZeroDivisionError\u001b[0m\u001b[1;33m\u001b[0m\u001b[1;33m\u001b[0m\u001b[0m\n\u001b[0m",
      "\u001b[1;31mZeroDivisionError\u001b[0m: "
     ]
    }
   ],
   "source": [
    "### Raising an Exception ( knowingly exception raise garne)#####\n",
    "\n",
    "raise ZeroDivisionError"
   ]
  },
  {
   "cell_type": "code",
   "execution_count": null,
   "id": "400b88b1",
   "metadata": {},
   "outputs": [],
   "source": [
    "# Normal code\n",
    "\n",
    "a = int(input(\"Enter a = \"))\n",
    "b = int(input(\"Enter b = \"))\n",
    "\n",
    "if b == 0:\n",
    "    print( \"Value of b cannot be zero\")\n",
    "else:\n",
    "    c = a/b\n",
    "print(c)"
   ]
  },
  {
   "cell_type": "code",
   "execution_count": 13,
   "id": "522445ef",
   "metadata": {},
   "outputs": [
    {
     "name": "stdout",
     "output_type": "stream",
     "text": [
      "Enter a = 4\n",
      "Enter b = 0\n",
      "The value of b cannot be zero\n"
     ]
    }
   ],
   "source": [
    "## Above code with raising exception\n",
    "a = int(input(\"Enter a = \"))\n",
    "b = int(input(\"Enter b = \"))\n",
    "try:\n",
    "    if b != 0:\n",
    "        c = a/b\n",
    "        print(c)\n",
    "    else:\n",
    "        raise ZeroDivisionError\n",
    "\n",
    "except: # else bata raise gareko error catch gareko\n",
    "    print(\"The value of b cannot be zero\")\n",
    "\n",
    "## flow:\n",
    "    # . if b == 0 then, 'else' block run hunxa ra error aauxa , tyo error catch garna 'except' block run hunxa.\n",
    "\n",
    "# note: try ra except bichma ma aru code lekhna mildaina so, raise use garnalai normally if else use garinxa.\n"
   ]
  },
  {
   "cell_type": "code",
   "execution_count": 19,
   "id": "9102d11c",
   "metadata": {},
   "outputs": [
    {
     "name": "stdout",
     "output_type": "stream",
     "text": [
      "Enter a = 5\n",
      "Enter b = 0\n",
      "The value of b cannot be zero\n"
     ]
    }
   ],
   "source": [
    "\n",
    "## with elif and multiple exceptions raised ## aafai pani error aauxa but here we are just looking an example\n",
    "\n",
    "try:\n",
    "    a = int(input(\"Enter a = \"))\n",
    "    b = int(input(\"Enter b = \"))\n",
    "    \n",
    "    if b != 0:\n",
    "        c = a/b\n",
    "        print(c)\n",
    "        \n",
    "    elif type(a)== 'str' or type(b)== 'str':\n",
    "        raise Error\n",
    "    \n",
    "    else:\n",
    "        raise ZeroDivisionError\n",
    "\n",
    "except ZeroDivisionError: # else bata raise gareko error catch gareko\n",
    "    print(\"The value of b cannot be zero\")\n",
    "except ValueError:\n",
    "    print(\"The value of a and b should be integer\")\n",
    "    "
   ]
  },
  {
   "cell_type": "code",
   "execution_count": 20,
   "id": "0d3a4b04",
   "metadata": {},
   "outputs": [
    {
     "name": "stdout",
     "output_type": "stream",
     "text": [
      "Enter a = ten\n",
      "Enter b = 0\n",
      "The value of a and b should be integer\n"
     ]
    }
   ],
   "source": [
    "## another example  (Good example) ####!!!\n",
    "\n",
    "try:\n",
    "    a = input(\"Enter a = \")  # srting mageko\n",
    "    b = input(\"Enter b = \")\n",
    "    \n",
    "    try:\n",
    "        a = int(a)    # 'ten' input liyo vane error aauxa as int ma convert garna mildaina.\n",
    "        b = int(b)\n",
    "    \n",
    "    except:\n",
    "        raise ValueError\n",
    "            \n",
    "    if b != 0:\n",
    "        c = a/b\n",
    "        print(c)\n",
    "        \n",
    "    else:\n",
    "        raise ZeroDivisionError\n",
    "\n",
    "except ZeroDivisionError: # else bata raise gareko error catch gareko\n",
    "    print(\"The value of b cannot be zero\")\n",
    "except ValueError:\n",
    "    print(\"The value of a and b should be integer\")\n",
    "    "
   ]
  },
  {
   "cell_type": "code",
   "execution_count": null,
   "id": "0af5e534",
   "metadata": {},
   "outputs": [],
   "source": [
    "############### Assertion Error #######"
   ]
  },
  {
   "cell_type": "code",
   "execution_count": 23,
   "id": "3d412481",
   "metadata": {},
   "outputs": [
    {
     "name": "stdout",
     "output_type": "stream",
     "text": [
      "Enter age = 00\n"
     ]
    },
    {
     "ename": "AssertionError",
     "evalue": "",
     "output_type": "error",
     "traceback": [
      "\u001b[1;31m---------------------------------------------------------------------------\u001b[0m",
      "\u001b[1;31mAssertionError\u001b[0m                            Traceback (most recent call last)",
      "\u001b[1;32m~\\AppData\\Local\\Temp\\ipykernel_2952\\2379263585.py\u001b[0m in \u001b[0;36m<module>\u001b[1;34m\u001b[0m\n\u001b[0;32m      1\u001b[0m \u001b[0ma\u001b[0m \u001b[1;33m=\u001b[0m \u001b[0mint\u001b[0m\u001b[1;33m(\u001b[0m\u001b[0minput\u001b[0m\u001b[1;33m(\u001b[0m\u001b[1;34m\"Enter age = \"\u001b[0m\u001b[1;33m)\u001b[0m\u001b[1;33m)\u001b[0m\u001b[1;33m\u001b[0m\u001b[1;33m\u001b[0m\u001b[0m\n\u001b[1;32m----> 2\u001b[1;33m \u001b[1;32massert\u001b[0m \u001b[0ma\u001b[0m\u001b[1;33m>\u001b[0m\u001b[1;36m19\u001b[0m    \u001b[1;31m## assert paxi true return vayo vane error mandaina.\u001b[0m\u001b[1;33m\u001b[0m\u001b[1;33m\u001b[0m\u001b[0m\n\u001b[0m\u001b[0;32m      3\u001b[0m \u001b[0mprint\u001b[0m\u001b[1;33m(\u001b[0m\u001b[1;34m\"Your age is 20+ accepted\"\u001b[0m\u001b[1;33m)\u001b[0m\u001b[1;33m\u001b[0m\u001b[1;33m\u001b[0m\u001b[0m\n",
      "\u001b[1;31mAssertionError\u001b[0m: "
     ]
    }
   ],
   "source": [
    "# Eg 1\n",
    "\n",
    "a = int(input(\"Enter age = \"))\n",
    "assert a>19    ## assert paxi true return vayo vane error mandaina.\n",
    "print(\"Your age is 20+ accepted\")"
   ]
  },
  {
   "cell_type": "code",
   "execution_count": 24,
   "id": "8b6c0fcf",
   "metadata": {},
   "outputs": [
    {
     "name": "stdout",
     "output_type": "stream",
     "text": [
      "Enter age = 11\n",
      "You are not accepted\n"
     ]
    }
   ],
   "source": [
    "\n",
    "\n",
    "### catching assertion error    == if else garda pani hunxa( but not recommended)\n",
    "try :\n",
    "    a = int(input(\"Enter age = \"))\n",
    "    assert a>19    ## assert paxi true return vayo vane error mandaina.\n",
    "    print(\"Your age is 20+ accepted\")\n",
    "except:       ## or except AssertionError\n",
    "    print(\"You are not accepted\")"
   ]
  }
 ],
 "metadata": {
  "kernelspec": {
   "display_name": "Python 3 (ipykernel)",
   "language": "python",
   "name": "python3"
  },
  "language_info": {
   "codemirror_mode": {
    "name": "ipython",
    "version": 3
   },
   "file_extension": ".py",
   "mimetype": "text/x-python",
   "name": "python",
   "nbconvert_exporter": "python",
   "pygments_lexer": "ipython3",
   "version": "3.9.13"
  }
 },
 "nbformat": 4,
 "nbformat_minor": 5
}
